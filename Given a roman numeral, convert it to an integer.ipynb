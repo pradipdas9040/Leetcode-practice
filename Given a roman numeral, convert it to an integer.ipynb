{
 "cells": [
  {
   "cell_type": "markdown",
   "id": "6744cd97",
   "metadata": {},
   "source": [
    "***Given a roman numeral, convert it to an integer.***   "
   ]
  },
  {
   "cell_type": "markdown",
   "id": "9d070eb2",
   "metadata": {},
   "source": [
    "**Input:** s = \"LVIII\"  \n",
    "**Output:** 58  \n",
    "**Explanation:** L = 50, V= 5, III = 3."
   ]
  },
  {
   "cell_type": "code",
   "execution_count": 1,
   "id": "147092d6",
   "metadata": {},
   "outputs": [],
   "source": [
    "def romanToInt(s):\n",
    "        val = 0\n",
    "        D = { 'I' : 1,\n",
    "              'V' : 5,\n",
    "              'X' : 10,\n",
    "              'L' : 50,\n",
    "              'C' : 100,\n",
    "              'D' : 500,\n",
    "              'M' : 1000,\n",
    "              'IV' : 4,\n",
    "              'IX' : 9,\n",
    "              'XL' : 40,\n",
    "              'XC' : 90,\n",
    "              'CD' : 400,\n",
    "              'CM' : 900}\n",
    "        L, L1, i = list(s), [], 0\n",
    "        while i < len(L):\n",
    "            if i<len(L) and (i+1)<len(L):\n",
    "                if L[i] == 'I' and L[i+1] == 'V':\n",
    "                    val += D[L[i]+L[i+1]]\n",
    "                    i += 1\n",
    "                elif L[i] == 'I' and L[i+1] == 'X':\n",
    "                    val += D[L[i]+L[i+1]]\n",
    "                    i += 1\n",
    "                elif L[i] == 'X' and L[i+1] == 'C':\n",
    "                    val += D[L[i]+L[i+1]]\n",
    "                    i += 1\n",
    "                elif L[i] == 'X' and L[i+1] == 'L':\n",
    "                    val += D[L[i]+L[i+1]]\n",
    "                    i += 1\n",
    "                elif L[i] == 'C' and L[i+1] == 'D':\n",
    "                    val += D[L[i]+L[i+1]]\n",
    "                    i += 1\n",
    "                elif L[i] == 'C' and L[i+1] == 'M':\n",
    "                    val += D[L[i]+L[i+1]]\n",
    "                    i += 1    \n",
    "                else:\n",
    "                    val += D[L[i]]\n",
    "            else:val += D[L[i]]\n",
    "            i += 1\n",
    "        return val"
   ]
  },
  {
   "cell_type": "code",
   "execution_count": 2,
   "id": "7ffa3053",
   "metadata": {},
   "outputs": [
    {
     "data": {
      "text/plain": [
       "3045"
      ]
     },
     "execution_count": 2,
     "metadata": {},
     "output_type": "execute_result"
    }
   ],
   "source": [
    "romanToInt(\"MMMXLV\")"
   ]
  }
 ],
 "metadata": {
  "kernelspec": {
   "display_name": "Python 3 (ipykernel)",
   "language": "python",
   "name": "python3"
  },
  "language_info": {
   "codemirror_mode": {
    "name": "ipython",
    "version": 3
   },
   "file_extension": ".py",
   "mimetype": "text/x-python",
   "name": "python",
   "nbconvert_exporter": "python",
   "pygments_lexer": "ipython3",
   "version": "3.10.2"
  }
 },
 "nbformat": 4,
 "nbformat_minor": 5
}
