{
 "cells": [
  {
   "cell_type": "markdown",
   "id": "a3a7fb0e",
   "metadata": {},
   "source": [
    "# Insert Delete GetRandom O(1)\n",
    "\n",
    "Implement the `RandomizedSet` class:\n",
    "\n",
    "- `RandomizedSet()` Initializes the `RandomizedSet` object.\n",
    "- `bool insert(int val)` Inserts an item `val` into the set if not present. Returns `true` if the item was not present, `false` otherwise.\n",
    "- `bool remove(int val)` Removes an item `val` from the set if present. Returns `true` if the item was present, `false` otherwise.\n",
    "- `int getRandom()` Returns a random element from the current set of elements (it's guaranteed that at least one element exists when this method is called). Each element must have the same probability of being returned.\n",
    "\n",
    "You must implement the functions of the class such that each function works in average `O(1)` time complexity.\n",
    "\n",
    "## Example 1:\n",
    "\n",
    "- Input: \n",
    "```plain_text[]\n",
    "    [\"RandomizedSet\", \"insert\", \"remove\", \"insert\", \"getRandom\", \"remove\", \"insert\", \"getRandom\"]\n",
    "    [[], [1], [2], [2], [], [1], [2], []]\n",
    "```\n",
    "- Output: \n",
    "```plain_text[]\n",
    "    [null, true, false, true, 2, true, false, 2]\n",
    "```\n",
    "- Explanation: \n",
    "```plain_text[]\n",
    "    RandomizedSet randomizedSet = new RandomizedSet();\n",
    "    randomizedSet.insert(1); // Inserts 1 to the set. Returns true as 1 was inserted successfully.\n",
    "    randomizedSet.remove(2); // Returns false as 2 does not exist in the set.\n",
    "    randomizedSet.insert(2); // Inserts 2 to the set, returns true. Set now contains [1,2].\n",
    "    randomizedSet.getRandom(); // getRandom() should return either 1 or 2 randomly.\n",
    "    randomizedSet.remove(1); // Removes 1 from the set, returns true. Set now contains [2].\n",
    "    randomizedSet.insert(2); // 2 was already in the set, so return false.\n",
    "    randomizedSet.getRandom(); // Since 2 is the only number in the set, getRandom() will always return 2.\n",
    "```"
   ]
  },
  {
   "cell_type": "code",
   "execution_count": 1,
   "id": "53aae12b",
   "metadata": {},
   "outputs": [],
   "source": [
    "import random"
   ]
  },
  {
   "cell_type": "code",
   "execution_count": 2,
   "id": "f7178807",
   "metadata": {},
   "outputs": [],
   "source": [
    "class RandomizedSet:\n",
    "\n",
    "    def __init__(self):\n",
    "        self.num_map = {}\n",
    "        self.num_list = []\n",
    "\n",
    "    def insert(self, val: int) -> bool:\n",
    "        if val in self.num_map:\n",
    "            return False\n",
    "        self.num_map[val] = len(self.num_list)\n",
    "        self.num_list.append(val)\n",
    "        return True\n",
    "\n",
    "    def remove(self, val: int) -> bool:\n",
    "        if val in self.num_map:\n",
    "            idx = self.num_map[val]\n",
    "            last_ele = self.num_list[-1]\n",
    "            self.num_list[idx] = last_ele\n",
    "            self.num_map[last_ele] = idx\n",
    "            self.num_list.pop()\n",
    "            self.num_map.pop(val)\n",
    "            return True\n",
    "        return False\n",
    "\n",
    "    def getRandom(self) -> int:\n",
    "        return random.choice(self.num_list)"
   ]
  },
  {
   "cell_type": "code",
   "execution_count": 3,
   "id": "ca8bb2c1",
   "metadata": {},
   "outputs": [
    {
     "name": "stdout",
     "output_type": "stream",
     "text": [
      "True False True 1 True False 2\n"
     ]
    }
   ],
   "source": [
    "# Your RandomizedSet object will be instantiated and called as such:\n",
    "obj = RandomizedSet()\n",
    "param_1 = obj.insert(1)\n",
    "param_2 = obj.remove(2)\n",
    "param_3 = obj.insert(2)\n",
    "param_4 = obj.getRandom()\n",
    "param_5 = obj.remove(1)\n",
    "param_6 = obj.insert(2)\n",
    "param_7 = obj.getRandom()\n",
    "\n",
    "print(param_1, param_2, param_3, param_4, param_5, param_6, param_7)"
   ]
  },
  {
   "cell_type": "code",
   "execution_count": null,
   "id": "7ea0c48b",
   "metadata": {},
   "outputs": [],
   "source": []
  }
 ],
 "metadata": {
  "kernelspec": {
   "display_name": "Python 3",
   "language": "python",
   "name": "python3"
  },
  "language_info": {
   "codemirror_mode": {
    "name": "ipython",
    "version": 3
   },
   "file_extension": ".py",
   "mimetype": "text/x-python",
   "name": "python",
   "nbconvert_exporter": "python",
   "pygments_lexer": "ipython3",
   "version": "3.12.3"
  }
 },
 "nbformat": 4,
 "nbformat_minor": 5
}
