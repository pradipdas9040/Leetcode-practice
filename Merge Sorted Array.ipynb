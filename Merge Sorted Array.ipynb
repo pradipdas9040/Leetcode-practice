{
 "cells": [
  {
   "cell_type": "markdown",
   "id": "a3a7fb0e",
   "metadata": {},
   "source": [
    "# Merge Sorted Array\n",
    "\n",
    "You are given two integer arrays `nums1` and `nums2`, sorted in non-decreasing order, and two integers `m` and `n`, representing the number of elements in `nums1` and `nums2` respectively.\n",
    "\n",
    "Merge `nums1` and `nums2` into a single array sorted in non-decreasing order.\n",
    "\n",
    "The final sorted array should not be returned by the function, but instead be stored inside the array `nums1`. To accommodate this, `nums1` has a length of `m + n`, where the first m elements denote the elements that should be merged, and the last `n` elements are set to 0 and should be ignored. `nums2` has a length of `n`.\n",
    "\n",
    "## Example 1:\n",
    "\n",
    "- Input: nums1 = [1,2,3,0,0,0], m = 3, nums2 = [2,5,6], n = 3\n",
    "- Output: [1,2,2,3,5,6]\n",
    "- Explanation: \n",
    "```plaintext[]\n",
    "    The arrays we are merging are [1,2,3] and [2,5,6].\n",
    "    The result of the merge is [1,2,2,3,5,6] with the underlined elements coming from nums1.\n",
    "```"
   ]
  },
  {
   "cell_type": "code",
   "execution_count": 1,
   "id": "f7178807",
   "metadata": {},
   "outputs": [],
   "source": [
    "def merge(nums1: list[int], m: int, nums2: list[int], n: int) -> list:\n",
    "    \"\"\"\n",
    "    Do not return anything, modify nums1 in-place instead.\n",
    "    \"\"\"\n",
    "    result = []\n",
    "    i, j = 0, 0\n",
    "    while i < m and j < n:\n",
    "        if nums1[i] < nums2[j]:\n",
    "            result.append(nums1[i])\n",
    "            i += 1\n",
    "            continue\n",
    "        if nums2[j] < nums1[i]:\n",
    "            result.append(nums2[j])\n",
    "            j += 1\n",
    "            continue\n",
    "        if nums2[j] == nums1[i]:\n",
    "            result.append(nums1[i])\n",
    "            result.append(nums2[j])\n",
    "            i += 1\n",
    "            j += 1\n",
    "    if i < m:\n",
    "        result += nums1[i: m]\n",
    "    if j < n:\n",
    "        result += nums2[j: n]\n",
    "    nums1.clear()\n",
    "    nums1[:] = result\n",
    "    return nums1"
   ]
  },
  {
   "cell_type": "code",
   "execution_count": 2,
   "id": "ca8bb2c1",
   "metadata": {},
   "outputs": [
    {
     "data": {
      "text/plain": [
       "[1, 2, 2, 3, 5, 6]"
      ]
     },
     "execution_count": 2,
     "metadata": {},
     "output_type": "execute_result"
    }
   ],
   "source": [
    "nums1 = [1,2,3,0,0,0]\n",
    "m = 3\n",
    "nums2 = [2,5,6]\n",
    "n = 3\n",
    "merge(nums1, m, nums2, n)"
   ]
  },
  {
   "cell_type": "code",
   "execution_count": 3,
   "id": "7ea0c48b",
   "metadata": {},
   "outputs": [
    {
     "data": {
      "text/plain": [
       "[1]"
      ]
     },
     "execution_count": 3,
     "metadata": {},
     "output_type": "execute_result"
    }
   ],
   "source": [
    "nums1 = [1]\n",
    "m = 1\n",
    "nums2 = []\n",
    "n = 0\n",
    "merge(nums1, m, nums2, n)"
   ]
  },
  {
   "cell_type": "markdown",
   "id": "9366fef2",
   "metadata": {},
   "source": [
    "#### Code optimized"
   ]
  },
  {
   "cell_type": "code",
   "execution_count": 4,
   "id": "53e1b093",
   "metadata": {},
   "outputs": [],
   "source": [
    "def merge(nums1: list[int], m: int, nums2: list[int], n: int) -> None:\n",
    "    if not nums1 and nums2: \n",
    "        return None \n",
    "        \n",
    "    i = m - 1\n",
    "    j = n - 1\n",
    "    k = m + n - 1\n",
    "\n",
    "    while j >= 0:\n",
    "        if i >= 0 and nums1[i] > nums2[j]: \n",
    "            nums1[k] = nums1[i]\n",
    "            i -= 1\n",
    "        else: \n",
    "            nums1[k] = nums2[j]\n",
    "            j -= 1\n",
    "        k -= 1"
   ]
  },
  {
   "cell_type": "code",
   "execution_count": null,
   "id": "e46ac450",
   "metadata": {},
   "outputs": [],
   "source": []
  }
 ],
 "metadata": {
  "kernelspec": {
   "display_name": "Python 3",
   "language": "python",
   "name": "python3"
  },
  "language_info": {
   "codemirror_mode": {
    "name": "ipython",
    "version": 3
   },
   "file_extension": ".py",
   "mimetype": "text/x-python",
   "name": "python",
   "nbconvert_exporter": "python",
   "pygments_lexer": "ipython3",
   "version": "3.12.3"
  }
 },
 "nbformat": 4,
 "nbformat_minor": 5
}
