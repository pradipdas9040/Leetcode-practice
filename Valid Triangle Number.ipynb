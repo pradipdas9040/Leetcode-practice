{
 "cells": [
  {
   "cell_type": "markdown",
   "id": "a3a7fb0e",
   "metadata": {},
   "source": [
    "# Valid Triangle Number\n",
    "\n",
    "Given an integer array nums, return the number of triplets chosen from the array that can make triangles if we take them as side lengths of a triangle.\n",
    "\n",
    "## Example 1:\n",
    "\n",
    "- Input: nums = [2,2,3,4]\n",
    "- Output: 3\n",
    "- Explanation: \n",
    "```plaintext[]\n",
    "    Valid combinations are: \n",
    "    2,3,4 (using the first 2)\n",
    "    2,3,4 (using the second 2)\n",
    "    2,2,3\n",
    "```"
   ]
  },
  {
   "cell_type": "code",
   "execution_count": 1,
   "id": "f7178807",
   "metadata": {},
   "outputs": [],
   "source": [
    "def triangleNumber(nums: list[int]) -> int:\n",
    "    nums.sort()\n",
    "    n = len(nums)\n",
    "    count = 0\n",
    "    for i in range(n-1, -1, -1):\n",
    "        right, left = i-1, 0\n",
    "        while left < right:\n",
    "            if nums[left] + nums[right] > nums[i]:\n",
    "                count += right - left\n",
    "                right -= 1\n",
    "            else:\n",
    "                left += 1                    \n",
    "    return count"
   ]
  },
  {
   "cell_type": "code",
   "execution_count": 2,
   "id": "ca8bb2c1",
   "metadata": {},
   "outputs": [
    {
     "data": {
      "text/plain": [
       "3"
      ]
     },
     "execution_count": 2,
     "metadata": {},
     "output_type": "execute_result"
    }
   ],
   "source": [
    "nums = [2,2,3,4]\n",
    "triangleNumber(nums)"
   ]
  },
  {
   "cell_type": "code",
   "execution_count": 3,
   "id": "7ea0c48b",
   "metadata": {},
   "outputs": [
    {
     "data": {
      "text/plain": [
       "4"
      ]
     },
     "execution_count": 3,
     "metadata": {},
     "output_type": "execute_result"
    }
   ],
   "source": [
    "nums = [4,2,3,4]\n",
    "triangleNumber(nums)"
   ]
  },
  {
   "cell_type": "code",
   "execution_count": null,
   "id": "f32e556e",
   "metadata": {},
   "outputs": [],
   "source": []
  }
 ],
 "metadata": {
  "kernelspec": {
   "display_name": "Python 3",
   "language": "python",
   "name": "python3"
  },
  "language_info": {
   "codemirror_mode": {
    "name": "ipython",
    "version": 3
   },
   "file_extension": ".py",
   "mimetype": "text/x-python",
   "name": "python",
   "nbconvert_exporter": "python",
   "pygments_lexer": "ipython3",
   "version": "3.12.3"
  }
 },
 "nbformat": 4,
 "nbformat_minor": 5
}
