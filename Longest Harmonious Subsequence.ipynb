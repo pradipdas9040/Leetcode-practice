{
 "cells": [
  {
   "cell_type": "markdown",
   "metadata": {},
   "source": [
    "## Longest Harmonious Subsequence\n",
    "\n",
    "We define a harmonious array as an array where the difference between its maximum value and its minimum value is exactly 1.\n",
    "\n",
    "Given an integer array nums, return the length of its longest harmonious subsequence among all its possible subsequences.\n",
    "\n",
    "#### Example 1:\n",
    "\n",
    "- Input:  nums = [1,3,2,2,5,2,3,7]\n",
    "- Output: 5\n",
    "- Explanation:\n",
    "```plaintext[]\n",
    "    The longest harmonious subsequence is [3,2,2,2,3].\n",
    "```"
   ]
  },
  {
   "cell_type": "code",
   "execution_count": 1,
   "metadata": {},
   "outputs": [],
   "source": [
    "from collections import Counter\n",
    "def findLHS(nums: list[int]) -> int:\n",
    "    nums_map = Counter(nums)\n",
    "    max_len = 0\n",
    "    distinct_nums = sorted(list(nums_map.keys()))\n",
    "    n = len(distinct_nums)\n",
    "    for i in range(n-1):\n",
    "            if distinct_nums[i+1] - distinct_nums[i] == 1:\n",
    "                max_len = max(max_len, nums_map[distinct_nums[i+1]] + nums_map[distinct_nums[i]])\n",
    "    return max_len"
   ]
  },
  {
   "cell_type": "code",
   "execution_count": 2,
   "metadata": {},
   "outputs": [
    {
     "data": {
      "text/plain": [
       "5"
      ]
     },
     "execution_count": 2,
     "metadata": {},
     "output_type": "execute_result"
    }
   ],
   "source": [
    "nums = [1,3,2,2,5,2,3,7]\n",
    "findLHS(nums)"
   ]
  },
  {
   "cell_type": "markdown",
   "metadata": {},
   "source": [
    "### Optimized code"
   ]
  },
  {
   "cell_type": "code",
   "execution_count": 3,
   "metadata": {},
   "outputs": [],
   "source": [
    "def findLHS2(nums: list[int]) -> int:\n",
    "    count = Counter(nums)\n",
    "    max_len = 0\n",
    "    \n",
    "    for num in count:\n",
    "        if num + 1 in count:\n",
    "            max_len = max(max_len, count[num] + count[num + 1])\n",
    "    \n",
    "    return max_len"
   ]
  },
  {
   "cell_type": "code",
   "execution_count": 4,
   "metadata": {},
   "outputs": [
    {
     "data": {
      "text/plain": [
       "2"
      ]
     },
     "execution_count": 4,
     "metadata": {},
     "output_type": "execute_result"
    }
   ],
   "source": [
    "nums = [1,2,3,4]\n",
    "findLHS2(nums)"
   ]
  }
 ],
 "metadata": {
  "kernelspec": {
   "display_name": "Python 3",
   "language": "python",
   "name": "python3"
  },
  "language_info": {
   "codemirror_mode": {
    "name": "ipython",
    "version": 3
   },
   "file_extension": ".py",
   "mimetype": "text/x-python",
   "name": "python",
   "nbconvert_exporter": "python",
   "pygments_lexer": "ipython3",
   "version": "3.12.3"
  }
 },
 "nbformat": 4,
 "nbformat_minor": 2
}
