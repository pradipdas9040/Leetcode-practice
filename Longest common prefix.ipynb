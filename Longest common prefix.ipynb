{
 "cells": [
  {
   "cell_type": "markdown",
   "id": "cea47f95",
   "metadata": {},
   "source": [
    "***Write a function to find the longest common prefix string amongst an array of strings.***  \n",
    "***If there is no common prefix, return an empty string \"\".***"
   ]
  },
  {
   "cell_type": "markdown",
   "id": "f57e6974",
   "metadata": {},
   "source": [
    "***Input:*** strs = [\"flower\",\"flow\",\"flight\"]  \n",
    "***Output:*** \"fl\""
   ]
  },
  {
   "cell_type": "code",
   "execution_count": 1,
   "id": "05ae0fa4",
   "metadata": {},
   "outputs": [],
   "source": [
    "def longestCommonPrefix(strs) :\n",
    "        pfx = \"\"\n",
    "        L = []\n",
    "        for i in strs:\n",
    "            L.append(list(i))\n",
    "        flag = False\n",
    "        j = 0\n",
    "        if len(strs)>1 and L[0] != []:\n",
    "            while True:\n",
    "                for k in range(len(L)-1):\n",
    "                    if j<len(L[k]) and j<len(L[k+1]) and L[k][j] == L[k+1][j]:\n",
    "                        flag = True\n",
    "                    else: \n",
    "                        flag = False\n",
    "                        break\n",
    "                if (flag==True):\n",
    "                    pfx += L[k][j]\n",
    "                else : \n",
    "                    break\n",
    "                j += 1\n",
    "        else: return strs[0]\n",
    "        return pfx"
   ]
  },
  {
   "cell_type": "code",
   "execution_count": 2,
   "id": "574677e6",
   "metadata": {},
   "outputs": [
    {
     "data": {
      "text/plain": [
       "'fl'"
      ]
     },
     "execution_count": 2,
     "metadata": {},
     "output_type": "execute_result"
    }
   ],
   "source": [
    "strs = [\"flower\",\"flow\",\"flight\"]\n",
    "longestCommonPrefix(strs)"
   ]
  },
  {
   "cell_type": "code",
   "execution_count": 3,
   "id": "46121431",
   "metadata": {},
   "outputs": [
    {
     "data": {
      "text/plain": [
       "''"
      ]
     },
     "execution_count": 3,
     "metadata": {},
     "output_type": "execute_result"
    }
   ],
   "source": [
    "strs = [\"gflower\",\"flow\",\"flight\"]\n",
    "longestCommonPrefix(strs)"
   ]
  }
 ],
 "metadata": {
  "kernelspec": {
   "display_name": "Python 3 (ipykernel)",
   "language": "python",
   "name": "python3"
  },
  "language_info": {
   "codemirror_mode": {
    "name": "ipython",
    "version": 3
   },
   "file_extension": ".py",
   "mimetype": "text/x-python",
   "name": "python",
   "nbconvert_exporter": "python",
   "pygments_lexer": "ipython3",
   "version": "3.10.2"
  }
 },
 "nbformat": 4,
 "nbformat_minor": 5
}
