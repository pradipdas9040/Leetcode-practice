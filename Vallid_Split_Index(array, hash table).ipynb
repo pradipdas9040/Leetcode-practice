{
 "cells": [
  {
   "cell_type": "markdown",
   "metadata": {},
   "source": [
    "## Minimum Index of a Valid Split\n",
    "\n",
    "An element `x` of an integer array `arr` of length `m` is dominant if more than half the elements of `arr` have a value of `x`.\n",
    "\n",
    "You are given a 0-indexed integer array `nums` of length `n` with one dominant element.\n",
    "\n",
    "You can split nums at an index i into two arrays `nums[0, ..., i]` and `nums[i + 1, ..., n - 1]`, but the split is only valid if:\n",
    "\n",
    "- `0 <= i < n - 1`\n",
    "- `nums[0, ..., i]`, and `nums[i + 1, ..., n - 1]` have the same dominant element.\n",
    "\n",
    "Here, `nums[i, ..., j]` denotes the subarray of nums starting at index `i` and ending at index `j`, both ends being inclusive. Particularly, if `j < i` then `nums[i, ..., j]` denotes an empty subarray.\n",
    "\n",
    "Return the minimum index of a valid split. If no valid split exists, return `-1`.\n",
    "\n",
    "### Example 1:\n",
    "\n",
    "- Input: nums = [2,1,3,1,1,1,7,1,2,1]\n",
    "- Output: 4\n",
    "#### Explanation:  \n",
    "```plain text[]\n",
    "We can split the array at index 4 to obtain arrays [2,1,3,1,1] and [1,7,1,2,1].\n",
    "In array [2,1,3,1,1], element 1 is dominant since it occurs thrice in the array and 3 * 2 > 5.\n",
    "In array [1,7,1,2,1], element 1 is dominant since it occurs thrice in the array and 3 * 2 > 5.\n",
    "Both [2,1,3,1,1] and [1,7,1,2,1] have the same dominant element as nums, so this is a valid split.\n",
    "It can be shown that index 4 is the minimum index of a valid split.\n",
    "```\n",
    "### Example 2:\n",
    "- Input: nums = [3,3,3,3,7,2,2]\n",
    "- Output: -1\n",
    "#### Explanation: \n",
    "```plain text[]\n",
    "It can be shown that there is no valid split.\n",
    "```\n",
    "\n"
   ]
  },
  {
   "cell_type": "code",
   "execution_count": 1,
   "metadata": {},
   "outputs": [],
   "source": [
    "from collections import defaultdict"
   ]
  },
  {
   "cell_type": "code",
   "execution_count": 2,
   "metadata": {},
   "outputs": [],
   "source": [
    "# O(n^2)\n",
    "def minimumIndex(nums):\n",
    "    \"\"\"\n",
    "    :type nums: List[int]\n",
    "    :rtype: int\n",
    "    \"\"\"\n",
    "    hash_map = defaultdict(lambda: 0)\n",
    "    for i in nums:\n",
    "        hash_map[i] += 1\n",
    "\n",
    "    n = len(nums)\n",
    "    dominant_element = next(filter(lambda key: 2 * hash_map[key] > n, hash_map))\n",
    "\n",
    "    for i in range(1, len(nums)):\n",
    "        split_1 = nums[:i]\n",
    "        split_2 = nums[i:]\n",
    "        \n",
    "        if (split_1.count(dominant_element) * 2 > len(split_1)) & (split_2.count(dominant_element) * 2 > len(split_2)):\n",
    "            return i-1\n",
    "        \n",
    "    return -1"
   ]
  },
  {
   "cell_type": "code",
   "execution_count": 3,
   "metadata": {},
   "outputs": [],
   "source": [
    "# O(n)\n",
    "def minimumIndex(nums):\n",
    "    hash_map = defaultdict(lambda: 0)\n",
    "    for i in nums:\n",
    "        hash_map[i] += 1    \n",
    "\n",
    "    n = len(nums)\n",
    "    dominant_element = next(filter(lambda key: 2 * hash_map[key] > n, hash_map))\n",
    "\n",
    "    prefix_count = 0\n",
    "    suffix_count = hash_map[dominant_element]\n",
    "\n",
    "    for i in range(len(nums)):\n",
    "        if nums[i] == dominant_element:\n",
    "            prefix_count += 1\n",
    "            suffix_count -= 1\n",
    "\n",
    "        if (prefix_count * 2 > i + 1) and (suffix_count * 2 > n - (i + 1)):\n",
    "            return i\n",
    "\n",
    "    return -1\n"
   ]
  },
  {
   "cell_type": "code",
   "execution_count": 4,
   "metadata": {},
   "outputs": [
    {
     "data": {
      "text/plain": [
       "-1"
      ]
     },
     "execution_count": 4,
     "metadata": {},
     "output_type": "execute_result"
    }
   ],
   "source": [
    "nums = [3,3,3,3,7,2,2]\n",
    "minimumIndex(nums)"
   ]
  },
  {
   "cell_type": "code",
   "execution_count": 5,
   "metadata": {},
   "outputs": [
    {
     "data": {
      "text/plain": [
       "4"
      ]
     },
     "execution_count": 5,
     "metadata": {},
     "output_type": "execute_result"
    }
   ],
   "source": [
    "nums = [2,1,3,1,1,1,7,1,2,1]\n",
    "minimumIndex(nums)"
   ]
  },
  {
   "cell_type": "code",
   "execution_count": 6,
   "metadata": {},
   "outputs": [
    {
     "data": {
      "text/plain": [
       "0"
      ]
     },
     "execution_count": 6,
     "metadata": {},
     "output_type": "execute_result"
    }
   ],
   "source": [
    "nums = [1,1]\n",
    "minimumIndex(nums)"
   ]
  },
  {
   "cell_type": "code",
   "execution_count": null,
   "metadata": {},
   "outputs": [],
   "source": []
  }
 ],
 "metadata": {
  "kernelspec": {
   "display_name": "Python 3",
   "language": "python",
   "name": "python3"
  },
  "language_info": {
   "codemirror_mode": {
    "name": "ipython",
    "version": 3
   },
   "file_extension": ".py",
   "mimetype": "text/x-python",
   "name": "python",
   "nbconvert_exporter": "python",
   "pygments_lexer": "ipython3",
   "version": "3.12.3"
  }
 },
 "nbformat": 4,
 "nbformat_minor": 2
}
