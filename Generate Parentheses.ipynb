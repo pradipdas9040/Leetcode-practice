{
 "cells": [
  {
   "cell_type": "markdown",
   "id": "fde8d036",
   "metadata": {},
   "source": [
    "***Given n pairs of parentheses, write a function to generate all combinations of well-formed parentheses.***"
   ]
  },
  {
   "attachments": {},
   "cell_type": "markdown",
   "id": "2a61ee07",
   "metadata": {},
   "source": [
    "**Input:** n = 3  \n",
    "**Output:** [\"((()))\",\"(()())\",\"(())()\",\"()(())\",\"()()()\"]"
   ]
  },
  {
   "cell_type": "code",
   "execution_count": 1,
   "id": "0f3e6560",
   "metadata": {},
   "outputs": [],
   "source": [
    "def gs(n,  Open,  close,  s, ans):\n",
    "    if(Open == n and close == n):\n",
    "        ans.append(s)\n",
    "        return\n",
    "    if(Open < n):\n",
    "        gs(n, Open + 1, close, s+\"(\", ans)\n",
    "    if(close < Open):\n",
    "        gs(n, Open, close + 1, s+\")\", ans)"
   ]
  },
  {
   "cell_type": "code",
   "execution_count": 2,
   "id": "86d49446",
   "metadata": {},
   "outputs": [],
   "source": [
    "def generateParenthesis(n):\n",
    "    ans = []\n",
    "    gs(n, 0, 0, \"\", ans)\n",
    "    return ans"
   ]
  },
  {
   "cell_type": "code",
   "execution_count": 3,
   "id": "610c4bd1",
   "metadata": {},
   "outputs": [
    {
     "data": {
      "text/plain": [
       "['((()))', '(()())', '(())()', '()(())', '()()()']"
      ]
     },
     "execution_count": 3,
     "metadata": {},
     "output_type": "execute_result"
    }
   ],
   "source": [
    "generateParenthesis(3)"
   ]
  }
 ],
 "metadata": {
  "kernelspec": {
   "display_name": "Python 3 (ipykernel)",
   "language": "python",
   "name": "python3"
  },
  "language_info": {
   "codemirror_mode": {
    "name": "ipython",
    "version": 3
   },
   "file_extension": ".py",
   "mimetype": "text/x-python",
   "name": "python",
   "nbconvert_exporter": "python",
   "pygments_lexer": "ipython3",
   "version": "3.10.2"
  }
 },
 "nbformat": 4,
 "nbformat_minor": 5
}
