{
 "cells": [
  {
   "cell_type": "markdown",
   "metadata": {},
   "source": [
    "## Sum of k-Mirror Numbers\n",
    "\n",
    "A k-mirror number is a positive integer without leading zeros that reads the same both forward and backward in base-10 as well as in base-k.\n",
    "\n",
    "- For example, 9 is a 2-mirror number. The representation of 9 in base-10 and base-2 are 9 and 1001 respectively, which read the same both forward and backward.\n",
    "- On the contrary, 4 is not a 2-mirror number. The representation of 4 in base-2 is 100, which does not read the same both forward and backward.\n",
    "\n",
    "Given the base k and the number n, return the sum of the n smallest k-mirror numbers.\n",
    "\n",
    "#### Example 1:\n",
    "\n",
    "- Input:  k = 2, n = 5\n",
    "- Output: 25\n",
    "- Explanation:\n",
    "```plaintext[]\n",
    "    The 5 smallest 2-mirror numbers and their representations in base-2 are listed as follows:\n",
    "    base-10    base-2\n",
    "        1          1\n",
    "        3          11\n",
    "        5          101\n",
    "        7          111\n",
    "        9          1001\n",
    "    Their sum = 1 + 3 + 5 + 7 + 9 = 25.\n",
    "```"
   ]
  },
  {
   "cell_type": "code",
   "execution_count": 1,
   "metadata": {},
   "outputs": [],
   "source": [
    "def is_palindrome(s: str) -> bool:\n",
    "    return s == s[::-1]\n",
    "\n",
    "def to_base(num: int, base: int) -> str:\n",
    "    if num == 0:\n",
    "        return \"0\"\n",
    "    digits = []\n",
    "    while num > 0:\n",
    "        digits.append(str(num % base))\n",
    "        num //= base\n",
    "    return ''.join(digits[::-1])\n",
    "\n",
    "def generate_palindromes():\n",
    "    # Generate palindromes of increasing length\n",
    "    length = 1\n",
    "    while True:\n",
    "        # Odd length palindromes\n",
    "        for half in range(10 ** (length - 1), 10 ** length):\n",
    "            s = str(half)\n",
    "            yield int(s + s[-2::-1])  # odd length\n",
    "        # Even length palindromes\n",
    "        for half in range(10 ** (length - 1), 10 ** length):\n",
    "            s = str(half)\n",
    "            yield int(s + s[::-1])  # even length\n",
    "        length += 1"
   ]
  },
  {
   "cell_type": "code",
   "execution_count": 2,
   "metadata": {},
   "outputs": [],
   "source": [
    "def kMirror(k: int, n: int) -> int:\n",
    "    count = 0\n",
    "    total = 0\n",
    "    for num in generate_palindromes():\n",
    "        if is_palindrome(to_base(num, k)):\n",
    "            total += num\n",
    "            count += 1\n",
    "            if count == n:\n",
    "                break\n",
    "    return total\n"
   ]
  },
  {
   "cell_type": "code",
   "execution_count": 3,
   "metadata": {},
   "outputs": [
    {
     "data": {
      "text/plain": [
       "25"
      ]
     },
     "execution_count": 3,
     "metadata": {},
     "output_type": "execute_result"
    }
   ],
   "source": [
    "k = 2\n",
    "n = 5\n",
    "kMirror(k, n)"
   ]
  },
  {
   "cell_type": "code",
   "execution_count": 4,
   "metadata": {},
   "outputs": [
    {
     "data": {
      "text/plain": [
       "499"
      ]
     },
     "execution_count": 4,
     "metadata": {},
     "output_type": "execute_result"
    }
   ],
   "source": [
    "k = 3\n",
    "n = 7\n",
    "kMirror(k, n)"
   ]
  },
  {
   "cell_type": "code",
   "execution_count": null,
   "metadata": {},
   "outputs": [],
   "source": []
  }
 ],
 "metadata": {
  "kernelspec": {
   "display_name": "Python 3",
   "language": "python",
   "name": "python3"
  },
  "language_info": {
   "codemirror_mode": {
    "name": "ipython",
    "version": 3
   },
   "file_extension": ".py",
   "mimetype": "text/x-python",
   "name": "python",
   "nbconvert_exporter": "python",
   "pygments_lexer": "ipython3",
   "version": "3.12.3"
  }
 },
 "nbformat": 4,
 "nbformat_minor": 2
}
