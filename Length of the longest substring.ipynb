{
 "cells": [
  {
   "cell_type": "markdown",
   "id": "4ffa7d09",
   "metadata": {},
   "source": [
    "***Given a string s, find the length of the longest substring without repeating characters.***"
   ]
  },
  {
   "cell_type": "markdown",
   "id": "064c5b3c",
   "metadata": {},
   "source": [
    "***Input:*** s = \"abcabcbb\"***,***\n",
    "***Output:*** 3    \n",
    "**Explanation:** The answer is \"abc\", with the length of 3."
   ]
  },
  {
   "cell_type": "markdown",
   "id": "84c07152",
   "metadata": {},
   "source": [
    "***Input:*** s = \"pwwkew\"***,***\n",
    "***Output:*** 3  \n",
    "**Explanation:** The answer is \"wke\", with the length of 3.\n",
    "Notice that the answer must be a substring, \"pwke\" is a subsequence and not a substring."
   ]
  },
  {
   "cell_type": "code",
   "execution_count": 1,
   "id": "c61fc8e9",
   "metadata": {},
   "outputs": [],
   "source": [
    "def check(s, start, end):\n",
    "    chars = [0] * 26\n",
    "    for i in range(start, end + 1):\n",
    "        c = s[i]\n",
    "        chars[ord(c) - ord('a')] += 1\n",
    "        if chars[ord(c) - ord('a')] > 1:\n",
    "            return False\n",
    "    return True"
   ]
  },
  {
   "cell_type": "code",
   "execution_count": 2,
   "id": "603f18a6",
   "metadata": {},
   "outputs": [],
   "source": [
    "def lengthOfLongestSubstring(s):\n",
    "    n = len(s)\n",
    "    res = 0\n",
    "    for i in range(n):\n",
    "        for j in range(i, n):\n",
    "            if check(s, i, j):\n",
    "                res = max(res, j - i + 1)\n",
    "    return res"
   ]
  },
  {
   "cell_type": "code",
   "execution_count": 3,
   "id": "eeeac2af",
   "metadata": {},
   "outputs": [
    {
     "name": "stdout",
     "output_type": "stream",
     "text": [
      "Enter string: pwwkew\n"
     ]
    },
    {
     "data": {
      "text/plain": [
       "3"
      ]
     },
     "execution_count": 3,
     "metadata": {},
     "output_type": "execute_result"
    }
   ],
   "source": [
    "s = input('Enter string: ')\n",
    "lengthOfLongestSubstring(s)"
   ]
  },
  {
   "cell_type": "code",
   "execution_count": null,
   "id": "cbc7aedf",
   "metadata": {},
   "outputs": [],
   "source": []
  }
 ],
 "metadata": {
  "kernelspec": {
   "display_name": "Python 3 (ipykernel)",
   "language": "python",
   "name": "python3"
  },
  "language_info": {
   "codemirror_mode": {
    "name": "ipython",
    "version": 3
   },
   "file_extension": ".py",
   "mimetype": "text/x-python",
   "name": "python",
   "nbconvert_exporter": "python",
   "pygments_lexer": "ipython3",
   "version": "3.10.2"
  }
 },
 "nbformat": 4,
 "nbformat_minor": 5
}
