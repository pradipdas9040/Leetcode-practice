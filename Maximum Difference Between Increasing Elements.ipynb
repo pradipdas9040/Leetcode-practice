{
 "cells": [
  {
   "cell_type": "markdown",
   "id": "a3a7fb0e",
   "metadata": {},
   "source": [
    "# Maximum Difference Between Increasing Elements\n",
    "\n",
    "Given a 0-indexed integer array `nums` of size `n`, find the maximum difference between `nums[i]` and `nums[j]` (i.e., `nums[j]` - `nums[i]`), such that `0 <= i < j < n` and `nums[i]` < `nums[j]`.\n",
    "\n",
    "Return the maximum difference. If no such `i` and `j` exists, return `-1`.\n",
    "\n",
    "## Example 1:\n",
    "\n",
    "- Input: nums = [7,1,5,4]\n",
    "- Output: 4\n",
    "- Explanation:\n",
    "```plaintext[]\n",
    "    The maximum difference occurs with i = 1 and j = 2, nums[j] - nums[i] = 5 - 1 = 4.\n",
    "    Note that with i = 1 and j = 0, the difference nums[j] - nums[i] = 7 - 1 = 6, but i > j, so it is not valid\n",
    "```"
   ]
  },
  {
   "cell_type": "code",
   "execution_count": 1,
   "id": "f7178807",
   "metadata": {},
   "outputs": [],
   "source": [
    "def maximumDifference(nums: list[int]) -> int:\n",
    "    max_diff = 0\n",
    "    sum_diff = 0\n",
    "    n =  len(nums)\n",
    "    diff_nums = [nums[i] - nums[i-1] for i in range(1, n)]\n",
    "    for i in range(len(diff_nums)):\n",
    "        sum_diff = max(diff_nums[i], sum_diff + diff_nums[i])\n",
    "        max_diff = max(max_diff, sum_diff)\n",
    "    if max_diff <= 0:\n",
    "        return -1\n",
    "    return max_diff\n",
    "            "
   ]
  },
  {
   "cell_type": "code",
   "execution_count": 2,
   "id": "ca8bb2c1",
   "metadata": {},
   "outputs": [
    {
     "data": {
      "text/plain": [
       "4"
      ]
     },
     "execution_count": 2,
     "metadata": {},
     "output_type": "execute_result"
    }
   ],
   "source": [
    "nums = [7,1,5,4]\n",
    "maximumDifference(nums)"
   ]
  },
  {
   "cell_type": "code",
   "execution_count": 3,
   "id": "7ea0c48b",
   "metadata": {},
   "outputs": [
    {
     "data": {
      "text/plain": [
       "9"
      ]
     },
     "execution_count": 3,
     "metadata": {},
     "output_type": "execute_result"
    }
   ],
   "source": [
    "nums = [1,5,2,10]\n",
    "maximumDifference(nums)"
   ]
  },
  {
   "cell_type": "markdown",
   "id": "633e7b0b",
   "metadata": {},
   "source": [
    "#### Optimized version"
   ]
  },
  {
   "cell_type": "code",
   "execution_count": 4,
   "id": "5b95778b",
   "metadata": {},
   "outputs": [],
   "source": [
    "def maximumDifference2(nums: list[int]) -> int:\n",
    "    max_diff = -1\n",
    "    min_num = nums[0]\n",
    "    n = len(nums)\n",
    "    for i in range(1, n):\n",
    "        min_num = min(min_num, nums[i])\n",
    "        max_diff = max(max_diff, nums[i] - min_num)\n",
    "\n",
    "    return max_diff"
   ]
  },
  {
   "cell_type": "code",
   "execution_count": 5,
   "id": "fac21c14",
   "metadata": {},
   "outputs": [
    {
     "data": {
      "text/plain": [
       "4"
      ]
     },
     "execution_count": 5,
     "metadata": {},
     "output_type": "execute_result"
    }
   ],
   "source": [
    "nums = [7,1,5,4]\n",
    "maximumDifference2(nums)"
   ]
  },
  {
   "cell_type": "code",
   "execution_count": 6,
   "id": "3ee720d3",
   "metadata": {},
   "outputs": [
    {
     "data": {
      "text/plain": [
       "9"
      ]
     },
     "execution_count": 6,
     "metadata": {},
     "output_type": "execute_result"
    }
   ],
   "source": [
    "nums = [1,5,2,10]\n",
    "maximumDifference2(nums)"
   ]
  },
  {
   "cell_type": "code",
   "execution_count": null,
   "id": "bd625fcb",
   "metadata": {},
   "outputs": [],
   "source": []
  }
 ],
 "metadata": {
  "kernelspec": {
   "display_name": "Python 3",
   "language": "python",
   "name": "python3"
  },
  "language_info": {
   "codemirror_mode": {
    "name": "ipython",
    "version": 3
   },
   "file_extension": ".py",
   "mimetype": "text/x-python",
   "name": "python",
   "nbconvert_exporter": "python",
   "pygments_lexer": "ipython3",
   "version": "3.12.3"
  }
 },
 "nbformat": 4,
 "nbformat_minor": 5
}
