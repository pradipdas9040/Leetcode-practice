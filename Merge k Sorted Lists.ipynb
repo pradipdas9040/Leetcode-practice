{
 "cells": [
  {
   "cell_type": "markdown",
   "id": "fde8d036",
   "metadata": {},
   "source": [
    "***You are given an array of k linked-lists lists, each linked-list is sorted in ascending order. Merge all the linked-lists into one sorted linked-list and return it.***"
   ]
  },
  {
   "cell_type": "markdown",
   "id": "2a61ee07",
   "metadata": {},
   "source": [
    "**Input:** lists = [[1,4,5],[1,3,4],[2,6]]  \n",
    "**Output:** [1,1,2,3,4,4,5,6]  \n",
    "**Explanation:** The linked-lists are:  \n",
    "[   1->4->5,  \n",
    "    1->3->4,  \n",
    "    2->6   ]    \n",
    "merging them into one sorted list:  \n",
    "1->1->2->3->4->4->5->6"
   ]
  },
  {
   "cell_type": "code",
   "execution_count": 1,
   "id": "3aff510d",
   "metadata": {},
   "outputs": [],
   "source": [
    "class Node:\n",
    "    def __init__(self, val=0, next=None):\n",
    "        self.val = val  \n",
    "        self.next = None \n",
    "    def P(self):\n",
    "        print('Print of list: ', end=\" \")\n",
    "        temp = self\n",
    "        while (temp):\n",
    "            print (temp.val, end=\" \")\n",
    "            temp = temp.next\n",
    "        print()"
   ]
  },
  {
   "cell_type": "code",
   "execution_count": 2,
   "id": "a3f5b0be",
   "metadata": {},
   "outputs": [],
   "source": [
    "def LinkedList():\n",
    "    List = list(map(int, input('Enter elements of node: ').split()))\n",
    "    head = Node()\n",
    "    temp = Node()\n",
    "    head.val = List[0]\n",
    "    t = head\n",
    "    for k in range(1,len(List)):\n",
    "        temp.val = List[k]\n",
    "        t.next = temp\n",
    "        t = t.next\n",
    "        temp = Node()\n",
    "    return head"
   ]
  },
  {
   "cell_type": "code",
   "execution_count": 3,
   "id": "d58fbd17",
   "metadata": {},
   "outputs": [
    {
     "name": "stdout",
     "output_type": "stream",
     "text": [
      "Enter elements of node: 1 4 5\n",
      "Enter elements of node: 1 3 4\n",
      "Enter elements of node: 2 6\n"
     ]
    }
   ],
   "source": [
    "l1 = LinkedList()\n",
    "l2 = LinkedList()\n",
    "l3 = LinkedList()"
   ]
  },
  {
   "cell_type": "code",
   "execution_count": 4,
   "id": "bc7c1cd4",
   "metadata": {},
   "outputs": [
    {
     "name": "stdout",
     "output_type": "stream",
     "text": [
      "Print of list:  1 4 5 \n",
      "Print of list:  1 3 4 \n",
      "Print of list:  2 6 \n"
     ]
    }
   ],
   "source": [
    "l1.P()\n",
    "l2.P()\n",
    "l3.P()"
   ]
  },
  {
   "cell_type": "code",
   "execution_count": 5,
   "id": "04b2160f",
   "metadata": {},
   "outputs": [],
   "source": [
    "l = [l1, l2, l3]"
   ]
  },
  {
   "cell_type": "code",
   "execution_count": 6,
   "id": "4ae8b3a5",
   "metadata": {
    "scrolled": true
   },
   "outputs": [],
   "source": [
    "def sortmarge(List):\n",
    "    head = Node()\n",
    "    temp = Node()\n",
    "    head.val = List[0]\n",
    "    t = head\n",
    "    for k in range(1,len(List)):\n",
    "        temp.val = List[k]\n",
    "        t.next = temp\n",
    "        t = t.next\n",
    "        temp = Node()\n",
    "    return head"
   ]
  },
  {
   "cell_type": "code",
   "execution_count": 7,
   "id": "fa673e33",
   "metadata": {},
   "outputs": [
    {
     "name": "stdout",
     "output_type": "stream",
     "text": [
      "Print of list:  1 1 2 3 4 4 5 6 \n"
     ]
    }
   ],
   "source": [
    "a = []\n",
    "for i in range(len(l)):\n",
    "    t1 = l[i]\n",
    "    while t1 != None:\n",
    "        a.append(t1.val)\n",
    "        t1 = t1.next\n",
    "a.sort()\n",
    "if a != []:\n",
    "    sortmarge(a).P()\n",
    "else: print(None)"
   ]
  }
 ],
 "metadata": {
  "kernelspec": {
   "display_name": "Python 3 (ipykernel)",
   "language": "python",
   "name": "python3"
  },
  "language_info": {
   "codemirror_mode": {
    "name": "ipython",
    "version": 3
   },
   "file_extension": ".py",
   "mimetype": "text/x-python",
   "name": "python",
   "nbconvert_exporter": "python",
   "pygments_lexer": "ipython3",
   "version": "3.10.2"
  }
 },
 "nbformat": 4,
 "nbformat_minor": 5
}
