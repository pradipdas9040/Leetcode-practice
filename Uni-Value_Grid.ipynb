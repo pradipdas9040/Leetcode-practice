{
 "cells": [
  {
   "cell_type": "markdown",
   "metadata": {},
   "source": [
    "## Minimum Operations to Make a Uni-Value Grid\n",
    "\n",
    "You are given a 2D integer grid of size `m x n` and an integer `x`. In one operation, you can add x to or subtract x from any element in the grid.\n",
    "\n",
    "A uni-value grid is a grid where all the elements of it are equal.\n",
    "\n",
    "Return the minimum number of operations to make the grid uni-value. If it is not possible, return `-1`.\n",
    "\n",
    "#### Example 1:\n",
    "\n",
    "- Input: grid = [[2,4],[6,8]], x = 2\n",
    "- Output: 4\n",
    "- Explanation:  We can make every element equal to 4 by doing the following: \n",
    "    - Add x to 2 once.\n",
    "    - Subtract x from 6 once.\n",
    "    - Subtract x from 8 twice.\n",
    "\n",
    "    A total of 4 operations were used.\n",
    "\n",
    "#### Example 2:\n",
    "- Input: grid = [[1,2],[3,4]], x = 2\n",
    "- Output: -1\n",
    "- Explanation: It is impossible to make every element equal.\n",
    "\n"
   ]
  },
  {
   "cell_type": "code",
   "execution_count": 1,
   "metadata": {},
   "outputs": [],
   "source": [
    "def minOperations(grid, x):\n",
    "    \"\"\"\n",
    "    :type grid: List[List[int]]\n",
    "    :type x: int\n",
    "    :rtype: int\n",
    "    \"\"\"\n",
    "    to_list = []\n",
    "    result = 0\n",
    "    for item in grid:\n",
    "        to_list += item\n",
    "\n",
    "    to_list = sorted(to_list)\n",
    "    length = len(to_list)\n",
    "    value = to_list[length//2]\n",
    "\n",
    "    for nums in to_list:\n",
    "        if nums % x != value % x:\n",
    "            return -1\n",
    "        result += abs(value - nums) // x\n",
    "    return result"
   ]
  },
  {
   "cell_type": "code",
   "execution_count": 2,
   "metadata": {},
   "outputs": [
    {
     "data": {
      "text/plain": [
       "5"
      ]
     },
     "execution_count": 2,
     "metadata": {},
     "output_type": "execute_result"
    }
   ],
   "source": [
    "grid = [[1,5],[2,3]]\n",
    "x = 1\n",
    "minOperations(grid, x)"
   ]
  },
  {
   "cell_type": "code",
   "execution_count": 3,
   "metadata": {},
   "outputs": [
    {
     "data": {
      "text/plain": [
       "4"
      ]
     },
     "execution_count": 3,
     "metadata": {},
     "output_type": "execute_result"
    }
   ],
   "source": [
    "grid = [[2,4],[6,8]]\n",
    "x = 2\n",
    "minOperations(grid, x)"
   ]
  },
  {
   "cell_type": "code",
   "execution_count": null,
   "metadata": {},
   "outputs": [],
   "source": []
  }
 ],
 "metadata": {
  "kernelspec": {
   "display_name": "Python 3",
   "language": "python",
   "name": "python3"
  },
  "language_info": {
   "codemirror_mode": {
    "name": "ipython",
    "version": 3
   },
   "file_extension": ".py",
   "mimetype": "text/x-python",
   "name": "python",
   "nbconvert_exporter": "python",
   "pygments_lexer": "ipython3",
   "version": "3.12.3"
  }
 },
 "nbformat": 4,
 "nbformat_minor": 2
}
