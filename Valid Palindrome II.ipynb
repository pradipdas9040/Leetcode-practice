{
 "cells": [
  {
   "cell_type": "markdown",
   "metadata": {},
   "source": [
    "## Valid Palindrome II\n",
    "\n",
    "You are given a string `s`, return true if the `s` can be a palindrome after deleting at most one character from it.\n",
    "\n",
    "A palindrome is a string that reads the same forward and backward.\n",
    "\n",
    "Note: Alphanumeric characters consist of letters (A-Z, a-z) and numbers (0-9).\n",
    "\n",
    "#### Example 1:\n",
    "\n",
    "- Input: s = \"abbda\"\n",
    "- Output: True\n",
    "- Explanation:\n",
    "```plaintext[]\n",
    "    We can delete the character 'd'.\n",
    "```"
   ]
  },
  {
   "cell_type": "code",
   "execution_count": 1,
   "metadata": {},
   "outputs": [],
   "source": [
    "def validPalindrome(s: str) -> bool:\n",
    "    l, r = 0, len(s) - 1\n",
    "\n",
    "    while l < r:\n",
    "        if s[l] != s[r]:\n",
    "            sL = s[l+1: r+1]\n",
    "            sR = s[l: r]\n",
    "            return sL == sL[::-1] or sR == sR[::-1]\n",
    "        l, r = l + 1, r - 1\n",
    "    return True"
   ]
  },
  {
   "cell_type": "code",
   "execution_count": 2,
   "metadata": {},
   "outputs": [
    {
     "data": {
      "text/plain": [
       "True"
      ]
     },
     "execution_count": 2,
     "metadata": {},
     "output_type": "execute_result"
    }
   ],
   "source": [
    "s = 'abbda'\n",
    "validPalindrome(s)"
   ]
  },
  {
   "cell_type": "code",
   "execution_count": 3,
   "metadata": {},
   "outputs": [
    {
     "data": {
      "text/plain": [
       "False"
      ]
     },
     "execution_count": 3,
     "metadata": {},
     "output_type": "execute_result"
    }
   ],
   "source": [
    "s = 'abbadc'\n",
    "validPalindrome(s)"
   ]
  },
  {
   "cell_type": "code",
   "execution_count": null,
   "metadata": {},
   "outputs": [],
   "source": []
  }
 ],
 "metadata": {
  "kernelspec": {
   "display_name": "Python 3",
   "language": "python",
   "name": "python3"
  },
  "language_info": {
   "codemirror_mode": {
    "name": "ipython",
    "version": 3
   },
   "file_extension": ".py",
   "mimetype": "text/x-python",
   "name": "python",
   "nbconvert_exporter": "python",
   "pygments_lexer": "ipython3",
   "version": "3.12.3"
  }
 },
 "nbformat": 4,
 "nbformat_minor": 2
}
