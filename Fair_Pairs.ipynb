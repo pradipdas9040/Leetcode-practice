{
 "cells": [
  {
   "cell_type": "markdown",
   "metadata": {},
   "source": [
    "## Count and Say\n",
    "\n",
    "The count-and-say sequence is a sequence of digit strings defined by the recursive formula:\n",
    "\n",
    "- `countAndSay(1) = \"1\"`\n",
    "- `countAndSay(n)` is the run-length encoding of `countAndSay(n - 1)`.\n",
    "\n",
    "Run-length encoding (RLE) is a string compression method that works by replacing consecutive identical characters (repeated 2 or more times) with the concatenation of the character and the number marking the count of the characters (length of the run). For example, to compress the string `\"3322251\"` we replace `\"33\"` with `\"23\"`, replace `\"222\"` with `\"32\"`, replace `\"5\"` with `\"15\"` and replace `\"1\"` with `\"11\"`. Thus the compressed string becomes `\"23321511\"`.\n",
    "\n",
    "Given a positive integer `n`, return the $n^{th}$ element of the count-and-say sequence.\n",
    "\n",
    "#### Example 1:\n",
    "\n",
    "- Input: n = 4\n",
    "- Output: \"1211\"\n",
    "- Explanation:\n",
    "    ``` plaintext[]\n",
    "    countAndSay(1) = \"1\"\n",
    "    countAndSay(2) = RLE of \"1\" = \"11\"\n",
    "    countAndSay(3) = RLE of \"11\" = \"21\"\n",
    "    countAndSay(4) = RLE of \"21\" = \"1211\"\n",
    "    ```"
   ]
  },
  {
   "cell_type": "code",
   "execution_count": 1,
   "metadata": {},
   "outputs": [],
   "source": [
    "def map_count(n):\n",
    "    arr = list(str(n))\n",
    "    count = 0\n",
    "    left = 0\n",
    "    i = 0\n",
    "    counts = []\n",
    "    while i < len(arr):\n",
    "        if left < len(arr) and arr[i] == arr[left]:\n",
    "            count += 1\n",
    "            left += 1\n",
    "        else:\n",
    "            counts.append([count, arr[i]])\n",
    "            i = left\n",
    "            count = 0\n",
    "\n",
    "    return counts\n",
    "\n",
    "def marge(arr):\n",
    "    num_str = ''\n",
    "    for item in arr:\n",
    "        num_str += (str(item[0]) + str(item[1]))\n",
    "    return num_str\n",
    "\n",
    "def countAndSay(n):\n",
    "    for i in range(1, n+1):\n",
    "        if i == 1:\n",
    "            next = str(1)\n",
    "        else:\n",
    "            next = marge(map_count(next))\n",
    "    return next"
   ]
  },
  {
   "cell_type": "code",
   "execution_count": 2,
   "metadata": {},
   "outputs": [
    {
     "data": {
      "text/plain": [
       "'1211'"
      ]
     },
     "execution_count": 2,
     "metadata": {},
     "output_type": "execute_result"
    }
   ],
   "source": [
    "countAndSay(4)"
   ]
  },
  {
   "cell_type": "code",
   "execution_count": 3,
   "metadata": {},
   "outputs": [
    {
     "data": {
      "text/plain": [
       "'1'"
      ]
     },
     "execution_count": 3,
     "metadata": {},
     "output_type": "execute_result"
    }
   ],
   "source": [
    "countAndSay(1)"
   ]
  },
  {
   "cell_type": "code",
   "execution_count": null,
   "metadata": {},
   "outputs": [],
   "source": []
  }
 ],
 "metadata": {
  "kernelspec": {
   "display_name": "Python 3",
   "language": "python",
   "name": "python3"
  },
  "language_info": {
   "codemirror_mode": {
    "name": "ipython",
    "version": 3
   },
   "file_extension": ".py",
   "mimetype": "text/x-python",
   "name": "python",
   "nbconvert_exporter": "python",
   "pygments_lexer": "ipython3",
   "version": "3.12.3"
  }
 },
 "nbformat": 4,
 "nbformat_minor": 2
}
