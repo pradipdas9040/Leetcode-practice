{
 "cells": [
  {
   "cell_type": "markdown",
   "metadata": {},
   "source": [
    "## Count the Number of Fair Pairs\n",
    "\n",
    "Given a 0-indexed integer array nums of size `n` and two integers lower and upper, return the number of fair pairs.\n",
    "\n",
    "A pair (i, j) is fair if:\n",
    "- `0 <= i < j < n`, and\n",
    "- `lower <= nums[i] + nums[j] <= upper`\n",
    "\n",
    "#### Example 1:\n",
    "\n",
    "- Input: `nums = [0,1,7,4,4,5], lower = 3, upper = 6`\n",
    "- Output: `6`\n",
    "- Explanation: There are 6 fair pairs: (0,3), (0,4), (0,5), (1,3), (1,4), and (1,5)."
   ]
  },
  {
   "cell_type": "code",
   "execution_count": 1,
   "metadata": {},
   "outputs": [],
   "source": [
    "def countFairPairs(nums: list[int], lower: int, upper: int) -> int:\n",
    "    nums.sort()\n",
    "    count = 0\n",
    "    n = len(nums)\n",
    "\n",
    "    for i in range(n):\n",
    "        left = i+1\n",
    "        right = n-1\n",
    "        while left <= right:\n",
    "            mid = (right + left) // 2\n",
    "\n",
    "            if nums[i] + nums[mid] < lower:\n",
    "                left = mid + 1\n",
    "            else:\n",
    "                right = mid - 1\n",
    "        l = left\n",
    "\n",
    "        left = i+1\n",
    "        right = n-1\n",
    "        while left <= right:\n",
    "            mid = (right + left) // 2\n",
    "            if nums[i] + nums[mid] <= upper:\n",
    "                left = mid + 1\n",
    "            else:\n",
    "                right = mid - 1\n",
    "        r = right\n",
    "\n",
    "        if l <= r:\n",
    "            count += (r - l +1)\n",
    "    return count"
   ]
  },
  {
   "cell_type": "code",
   "execution_count": 2,
   "metadata": {},
   "outputs": [
    {
     "data": {
      "text/plain": [
       "6"
      ]
     },
     "execution_count": 2,
     "metadata": {},
     "output_type": "execute_result"
    }
   ],
   "source": [
    "nums = [0,1,7,4,4,5]\n",
    "lower = 3\n",
    "upper = 6\n",
    "countFairPairs(nums, lower, upper)"
   ]
  },
  {
   "cell_type": "code",
   "execution_count": 3,
   "metadata": {},
   "outputs": [
    {
     "data": {
      "text/plain": [
       "1"
      ]
     },
     "execution_count": 3,
     "metadata": {},
     "output_type": "execute_result"
    }
   ],
   "source": [
    "nums = [1,7,9,2,5]\n",
    "lower = 11\n",
    "upper = 11\n",
    "countFairPairs(nums, lower, upper)"
   ]
  },
  {
   "cell_type": "code",
   "execution_count": 4,
   "metadata": {},
   "outputs": [
    {
     "data": {
      "text/plain": [
       "15"
      ]
     },
     "execution_count": 4,
     "metadata": {},
     "output_type": "execute_result"
    }
   ],
   "source": [
    "nums = [0, 0,0,0,0,0]\n",
    "lower = 0\n",
    "upper = 0\n",
    "countFairPairs(nums, lower, upper)"
   ]
  },
  {
   "cell_type": "code",
   "execution_count": null,
   "metadata": {},
   "outputs": [],
   "source": []
  },
  {
   "cell_type": "code",
   "execution_count": null,
   "metadata": {},
   "outputs": [],
   "source": []
  }
 ],
 "metadata": {
  "kernelspec": {
   "display_name": "Python 3",
   "language": "python",
   "name": "python3"
  },
  "language_info": {
   "codemirror_mode": {
    "name": "ipython",
    "version": 3
   },
   "file_extension": ".py",
   "mimetype": "text/x-python",
   "name": "python",
   "nbconvert_exporter": "python",
   "pygments_lexer": "ipython3",
   "version": "3.12.3"
  }
 },
 "nbformat": 4,
 "nbformat_minor": 2
}
