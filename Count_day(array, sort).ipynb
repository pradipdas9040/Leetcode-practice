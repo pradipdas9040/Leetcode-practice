{
 "cells": [
  {
   "cell_type": "markdown",
   "metadata": {},
   "source": [
    "## Count Days Without Meetings\n",
    "\n",
    "You are given a positive integer `days` representing the total number of days an employee is available for work (starting from day 1). You are also given a 2D array `meetings` of size `n` where, `meetings[i] = [start_i, end_i]` represents the starting and ending days of meeting i (inclusive).\n",
    "\n",
    "Return the count of days when the employee is available for work but no meetings are scheduled.\n",
    "\n",
    "Note: The meetings may overlap.\n",
    "#### Example 1:\n",
    "\n",
    "- Input: days = 10, meetings = [[5,7],[1,3],[9,10]]\n",
    "- Output: 2\n",
    "- Explanation: There is no meeting scheduled on the 4th and 8th days."
   ]
  },
  {
   "cell_type": "code",
   "execution_count": 1,
   "metadata": {},
   "outputs": [],
   "source": [
    "def countDays(days, meetings):\n",
    "    \"\"\"\n",
    "    :type days: int\n",
    "    :type meetings: List[List[int]]\n",
    "    :rtype: int\n",
    "    \"\"\"\n",
    "    # abhilabel = set(list(range(1, days+1)))\n",
    "\n",
    "    # meeting_list = []\n",
    "\n",
    "    # for item in meetings:\n",
    "    #     meeting_list += list(range(item[0], item[1]+1))\n",
    "\n",
    "    # return len(abhilabel.difference(set(meeting_list)))\n",
    "    meetings = sorted(meetings)\n",
    "\n",
    "    marge = [meetings[0]]\n",
    "    for start, end in meetings:\n",
    "        if start < marge[-1][1]:\n",
    "            marge[-1][1] = max(end, marge[-1][1])\n",
    "        else:\n",
    "            marge.append([start, end])\n",
    "\n",
    "    free = []\n",
    "    for i in range(len(marge)):\n",
    "        if i+1 < len(marge):\n",
    "            if marge[i][1] > marge[i+1][0]:\n",
    "                continue\n",
    "            else:\n",
    "                free += list(range(marge[i][1]+1, marge[i+1][0]))\n",
    "    free_count = len(free)\n",
    "    if marge[-1][1] < days:\n",
    "        free_count += (days - marge[-1][1])\n",
    "    if marge[0][0] > 1:\n",
    "        free_count += (marge[0][0] - 1)\n",
    "\n",
    "    return free_count"
   ]
  },
  {
   "cell_type": "code",
   "execution_count": 2,
   "metadata": {},
   "outputs": [
    {
     "data": {
      "text/plain": [
       "2"
      ]
     },
     "execution_count": 2,
     "metadata": {},
     "output_type": "execute_result"
    }
   ],
   "source": [
    "days = 10\n",
    "meetings = [[5,7],[1,3],[9,10]]\n",
    "countDays(days, meetings)"
   ]
  },
  {
   "cell_type": "code",
   "execution_count": 3,
   "metadata": {},
   "outputs": [
    {
     "data": {
      "text/plain": [
       "1"
      ]
     },
     "execution_count": 3,
     "metadata": {},
     "output_type": "execute_result"
    }
   ],
   "source": [
    "days = 57\n",
    "meetings = [[3,49],[23,44],[21,56],[26,55],[23,52],[2,9],[1,48],[3,31]]\n",
    "countDays(days, meetings)"
   ]
  },
  {
   "cell_type": "code",
   "execution_count": 4,
   "metadata": {},
   "outputs": [
    {
     "data": {
      "text/plain": [
       "9999999"
      ]
     },
     "execution_count": 4,
     "metadata": {},
     "output_type": "execute_result"
    }
   ],
   "source": [
    "days = 10000000\n",
    "meetings = [[1, 1]]\n",
    "countDays(days, meetings)"
   ]
  },
  {
   "cell_type": "code",
   "execution_count": null,
   "metadata": {},
   "outputs": [],
   "source": []
  }
 ],
 "metadata": {
  "kernelspec": {
   "display_name": "Python 3",
   "language": "python",
   "name": "python3"
  },
  "language_info": {
   "codemirror_mode": {
    "name": "ipython",
    "version": 3
   },
   "file_extension": ".py",
   "mimetype": "text/x-python",
   "name": "python",
   "nbconvert_exporter": "python",
   "pygments_lexer": "ipython3",
   "version": "3.12.3"
  }
 },
 "nbformat": 4,
 "nbformat_minor": 2
}
