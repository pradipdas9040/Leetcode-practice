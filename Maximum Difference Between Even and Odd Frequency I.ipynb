{
 "cells": [
  {
   "cell_type": "markdown",
   "metadata": {},
   "source": [
    "## Maximum Difference Between Even and Odd Frequency I\n",
    "\n",
    "You are given a string `s` consisting of lowercase English letters.\n",
    "\n",
    "Your task is to find the maximum difference `diff = a1 - a2` between the frequency of characters `a1` and `a2` in the string such that:\n",
    "\n",
    "- `a1` has an odd frequency in the string.\n",
    "- `a2` has an even frequency in the string.\n",
    "Return this maximum difference.\n",
    "\n",
    "#### Example 1:\n",
    "\n",
    "- Input: s = \"aaaaabbc\"\n",
    "- Output: 3\n",
    "- Explanation:\n",
    "```plain_text[]\n",
    "    The character 'a' has an odd frequency of 5, and 'b' has an even frequency of 2.\n",
    "    The maximum difference is 5 - 2 = 3.\n",
    "```"
   ]
  },
  {
   "cell_type": "code",
   "execution_count": 1,
   "metadata": {},
   "outputs": [],
   "source": [
    "from collections import Counter"
   ]
  },
  {
   "cell_type": "code",
   "execution_count": 2,
   "metadata": {},
   "outputs": [],
   "source": [
    "def maxDifference(s: str) -> int:\n",
    "    count_chr = Counter(s)\n",
    "    even_min, odd_max = float('inf'), 0\n",
    "    for i in list(count_chr.values()):\n",
    "        if i % 2 == 0:\n",
    "            even_min = min(even_min, i)\n",
    "        else:\n",
    "            odd_max = max(odd_max, i)\n",
    "\n",
    "    return odd_max - even_min"
   ]
  },
  {
   "cell_type": "code",
   "execution_count": 3,
   "metadata": {},
   "outputs": [
    {
     "data": {
      "text/plain": [
       "3"
      ]
     },
     "execution_count": 3,
     "metadata": {},
     "output_type": "execute_result"
    }
   ],
   "source": [
    "s = \"aaaaabbc\"\n",
    "maxDifference(s)"
   ]
  },
  {
   "cell_type": "code",
   "execution_count": 4,
   "metadata": {},
   "outputs": [
    {
     "data": {
      "text/plain": [
       "1"
      ]
     },
     "execution_count": 4,
     "metadata": {},
     "output_type": "execute_result"
    }
   ],
   "source": [
    "s = \"abcabcab\"\n",
    "maxDifference(s)"
   ]
  },
  {
   "cell_type": "code",
   "execution_count": null,
   "metadata": {},
   "outputs": [],
   "source": []
  }
 ],
 "metadata": {
  "kernelspec": {
   "display_name": "Python 3",
   "language": "python",
   "name": "python3"
  },
  "language_info": {
   "codemirror_mode": {
    "name": "ipython",
    "version": 3
   },
   "file_extension": ".py",
   "mimetype": "text/x-python",
   "name": "python",
   "nbconvert_exporter": "python",
   "pygments_lexer": "ipython3",
   "version": "3.12.3"
  }
 },
 "nbformat": 4,
 "nbformat_minor": 2
}
