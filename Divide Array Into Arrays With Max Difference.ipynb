{
 "cells": [
  {
   "cell_type": "markdown",
   "id": "a3a7fb0e",
   "metadata": {},
   "source": [
    "# Divide Array Into Arrays With Max Difference\n",
    "\n",
    "You are given an integer array nums of size n where n is a multiple of 3 and a positive integer k.\n",
    "\n",
    "Divide the array nums into n / 3 arrays of size 3 satisfying the following condition:\n",
    "\n",
    "- The difference between any two elements in one array is less than or equal to k.\n",
    "\n",
    "Return a 2D array containing the arrays. If it is impossible to satisfy the conditions, return an empty array. And if there are multiple answers, return any of them.\n",
    "\n",
    "## Example 1:\n",
    "\n",
    "- Input: nums = [1,3,4,8,7,9,3,5,1], k = 2\n",
    "- Output: [[1,1,3],[3,4,5],[7,8,9]]\n",
    "- Explanation:\n",
    "```plaintext[]\n",
    "    The difference between any two elements in each array is less than or equal to 2.\n",
    "```"
   ]
  },
  {
   "cell_type": "code",
   "execution_count": 1,
   "id": "f7178807",
   "metadata": {},
   "outputs": [],
   "source": [
    "def divideArray(nums: list[int], k: int) -> list[list[int]]:\n",
    "    nums.sort()\n",
    "    n = len(nums)\n",
    "    result = [nums[i:i+3] for i in range(0, n, 3)]\n",
    "    diff = [item[-1] - item[0] for item in result]\n",
    "    \n",
    "    for item in diff:\n",
    "        if item > k:\n",
    "            result = []\n",
    "            break\n",
    "    return result"
   ]
  },
  {
   "cell_type": "code",
   "execution_count": 2,
   "id": "ca8bb2c1",
   "metadata": {},
   "outputs": [
    {
     "data": {
      "text/plain": [
       "[[1, 1, 3], [3, 4, 5], [7, 8, 9]]"
      ]
     },
     "execution_count": 2,
     "metadata": {},
     "output_type": "execute_result"
    }
   ],
   "source": [
    "nums = [1,3,4,8,7,9,3,5,1]\n",
    "k = 2\n",
    "divideArray(nums, k)"
   ]
  },
  {
   "cell_type": "code",
   "execution_count": 3,
   "id": "7ea0c48b",
   "metadata": {},
   "outputs": [
    {
     "data": {
      "text/plain": [
       "[]"
      ]
     },
     "execution_count": 3,
     "metadata": {},
     "output_type": "execute_result"
    }
   ],
   "source": [
    "nums = [2,4,2,2,5,2]\n",
    "k = 2\n",
    "divideArray(nums, k)"
   ]
  },
  {
   "cell_type": "code",
   "execution_count": 4,
   "id": "f32e556e",
   "metadata": {},
   "outputs": [
    {
     "data": {
      "text/plain": [
       "[[2, 2, 2], [4, 5, 5], [5, 5, 7], [7, 8, 8], [9, 9, 10], [11, 12, 12]]"
      ]
     },
     "execution_count": 4,
     "metadata": {},
     "output_type": "execute_result"
    }
   ],
   "source": [
    "nums = [4,2,9,8,2,12,7,12,10,5,8,5,5,7,9,2,5,11]\n",
    "k = 14\n",
    "divideArray(nums, k)"
   ]
  },
  {
   "cell_type": "code",
   "execution_count": null,
   "id": "53e1b093",
   "metadata": {},
   "outputs": [],
   "source": []
  }
 ],
 "metadata": {
  "kernelspec": {
   "display_name": "Python 3",
   "language": "python",
   "name": "python3"
  },
  "language_info": {
   "codemirror_mode": {
    "name": "ipython",
    "version": 3
   },
   "file_extension": ".py",
   "mimetype": "text/x-python",
   "name": "python",
   "nbconvert_exporter": "python",
   "pygments_lexer": "ipython3",
   "version": "3.12.3"
  }
 },
 "nbformat": 4,
 "nbformat_minor": 5
}
