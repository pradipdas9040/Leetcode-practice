{
 "cells": [
  {
   "cell_type": "markdown",
   "id": "b5ceb4ca",
   "metadata": {},
   "source": [
    "***Given a string s containing just the characters '(', ')', '{', '}', '[' and ']', determine if the input string is valid.***  \n",
    "**An input string is valid if:**\n",
    "- Open brackets must be closed by the same type of brackets.\n",
    "- Open brackets must be closed in the correct order."
   ]
  },
  {
   "attachments": {},
   "cell_type": "markdown",
   "id": "7605abd5",
   "metadata": {},
   "source": [
    "**Example 1:**    \n",
    "**Input:** s = \"()[]{}\"  \n",
    "**Output:** true\n",
    "\n",
    "**Example 2:**    \n",
    "**Input:** s = \"(]\"  \n",
    "**Output:** false  "
   ]
  },
  {
   "cell_type": "code",
   "execution_count": 1,
   "id": "97605cf8",
   "metadata": {},
   "outputs": [],
   "source": [
    "def isValid(s):\n",
    "    stack = []\n",
    "    open_list = [\"[\",\"{\",\"(\"]\n",
    "    close_list = [\"]\",\"}\",\")\"]\n",
    "    for i in s:\n",
    "        if i in open_list:\n",
    "            stack.append(i)\n",
    "        elif i in close_list:\n",
    "            pos = close_list.index(i)\n",
    "            if ((len(stack) > 0) and\n",
    "                (open_list[pos] == stack[len(stack)-1])):\n",
    "                stack.pop()\n",
    "            else:\n",
    "                return 0\n",
    "    if len(stack) == 0:\n",
    "        return 1\n",
    "    else:\n",
    "        return 0"
   ]
  },
  {
   "cell_type": "code",
   "execution_count": 2,
   "id": "88a08461",
   "metadata": {},
   "outputs": [
    {
     "name": "stdout",
     "output_type": "stream",
     "text": [
      "Enter a string: {[}]\n"
     ]
    },
    {
     "data": {
      "text/plain": [
       "0"
      ]
     },
     "execution_count": 2,
     "metadata": {},
     "output_type": "execute_result"
    }
   ],
   "source": [
    "s = input('Enter a string: ')\n",
    "isValid(s)"
   ]
  }
 ],
 "metadata": {
  "kernelspec": {
   "display_name": "Python 3 (ipykernel)",
   "language": "python",
   "name": "python3"
  },
  "language_info": {
   "codemirror_mode": {
    "name": "ipython",
    "version": 3
   },
   "file_extension": ".py",
   "mimetype": "text/x-python",
   "name": "python",
   "nbconvert_exporter": "python",
   "pygments_lexer": "ipython3",
   "version": "3.10.2"
  }
 },
 "nbformat": 4,
 "nbformat_minor": 5
}
