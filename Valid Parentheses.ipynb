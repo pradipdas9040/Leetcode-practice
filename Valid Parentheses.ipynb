{
 "cells": [
  {
   "cell_type": "markdown",
   "id": "b5ceb4ca",
   "metadata": {},
   "source": [
    "***Given a string s containing just the characters '(', ')', '{', '}', '[' and ']', determine if the input string is valid.***  \n",
    "**An input string is valid if:**\n",
    "- Open brackets must be closed by the same type of brackets.\n",
    "- Open brackets must be closed in the correct order."
   ]
  },
  {
   "attachments": {},
   "cell_type": "markdown",
   "id": "7605abd5",
   "metadata": {},
   "source": [
    "**Example 1:**    \n",
    "**Input:** s = \"()[]{}\"  \n",
    "**Output:** true\n",
    "\n",
    "**Example 2:**    \n",
    "**Input:** s = \"(]\"  \n",
    "**Output:** false  "
   ]
  },
  {
   "cell_type": "code",
   "execution_count": 5,
   "id": "97605cf8",
   "metadata": {},
   "outputs": [],
   "source": [
    "def isValid(s):\n",
    "    stack = []\n",
    "    open_list = [\"[\",\"{\",\"(\"]\n",
    "    close_list = [\"]\",\"}\",\")\"]\n",
    "    for i in s:\n",
    "        if i in open_list:\n",
    "            stack.append(i)\n",
    "        elif i in close_list:\n",
    "            pos = close_list.index(i)\n",
    "            if ((len(stack) > 0) and\n",
    "                (open_list[pos] == stack[len(stack)-1])):\n",
    "                stack.pop()\n",
    "            else:\n",
    "                return 0\n",
    "    if len(stack) == 0:\n",
    "        return 1\n",
    "    else:\n",
    "        return 0"
   ]
  },
  {
   "cell_type": "code",
   "execution_count": 6,
   "id": "88a08461",
   "metadata": {},
   "outputs": [
    {
     "name": "stdout",
     "output_type": "stream",
     "text": [
      "(){}[(]\n"
     ]
    },
    {
     "data": {
      "text/plain": [
       "0"
      ]
     },
     "execution_count": 6,
     "metadata": {},
     "output_type": "execute_result"
    }
   ],
   "source": [
    "s = input('Enter a string: ')\n",
    "print(s)\n",
    "isValid(s)"
   ]
  },
  {
   "cell_type": "markdown",
   "id": "8c632a3f",
   "metadata": {},
   "source": [
    "#### Another solution"
   ]
  },
  {
   "cell_type": "code",
   "execution_count": 7,
   "id": "99ee0325",
   "metadata": {},
   "outputs": [],
   "source": [
    "def isValid(s: str) -> bool:\n",
    "    valid_par_map = {')': '(', ']': '[', '}': '{'}\n",
    "    stack = []\n",
    "    for item in s:\n",
    "        if item in valid_par_map.values():\n",
    "            stack.append(item)\n",
    "        elif len(stack) == 0 and item in valid_par_map.keys():\n",
    "            return False\n",
    "        elif len(stack) > 0 and stack[-1] == valid_par_map[item]:\n",
    "            stack.pop()\n",
    "        else:\n",
    "            stack.append(item)\n",
    "    if len(stack) == 0:\n",
    "        return True\n",
    "    else:\n",
    "        return False"
   ]
  },
  {
   "cell_type": "code",
   "execution_count": 8,
   "id": "83bb256c",
   "metadata": {},
   "outputs": [
    {
     "data": {
      "text/plain": [
       "True"
      ]
     },
     "execution_count": 8,
     "metadata": {},
     "output_type": "execute_result"
    }
   ],
   "source": [
    "s = \"([])\"\n",
    "isValid(s)"
   ]
  },
  {
   "cell_type": "markdown",
   "id": "8f546e76",
   "metadata": {},
   "source": [
    "#### Another solution"
   ]
  },
  {
   "cell_type": "code",
   "execution_count": 9,
   "id": "3b3f2f10",
   "metadata": {},
   "outputs": [],
   "source": [
    "def isValid(s: str) -> bool:\n",
    "    stack = []\n",
    "    mapping = {')': '(', '}': '{', ']': '['}\n",
    "\n",
    "    for char in s:\n",
    "        if char in mapping.values():  # opening brackets\n",
    "            stack.append(char)\n",
    "        elif char in mapping:         # closing brackets\n",
    "            if not stack or stack[-1] != mapping[char]:\n",
    "                return False\n",
    "            stack.pop()\n",
    "        else:\n",
    "            return False  # invalid character\n",
    "\n",
    "    return not stack  # True if stack is empty (all brackets closed)\n"
   ]
  },
  {
   "cell_type": "code",
   "execution_count": null,
   "id": "b7cf8278",
   "metadata": {},
   "outputs": [],
   "source": []
  }
 ],
 "metadata": {
  "kernelspec": {
   "display_name": "Python 3",
   "language": "python",
   "name": "python3"
  },
  "language_info": {
   "codemirror_mode": {
    "name": "ipython",
    "version": 3
   },
   "file_extension": ".py",
   "mimetype": "text/x-python",
   "name": "python",
   "nbconvert_exporter": "python",
   "pygments_lexer": "ipython3",
   "version": "3.12.3"
  }
 },
 "nbformat": 4,
 "nbformat_minor": 5
}
