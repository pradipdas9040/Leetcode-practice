{
 "cells": [
  {
   "cell_type": "markdown",
   "metadata": {},
   "source": [
    "## Minimum Cost Walk in Weighted Graph\n",
    "\n",
    "There is an undirected weighted graph with `n` vertices labeled from `0` to `n - 1`.\n",
    "\n",
    "You are given the integer `n` and an array `edges`, where `edges[i] = [ui, vi, wi]` indicates that there is an edge between vertices `ui` and `vi` with a weight of `wi`.\n",
    "\n",
    "A walk on a graph is a sequence of vertices and edges. The walk starts and ends with a vertex, and each edge connects the vertex that comes before it and the vertex that comes after it. It's important to note that a walk may visit the same edge or vertex more than once.\n",
    "\n",
    "The cost of a walk starting at node `u` and ending at node `v` is defined as the bitwise AND of the weights of the edges traversed during the walk. In other words, if the sequence of edge weights encountered during the walk is `w0, w1, w2, ..., wk`, then the cost is calculated as `w0 & w1 & w2 & ... & wk`, where `&` denotes the bitwise AND operator.\n",
    "\n",
    "You are also given a 2D array `query`, where `query[i] = [si, ti]`. For each query, you need to find the minimum cost of the walk starting at vertex `si` and ending at vertex `ti`. If there exists no such walk, the answer is `-1`.\n",
    "\n",
    "Return the array `answer`, where `answer[i]` denotes the minimum cost of a walk for query `i`.\n",
    "\n",
    "### Example\n",
    "- Input: `n = 5, edges = [[0,1,7],[1,3,7],[1,2,1]], query = [[0,3],[3,4]]`\n",
    "\n",
    "- Output: `[1,-1]`\n",
    "#### Explanation:\n",
    "```plaintext\n",
    "To achieve the cost of 1 in the first query, we need to move on the following edges: 0->1 (weight 7), 1->2 (weight 1), 2->1 (weight 1), 1->3 (weight 7).\n",
    "\n",
    "In the second query, there is no walk between nodes 3 and 4, so the answer is -1.\n",
    "```\n",
    "```vbnet[]\n",
    "    0 --(7)-- 1 --(7)-- 3      4\n",
    "            | \n",
    "           (1)\n",
    "            |\n",
    "            2\n",
    "```"
   ]
  },
  {
   "cell_type": "code",
   "execution_count": 1,
   "metadata": {},
   "outputs": [],
   "source": [
    "from collections import defaultdict, deque\n",
    "\n",
    "def minimumCost(n, edges, queries):\n",
    "    # Step 1: Build adjacency list\n",
    "    graph = defaultdict(list)\n",
    "    for u, v, w in edges:\n",
    "        graph[u].append((v, w))\n",
    "        graph[v].append((u, w))\n",
    "\n",
    "    # Step 2: Identify components and calculate their costs\n",
    "    visited = [False] * n\n",
    "    components = [-1] * n  # Stores component ID for each node\n",
    "    component_cost = []  # Stores minimum AND cost for each component\n",
    "    component_id = 0\n",
    "\n",
    "    def bfs(start):\n",
    "        \"\"\"Finds the minimum AND cost for a component using BFS.\"\"\"\n",
    "        queue = deque([start])\n",
    "        visited[start] = True\n",
    "        components[start] = component_id\n",
    "        and_cost = -1  # Start with all bits set (111...111)\n",
    "\n",
    "        while queue:\n",
    "            node = queue.popleft()\n",
    "            for neighbor, weight in graph[node]:\n",
    "                if not visited[neighbor]:\n",
    "                    visited[neighbor] = True\n",
    "                    queue.append(neighbor)\n",
    "                    components[neighbor] = component_id\n",
    "                and_cost &= weight  # Update AND cost\n",
    "\n",
    "        return and_cost\n",
    "\n",
    "    # Find connected components\n",
    "    for i in range(n):\n",
    "        if not visited[i]:\n",
    "            component_cost.append(bfs(i))\n",
    "            component_id += 1\n",
    "\n",
    "    # Step 3: Answer queries\n",
    "    return [component_cost[components[u]] if components[u] == components[v] else -1 for u, v in queries]"
   ]
  },
  {
   "cell_type": "code",
   "execution_count": 2,
   "metadata": {},
   "outputs": [
    {
     "name": "stdout",
     "output_type": "stream",
     "text": [
      "[1, -1]\n"
     ]
    }
   ],
   "source": [
    "n1 = 5\n",
    "edges1 = [[0,1,7],[1,3,7],[1,2,1]]\n",
    "queries1 = [[0,3],[3,4]]\n",
    "print(minimumCost(n1, edges1, queries1))  "
   ]
  },
  {
   "cell_type": "code",
   "execution_count": 3,
   "metadata": {},
   "outputs": [
    {
     "name": "stdout",
     "output_type": "stream",
     "text": [
      "[0]\n"
     ]
    }
   ],
   "source": [
    "n2 = 3\n",
    "edges2 = [[0,2,7],[0,1,15],[1,2,6],[1,2,1]]\n",
    "queries2 = [[1,2]]\n",
    "print(minimumCost(n2, edges2, queries2))"
   ]
  },
  {
   "cell_type": "code",
   "execution_count": null,
   "metadata": {},
   "outputs": [],
   "source": []
  }
 ],
 "metadata": {
  "kernelspec": {
   "display_name": "Python 3",
   "language": "python",
   "name": "python3"
  },
  "language_info": {
   "codemirror_mode": {
    "name": "ipython",
    "version": 3
   },
   "file_extension": ".py",
   "mimetype": "text/x-python",
   "name": "python",
   "nbconvert_exporter": "python",
   "pygments_lexer": "ipython3",
   "version": "3.12.3"
  }
 },
 "nbformat": 4,
 "nbformat_minor": 2
}
