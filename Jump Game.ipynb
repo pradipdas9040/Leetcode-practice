{
 "cells": [
  {
   "cell_type": "markdown",
   "id": "a3a7fb0e",
   "metadata": {},
   "source": [
    "# Jump Game\n",
    "\n",
    "You are given an integer array nums. You are initially positioned at the array's first index, and each element in the array represents your maximum jump length at that position.\n",
    "\n",
    "Return true if you can reach the last index, or false otherwise.\n",
    "\n",
    "## Example 1:\n",
    "\n",
    "- Input: nums = [2,3,1,1,4]\n",
    "- Output: true\n",
    "- Explanation: Jump 1 step from index 0 to 1, then 3 steps to the last index.\n",
    "## Example 2:\n",
    "\n",
    "- Input: nums = [3,2,1,0,4]\n",
    "- Output: false\n",
    "- Explanation: You will always arrive at index 3 no matter what. Its maximum jump length is 0, which makes it impossible to reach the last index."
   ]
  },
  {
   "cell_type": "code",
   "execution_count": 1,
   "id": "f7178807",
   "metadata": {},
   "outputs": [],
   "source": [
    "def canJump(nums: list[int]) -> bool:\n",
    "    n = len(nums)\n",
    "    can_jump = [-1] * n\n",
    "    can_jump[0] = nums[0]\n",
    "    max_jump = 0\n",
    "    if nums[0] == 0 and n > 1:\n",
    "        return False\n",
    "    for i in range(1, n):\n",
    "        can_jump[i] = max(nums[i], can_jump[i-1] - 1)\n",
    "        max_jump = i\n",
    "        if can_jump[i] == 0 and i < n-1:\n",
    "            return False\n",
    "    if max_jump == n - 1:\n",
    "        return True"
   ]
  },
  {
   "cell_type": "code",
   "execution_count": null,
   "id": "58a907a6",
   "metadata": {},
   "outputs": [
    {
     "data": {
      "text/plain": [
       "False"
      ]
     },
     "execution_count": 2,
     "metadata": {},
     "output_type": "execute_result"
    }
   ],
   "source": [
    "nums = [3,2,1,0,4]\n",
    "canJump(nums)"
   ]
  },
  {
   "cell_type": "code",
   "execution_count": 3,
   "id": "08ddd905",
   "metadata": {},
   "outputs": [
    {
     "data": {
      "text/plain": [
       "True"
      ]
     },
     "execution_count": 3,
     "metadata": {},
     "output_type": "execute_result"
    }
   ],
   "source": [
    "nums = [2,3,1,1,4]\n",
    "canJump(nums)"
   ]
  },
  {
   "cell_type": "code",
   "execution_count": 4,
   "id": "895a0aad",
   "metadata": {},
   "outputs": [
    {
     "data": {
      "text/plain": [
       "False"
      ]
     },
     "execution_count": 4,
     "metadata": {},
     "output_type": "execute_result"
    }
   ],
   "source": [
    "nums = [0, 1]\n",
    "canJump(nums)"
   ]
  },
  {
   "cell_type": "code",
   "execution_count": 5,
   "id": "4dd01613",
   "metadata": {},
   "outputs": [
    {
     "data": {
      "text/plain": [
       "True"
      ]
     },
     "execution_count": 5,
     "metadata": {},
     "output_type": "execute_result"
    }
   ],
   "source": [
    "nums = [0]\n",
    "canJump(nums)"
   ]
  },
  {
   "cell_type": "code",
   "execution_count": null,
   "id": "1f9ab3cf",
   "metadata": {},
   "outputs": [],
   "source": []
  }
 ],
 "metadata": {
  "kernelspec": {
   "display_name": "Python 3",
   "language": "python",
   "name": "python3"
  },
  "language_info": {
   "codemirror_mode": {
    "name": "ipython",
    "version": 3
   },
   "file_extension": ".py",
   "mimetype": "text/x-python",
   "name": "python",
   "nbconvert_exporter": "python",
   "pygments_lexer": "ipython3",
   "version": "3.12.3"
  }
 },
 "nbformat": 4,
 "nbformat_minor": 5
}
