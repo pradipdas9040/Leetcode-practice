{
 "cells": [
  {
   "cell_type": "markdown",
   "metadata": {},
   "source": [
    "### Given a string s, return the longest palindromic substring in s.\n",
    "\n",
    " \n",
    "\n",
    "#### Example 1:\n",
    "\n",
    "- Input: s = \"babad\"\n",
    "- Output: \"bab\"\n",
    "- Explanation: \"aba\" is also a valid answer."
   ]
  },
  {
   "cell_type": "code",
   "execution_count": 1,
   "metadata": {},
   "outputs": [],
   "source": [
    "def longestPalindrome(s):\n",
    "    \"\"\"\n",
    "    :type s: str\n",
    "    :rtype: str\n",
    "    \"\"\"\n",
    "    start, max_len = 0, 0\n",
    "    def expend_around_center(left, right):\n",
    "        while left > 0 and right < len(s) and s[left] == s[right]:\n",
    "            left -= 1\n",
    "            right += 1\n",
    "        return left + 1, right -1\n",
    "    \n",
    "    for i in range(len(s)):\n",
    "        left_odd, right_odd = expend_around_center(i, i)\n",
    "        if max_len < right_odd - left_odd + 1:\n",
    "            max_len = right_odd - left_odd + 1\n",
    "            start = left_odd\n",
    "\n",
    "        left_even, right_even = expend_around_center(i, i+1)\n",
    "        if max_len < right_even - left_even + 1:\n",
    "            max_len = right_even - left_even + 1\n",
    "            start = left_even\n",
    "\n",
    "    return s[start: start + max_len]"
   ]
  },
  {
   "cell_type": "code",
   "execution_count": 2,
   "metadata": {},
   "outputs": [
    {
     "data": {
      "text/plain": [
       "'aba'"
      ]
     },
     "execution_count": 2,
     "metadata": {},
     "output_type": "execute_result"
    }
   ],
   "source": [
    "s = \"babad\"\n",
    "longestPalindrome(s)"
   ]
  },
  {
   "cell_type": "code",
   "execution_count": null,
   "metadata": {},
   "outputs": [],
   "source": []
  }
 ],
 "metadata": {
  "kernelspec": {
   "display_name": "Python 3",
   "language": "python",
   "name": "python3"
  },
  "language_info": {
   "codemirror_mode": {
    "name": "ipython",
    "version": 3
   },
   "file_extension": ".py",
   "mimetype": "text/x-python",
   "name": "python",
   "nbconvert_exporter": "python",
   "pygments_lexer": "ipython3",
   "version": "3.12.3"
  }
 },
 "nbformat": 4,
 "nbformat_minor": 2
}
