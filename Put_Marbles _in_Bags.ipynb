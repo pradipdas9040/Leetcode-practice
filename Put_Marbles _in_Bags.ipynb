{
 "cells": [
  {
   "cell_type": "markdown",
   "metadata": {},
   "source": [
    "## Put Marbles in Bags\n",
    "\n",
    "You have `k` bags. You are given a 0-indexed integer array weights where `weights[i]` is the weight of the `ith` marble. You are also given the integer `k`.\n",
    "\n",
    "Divide the marbles into the `k` bags according to the following rules:\n",
    "\n",
    "- No bag is empty.\n",
    "- If the `ith` marble and `jth` marble are in a bag, then all marbles with an index between the `ith` and `jth` indices should also be in that same bag.\n",
    "- If a bag consists of all the marbles with an index from `i` to `j` inclusively, then the cost of the bag is `weights[i] + weights[j]`.\n",
    "\n",
    "The score after distributing the marbles is the sum of the costs of all the `k` bags.\n",
    "\n",
    "Return the difference between the maximum and minimum scores among marble distributions.\n",
    "\n",
    "### Example 1:\n",
    "\n",
    "- Input: weights = [1,3,5,1], k = 2\n",
    "- Output: 4\n",
    "#### Explanation:  \n",
    "```plaintext[]\n",
    "The distribution [1],[3,5,1] results in the minimal score of (1+1) + (3+1) = 6. \n",
    "The distribution [1,3],[5,1], results in the maximal score of (1+3) + (5+1) = 10. \n",
    "Thus, we return their difference 10 - 6 = 4.\n",
    "```\n",
    "### Example 2:\n",
    "- Input: weights = [1, 3], k = 2\n",
    "- Output: 0\n",
    "#### Explanation: \n",
    "```plaintext[]\n",
    "The only distribution possible is [1],[3]. \n",
    "Since both the maximal and minimal score are the same, we return 0.\n",
    "```\n",
    "\n"
   ]
  },
  {
   "cell_type": "code",
   "execution_count": 1,
   "metadata": {},
   "outputs": [],
   "source": [
    "def putMarbles(weights, k):\n",
    "    \"\"\"\n",
    "    :type weights: List[int]\n",
    "    :type k: int\n",
    "    :rtype: int\n",
    "    \"\"\"\n",
    "    n = len(weights)\n",
    "    pairwise_sum = []\n",
    "\n",
    "    for i in range(n-1):\n",
    "        pairwise_sum.append(weights[i] + weights[i+1])   \n",
    "\n",
    "    pairwise_sum.sort()\n",
    "\n",
    "    result = sum(pairwise_sum[-(k-1):]) - sum(pairwise_sum[:k-1])\n",
    "        \n",
    "    return result"
   ]
  },
  {
   "cell_type": "code",
   "execution_count": 2,
   "metadata": {},
   "outputs": [
    {
     "data": {
      "text/plain": [
       "4"
      ]
     },
     "execution_count": 2,
     "metadata": {},
     "output_type": "execute_result"
    }
   ],
   "source": [
    "weights = [1,3,5,1]\n",
    "k = 2\n",
    "putMarbles(weights, k)"
   ]
  },
  {
   "cell_type": "code",
   "execution_count": 3,
   "metadata": {},
   "outputs": [
    {
     "data": {
      "text/plain": [
       "0"
      ]
     },
     "execution_count": 3,
     "metadata": {},
     "output_type": "execute_result"
    }
   ],
   "source": [
    "weights = [1, 3]\n",
    "k = 2\n",
    "putMarbles(weights, k)"
   ]
  },
  {
   "cell_type": "code",
   "execution_count": null,
   "metadata": {},
   "outputs": [],
   "source": []
  }
 ],
 "metadata": {
  "kernelspec": {
   "display_name": "Python 3",
   "language": "python",
   "name": "python3"
  },
  "language_info": {
   "codemirror_mode": {
    "name": "ipython",
    "version": 3
   },
   "file_extension": ".py",
   "mimetype": "text/x-python",
   "name": "python",
   "nbconvert_exporter": "python",
   "pygments_lexer": "ipython3",
   "version": "3.12.3"
  }
 },
 "nbformat": 4,
 "nbformat_minor": 2
}
