{
 "cells": [
  {
   "cell_type": "markdown",
   "metadata": {},
   "source": [
    "## Partition Array Such That Maximum Difference Is K\n",
    "\n",
    "You are given an integer array `nums` and an integer `k`. You may partition `nums` into one or more subsequences such that each element in `nums` appears in exactly one of the subsequences.\n",
    "\n",
    "Return the minimum number of subsequences needed such that the difference between the maximum and minimum values in each subsequence is at most `k`.\n",
    "\n",
    "A subsequence is a sequence that can be derived from another sequence by deleting some or no elements without changing the order of the remaining elements.\n",
    "\n",
    "#### Example 1:\n",
    "\n",
    "- Input: nums = [3,6,1,2,5], k = 2\n",
    "- Output: 2\n",
    "- Explanation:\n",
    "```plaintext[]\n",
    "    We can partition nums into the two subsequences [3,1,2] and [6,5].\n",
    "    The difference between the maximum and minimum value in the first subsequence is 3 - 1 = 2.\n",
    "    The difference between the maximum and minimum value in the second subsequence is 6 - 5 = 1.\n",
    "    Since two subsequences were created, we return 2. It can be shown that 2 is the minimum number of subsequences needed.\n",
    "```"
   ]
  },
  {
   "cell_type": "code",
   "execution_count": 1,
   "metadata": {},
   "outputs": [],
   "source": [
    "def partitionArray(nums: list[int], k: int) -> int:\n",
    "    if k == 0:\n",
    "        return len(set(nums))\n",
    "    nums.sort()\n",
    "    count = 1\n",
    "    i, j = 0, 0\n",
    "    while i < len(nums):\n",
    "        if nums[i] - nums[j] <= k:\n",
    "            i += 1\n",
    "        else:\n",
    "            count += 1\n",
    "            j = i\n",
    "    return count"
   ]
  },
  {
   "cell_type": "code",
   "execution_count": 2,
   "metadata": {},
   "outputs": [
    {
     "data": {
      "text/plain": [
       "2"
      ]
     },
     "execution_count": 2,
     "metadata": {},
     "output_type": "execute_result"
    }
   ],
   "source": [
    "nums = [3,6,1,2,5]\n",
    "k = 2\n",
    "partitionArray(nums, k)"
   ]
  },
  {
   "cell_type": "code",
   "execution_count": 3,
   "metadata": {},
   "outputs": [
    {
     "data": {
      "text/plain": [
       "2"
      ]
     },
     "execution_count": 3,
     "metadata": {},
     "output_type": "execute_result"
    }
   ],
   "source": [
    "nums = [1,2,3]\n",
    "k = 1\n",
    "partitionArray(nums, k)"
   ]
  },
  {
   "cell_type": "code",
   "execution_count": null,
   "metadata": {},
   "outputs": [],
   "source": []
  }
 ],
 "metadata": {
  "kernelspec": {
   "display_name": "Python 3",
   "language": "python",
   "name": "python3"
  },
  "language_info": {
   "codemirror_mode": {
    "name": "ipython",
    "version": 3
   },
   "file_extension": ".py",
   "mimetype": "text/x-python",
   "name": "python",
   "nbconvert_exporter": "python",
   "pygments_lexer": "ipython3",
   "version": "3.12.3"
  }
 },
 "nbformat": 4,
 "nbformat_minor": 2
}
