{
 "cells": [
  {
   "cell_type": "markdown",
   "metadata": {},
   "source": [
    "## Count Complete Subarrays in an Array\n",
    "\n",
    "You are given an array `nums` consisting of positive integers.\n",
    "\n",
    "We call a subarray of an array complete if the following condition is satisfied:\n",
    "\n",
    "- The number of distinct elements in the subarray is equal to the number of distinct elements in the whole array.\n",
    "Return the number of complete subarrays.\n",
    "\n",
    "A subarray is a contiguous non-empty part of an array.\n",
    "\n",
    "#### Example 1:\n",
    "\n",
    "- Input: nums = [1,3,1,2,2]\n",
    "- Output: 4\n",
    "- Explanation: \n",
    "    ```plaintext[]\n",
    "    The complete subarrays are the following: [1,3,1,2], [1,3,1,2,2], [3,1,2] and [3,1,2,2].\n",
    "    ```"
   ]
  },
  {
   "cell_type": "code",
   "execution_count": 1,
   "metadata": {},
   "outputs": [],
   "source": [
    "def countCompleteSubarrays(nums: list[int]) -> int:\n",
    "    nums_set_len = len(set(nums))\n",
    "    n = len(nums)\n",
    "    left, right = 0, 0\n",
    "    count = 0\n",
    "\n",
    "    while left < n and right < n:\n",
    "        sub_arr = nums[left: right]\n",
    "        \n",
    "        if len(set(sub_arr)) != nums_set_len:\n",
    "            right += 1\n",
    "        elif len(set(sub_arr)) == nums_set_len and left < n and right < n:\n",
    "            count += (n - right) + 1\n",
    "            left += 1\n",
    "        else:\n",
    "            left += 1\n",
    "\n",
    "    while left < n and right == n:\n",
    "        sub_arr = nums[left: right]\n",
    "        if len(set(sub_arr)) == nums_set_len and left < n:\n",
    "            count += (1)\n",
    "            left += 1\n",
    "        else:\n",
    "            left += 1\n",
    "    return count"
   ]
  },
  {
   "cell_type": "code",
   "execution_count": 2,
   "metadata": {},
   "outputs": [
    {
     "data": {
      "text/plain": [
       "4"
      ]
     },
     "execution_count": 2,
     "metadata": {},
     "output_type": "execute_result"
    }
   ],
   "source": [
    "nums = [1,3,1,2,2]\n",
    "countCompleteSubarrays(nums)"
   ]
  },
  {
   "cell_type": "code",
   "execution_count": 3,
   "metadata": {},
   "outputs": [
    {
     "data": {
      "text/plain": [
       "10"
      ]
     },
     "execution_count": 3,
     "metadata": {},
     "output_type": "execute_result"
    }
   ],
   "source": [
    "nums = [5,5,5,5]\n",
    "countCompleteSubarrays(nums)"
   ]
  },
  {
   "cell_type": "code",
   "execution_count": 4,
   "metadata": {},
   "outputs": [],
   "source": [
    "def countCompleteSubarrays(nums: list[int]) -> int:\n",
    "    total_unique = len(set(nums))\n",
    "    n = len(nums)\n",
    "    count = 0\n",
    "    \n",
    "    for i in range(n):\n",
    "        seen = set()\n",
    "        for j in range(i, n):\n",
    "            seen.add(nums[j])\n",
    "            if len(seen) == total_unique:\n",
    "                count += 1\n",
    "    return count"
   ]
  },
  {
   "cell_type": "code",
   "execution_count": 5,
   "metadata": {},
   "outputs": [
    {
     "data": {
      "text/plain": [
       "10"
      ]
     },
     "execution_count": 5,
     "metadata": {},
     "output_type": "execute_result"
    }
   ],
   "source": [
    "nums = [5,5,5,5]\n",
    "countCompleteSubarrays(nums)"
   ]
  },
  {
   "cell_type": "code",
   "execution_count": null,
   "metadata": {},
   "outputs": [],
   "source": []
  }
 ],
 "metadata": {
  "kernelspec": {
   "display_name": "Python 3",
   "language": "python",
   "name": "python3"
  },
  "language_info": {
   "codemirror_mode": {
    "name": "ipython",
    "version": 3
   },
   "file_extension": ".py",
   "mimetype": "text/x-python",
   "name": "python",
   "nbconvert_exporter": "python",
   "pygments_lexer": "ipython3",
   "version": "3.12.3"
  }
 },
 "nbformat": 4,
 "nbformat_minor": 2
}
