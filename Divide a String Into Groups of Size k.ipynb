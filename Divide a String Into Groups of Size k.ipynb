{
 "cells": [
  {
   "cell_type": "markdown",
   "metadata": {},
   "source": [
    "## Divide a String Into Groups of Size k\n",
    "\n",
    "A string `s` can be partitioned into groups of size `k` using the following procedure:\n",
    "\n",
    "- The first group consists of the first `k` characters of the string, the second group consists of the next `k` characters of the string, and so on. Each element can be a part of exactly one group.\n",
    "- For the last group, if the string does not have `k` characters remaining, a character fill is used to complete the group.\n",
    "\n",
    "Note that the partition is done so that after removing the fill character from the last group (if it exists) and concatenating all the groups in order, the resultant string should be `s`.\n",
    "\n",
    "Given the string `s`, the size of each group `k` and the character fill, return a string array denoting the composition of every group `s` has been divided into, using the above procedure.\n",
    "\n",
    "#### Example 1:\n",
    "\n",
    "- Input:  s = \"abcdefghi\", k = 3, fill = \"x\"\n",
    "- Output: [\"abc\",\"def\",\"ghi\"]\n",
    "- Explanation:\n",
    "```plaintext[]\n",
    "    The first 3 characters \"abc\" form the first group.\n",
    "    The next 3 characters \"def\" form the second group.\n",
    "    The last 3 characters \"ghi\" form the third group.\n",
    "    Since all groups can be completely filled by characters from the string, we do not need to use fill.\n",
    "    Thus, the groups formed are \"abc\", \"def\", and \"ghi\".\n",
    "```"
   ]
  },
  {
   "cell_type": "code",
   "execution_count": 1,
   "metadata": {},
   "outputs": [],
   "source": [
    "def divideString(s: str, k: int, fill: str) -> list[str]:\n",
    "    s += fill * ((k - len(s) % k) % k)\n",
    "    return [s[i:i+k] for i in range(0, len(s), k)]"
   ]
  },
  {
   "cell_type": "code",
   "execution_count": 2,
   "metadata": {},
   "outputs": [
    {
     "data": {
      "text/plain": [
       "['abc', 'def', 'ghi']"
      ]
     },
     "execution_count": 2,
     "metadata": {},
     "output_type": "execute_result"
    }
   ],
   "source": [
    "s = \"abcdefghi\"\n",
    "k = 3\n",
    "fill = \"x\"\n",
    "divideString(s, k, fill)"
   ]
  },
  {
   "cell_type": "code",
   "execution_count": 3,
   "metadata": {},
   "outputs": [
    {
     "data": {
      "text/plain": [
       "['abc', 'def', 'ghi', 'jxx']"
      ]
     },
     "execution_count": 3,
     "metadata": {},
     "output_type": "execute_result"
    }
   ],
   "source": [
    "s = \"abcdefghij\"\n",
    "k = 3\n",
    "fill = \"x\"\n",
    "divideString(s, k, fill)"
   ]
  },
  {
   "cell_type": "code",
   "execution_count": null,
   "metadata": {},
   "outputs": [],
   "source": []
  }
 ],
 "metadata": {
  "kernelspec": {
   "display_name": "Python 3",
   "language": "python",
   "name": "python3"
  },
  "language_info": {
   "codemirror_mode": {
    "name": "ipython",
    "version": 3
   },
   "file_extension": ".py",
   "mimetype": "text/x-python",
   "name": "python",
   "nbconvert_exporter": "python",
   "pygments_lexer": "ipython3",
   "version": "3.12.3"
  }
 },
 "nbformat": 4,
 "nbformat_minor": 2
}
