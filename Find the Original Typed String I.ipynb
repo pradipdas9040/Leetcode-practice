{
 "cells": [
  {
   "cell_type": "markdown",
   "metadata": {},
   "source": [
    "## Find the Original Typed String I\n",
    "\n",
    "Alice is attempting to type a specific string on her computer. However, she tends to be clumsy and may press a key for too long, resulting in a character being typed multiple times.\n",
    "\n",
    "Although Alice tried to focus on her typing, she is aware that she may still have done this at most once.\n",
    "\n",
    "You are given a string `word`, which represents the final output displayed on Alice's screen.\n",
    "\n",
    "Return the total number of possible original strings that Alice might have intended to type.\n",
    "\n",
    "#### Example 1:\n",
    "\n",
    "- Input:  word = \"abbcccc\"\n",
    "- Output: 5\n",
    "- Explanation:\n",
    "```plaintext[]\n",
    "    The possible strings are: \"abbcccc\", \"abbccc\", \"abbcc\", \"abbc\", and \"abcccc\".\n",
    "```"
   ]
  },
  {
   "cell_type": "code",
   "execution_count": 1,
   "metadata": {},
   "outputs": [],
   "source": [
    "import re"
   ]
  },
  {
   "cell_type": "code",
   "execution_count": 2,
   "metadata": {},
   "outputs": [],
   "source": [
    "def possibleStringCount(word: str) -> int:\n",
    "    if not word:\n",
    "        return 0\n",
    "\n",
    "    compressed = ''\n",
    "    count = 1\n",
    "    n = len(word)\n",
    "\n",
    "    for i in range(1, n):\n",
    "        if word[i] == word[i - 1]:\n",
    "            count += 1\n",
    "        else:\n",
    "            compressed += word[i - 1] + str(count)\n",
    "            count = 1\n",
    "\n",
    "    compressed += (word[-1] + str(count))\n",
    "    nums = re.findall(r'\\d+', compressed)\n",
    "    nums_sum = sum([(int(num) - 1) for num in nums if int(num) > 1])\n",
    "\n",
    "    return nums_sum + 1"
   ]
  },
  {
   "cell_type": "code",
   "execution_count": 3,
   "metadata": {},
   "outputs": [
    {
     "data": {
      "text/plain": [
       "5"
      ]
     },
     "execution_count": 3,
     "metadata": {},
     "output_type": "execute_result"
    }
   ],
   "source": [
    "word = \"abbcccc\"\n",
    "possibleStringCount(word)"
   ]
  },
  {
   "cell_type": "code",
   "execution_count": 4,
   "metadata": {},
   "outputs": [
    {
     "data": {
      "text/plain": [
       "4"
      ]
     },
     "execution_count": 4,
     "metadata": {},
     "output_type": "execute_result"
    }
   ],
   "source": [
    "word = \"aaaa\"\n",
    "possibleStringCount(word)"
   ]
  },
  {
   "cell_type": "markdown",
   "metadata": {},
   "source": [
    "#### Using Stack"
   ]
  },
  {
   "cell_type": "code",
   "execution_count": 5,
   "metadata": {},
   "outputs": [],
   "source": [
    "def possibleStringCount2(word: str) -> int:\n",
    "    stack = []\n",
    "    count = 1\n",
    "\n",
    "    for ch in word:\n",
    "        if not stack or (stack and ch == stack[-1]):\n",
    "            stack.append(ch)\n",
    "        else:\n",
    "            count += len(stack) - 1\n",
    "            stack = [ch]\n",
    "    count += len(stack) - 1\n",
    "    return count"
   ]
  },
  {
   "cell_type": "code",
   "execution_count": 6,
   "metadata": {},
   "outputs": [
    {
     "data": {
      "text/plain": [
       "5"
      ]
     },
     "execution_count": 6,
     "metadata": {},
     "output_type": "execute_result"
    }
   ],
   "source": [
    "word = \"abbcccc\"\n",
    "possibleStringCount2(word)"
   ]
  },
  {
   "cell_type": "code",
   "execution_count": null,
   "metadata": {},
   "outputs": [],
   "source": []
  }
 ],
 "metadata": {
  "kernelspec": {
   "display_name": "Python 3",
   "language": "python",
   "name": "python3"
  },
  "language_info": {
   "codemirror_mode": {
    "name": "ipython",
    "version": 3
   },
   "file_extension": ".py",
   "mimetype": "text/x-python",
   "name": "python",
   "nbconvert_exporter": "python",
   "pygments_lexer": "ipython3",
   "version": "3.12.3"
  }
 },
 "nbformat": 4,
 "nbformat_minor": 2
}
