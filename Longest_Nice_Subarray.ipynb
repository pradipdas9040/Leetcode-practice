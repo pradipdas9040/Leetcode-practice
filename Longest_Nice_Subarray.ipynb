{
 "cells": [
  {
   "cell_type": "markdown",
   "metadata": {},
   "source": [
    "## Problem Statement\n",
    "You are given an array `nums` consisting of positive integers.\n",
    "\n",
    "We call a subarray of `nums` **nice** if the **bitwise AND** of every pair of elements that are in different positions in the subarray is equal to `0`.\n",
    "\n",
    "Return the length of the **longest nice subarray**.\n",
    "\n",
    "A subarray is a **contiguous** part of an array.\n",
    "\n",
    "Note that subarrays of length `1` are always considered nice.\n",
    "\n",
    "---\n",
    "\n",
    "## Example 1:\n",
    "### **Input:**\n",
    "```plaintext\n",
    "nums = [1,3,8,48,10]\n",
    "```\n",
    "### **Output:**\n",
    "`3`\n",
    "\n",
    "#### Explanation:\n",
    "The longest nice subarray is [3,8,48]. This subarray satisfies the conditions:\n",
    "\n",
    "- 3 AND 8 = 0\n",
    "- 3 AND 48 = 0\n",
    "- 8 AND 48 = 0\n",
    "\n",
    "It can be proven that no longer nice subarray can be obtained, so we return 3."
   ]
  },
  {
   "cell_type": "code",
   "execution_count": 1,
   "metadata": {},
   "outputs": [
    {
     "data": {
      "text/plain": [
       "3"
      ]
     },
     "execution_count": 1,
     "metadata": {},
     "output_type": "execute_result"
    }
   ],
   "source": [
    "def longestNiceSubarray(nums):\n",
    "    max_len = 0\n",
    "    for i in range(len(nums)):\n",
    "        bitwise_or = 0\n",
    "        for j in range(i, len(nums)):\n",
    "            if (bitwise_or & nums[j]) == 0:\n",
    "                bitwise_or |= nums[j]\n",
    "                max_len = max(max_len, j - i + 1)\n",
    "            else:\n",
    "                break\n",
    "    return max_len\n",
    "\n",
    "nums = [1,3,8,48,10]\n",
    "longestNiceSubarray(nums)"
   ]
  },
  {
   "cell_type": "code",
   "execution_count": null,
   "metadata": {},
   "outputs": [
    {
     "data": {
      "text/plain": [
       "4"
      ]
     },
     "execution_count": 2,
     "metadata": {},
     "output_type": "execute_result"
    }
   ],
   "source": [
    "def longestNiceSubarray(nums):\n",
    "    max_len = 0\n",
    "    bitwise_or = 0\n",
    "    left = 0\n",
    "    \n",
    "    for right in range(len(nums)):\n",
    "        while (bitwise_or & nums[right]) != 0:\n",
    "\n",
    "            bitwise_or ^= nums[left] # Remove nums[left] from the OR\n",
    "            left += 1\n",
    "\n",
    "        max_len = max(max_len, right - left + 1)\n",
    "        bitwise_or |= nums[right] # Add nums[right] from the OR\n",
    "\n",
    "    return max_len\n",
    "\n",
    "nums = [178830999,19325904,844110858,806734874,280746028,64,256,33554432,882197187,104359873,453049214,820924081,624788281,710612132,839991691]\n",
    "longestNiceSubarray(nums)"
   ]
  },
  {
   "cell_type": "code",
   "execution_count": null,
   "metadata": {},
   "outputs": [],
   "source": []
  }
 ],
 "metadata": {
  "kernelspec": {
   "display_name": "Python 3",
   "language": "python",
   "name": "python3"
  },
  "language_info": {
   "codemirror_mode": {
    "name": "ipython",
    "version": 3
   },
   "file_extension": ".py",
   "mimetype": "text/x-python",
   "name": "python",
   "nbconvert_exporter": "python",
   "pygments_lexer": "ipython3",
   "version": "3.12.3"
  }
 },
 "nbformat": 4,
 "nbformat_minor": 2
}
