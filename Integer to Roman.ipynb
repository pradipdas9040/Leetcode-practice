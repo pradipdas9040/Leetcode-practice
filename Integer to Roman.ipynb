{
 "cells": [
  {
   "cell_type": "markdown",
   "id": "a3a7fb0e",
   "metadata": {},
   "source": [
    "# Integer to Roman\n",
    "\n",
    "Roman numerals are formed by appending the conversions of decimal place values from highest to lowest. Converting a decimal place value into a Roman numeral has the following rules:\n",
    "\n",
    "- If the value does not start with 4 or 9, select the symbol of the maximal value that can be subtracted from the input, append that symbol to the result, subtract its value, and convert the remainder to a Roman numeral.\n",
    "- If the value starts with 4 or 9 use the subtractive form representing one symbol subtracted from the following symbol, for example, 4 is 1 (I) less than 5 (V): IV and 9 is 1 (I) less than 10 (X): IX. Only the following subtractive forms are used: 4 (IV), 9 (IX), 40 (XL), 90 (XC), 400 (CD) and 900 (CM).\n",
    "- Only powers of 10 (I, X, C, M) can be appended consecutively at most 3 times to represent multiples of 10. You cannot append 5 (V), 50 (L), or 500 (D) multiple times. If you need to append a symbol 4 times use the subtractive form.\n",
    "\n",
    "Given an integer, convert it to a Roman numeral.\n",
    "\n",
    "## Example 1:\n",
    "\n",
    "- Input: num = 3749\n",
    "- Output: \"MMMDCCXLIX\"\n",
    "- Explanation:\n",
    "```plaintext[]\n",
    "    3000 = MMM as 1000 (M) + 1000 (M) + 1000 (M)\n",
    "    700 = DCC as 500 (D) + 100 (C) + 100 (C)\n",
    "    40 = XL as 10 (X) less of 50 (L)\n",
    "    9 = IX as 1 (I) less of 10 (X)\n",
    "    Note: 49 is not 1 (I) less of 50 (L) because the conversion is based on decimal places\n",
    "```"
   ]
  },
  {
   "cell_type": "code",
   "execution_count": 3,
   "id": "f7178807",
   "metadata": {},
   "outputs": [],
   "source": [
    "def intToRoman(num: int) -> str:\n",
    "    roman_int_map = {\n",
    "        1: 'I',\n",
    "        5: 'V',\n",
    "        10: 'X',\n",
    "        50: 'L',\n",
    "        100: 'C',\n",
    "        500: 'D',\n",
    "        1000: 'M'\n",
    "    }\n",
    "    lng = len(str(num)) - 1\n",
    "    number_des = []\n",
    "    while lng >= 0:\n",
    "        number_des.append(num - num % 10 ** lng)\n",
    "        num %= 10 ** lng\n",
    "        lng -= 1\n",
    "\n",
    "    roman = ''\n",
    "    number_des_len = len(number_des) - 1\n",
    "    \n",
    "    for pos, num in enumerate(number_des):\n",
    "            \n",
    "        if num >= 5 * 10 ** (number_des_len-pos)  and num < 10 ** (number_des_len-pos+1):\n",
    "            if str(num)[0] == '9':\n",
    "                roman += roman_int_map[10 ** (number_des_len-pos)] + roman_int_map[10 ** (number_des_len-pos+1)]\n",
    "            else:\n",
    "                roman += roman_int_map[5 * 10 ** (number_des_len-pos)]\n",
    "                num -= 5 * 10 ** (number_des_len-pos)\n",
    "                while num > 0:\n",
    "                    roman += roman_int_map[10 ** (number_des_len-pos)]\n",
    "                    num -= 10 ** (number_des_len-pos)\n",
    "\n",
    "        if num >= 10 ** (number_des_len-pos) and num < 5 * 10 ** (number_des_len-pos):\n",
    "            if str(num)[0] == '4':\n",
    "                roman += roman_int_map[10 ** (number_des_len-pos)] + roman_int_map[5 * 10 ** (number_des_len-pos)]\n",
    "            else:\n",
    "                roman += (num // 10 ** (number_des_len-pos)) * roman_int_map[10 ** (number_des_len-pos)]\n",
    "    return roman\n",
    "    "
   ]
  },
  {
   "cell_type": "code",
   "execution_count": 4,
   "id": "ca8bb2c1",
   "metadata": {},
   "outputs": [
    {
     "data": {
      "text/plain": [
       "'MMMDCCXLIX'"
      ]
     },
     "execution_count": 4,
     "metadata": {},
     "output_type": "execute_result"
    }
   ],
   "source": [
    "num = 3749\n",
    "intToRoman(num)"
   ]
  },
  {
   "cell_type": "code",
   "execution_count": 5,
   "id": "7ea0c48b",
   "metadata": {},
   "outputs": [
    {
     "data": {
      "text/plain": [
       "'LVIII'"
      ]
     },
     "execution_count": 5,
     "metadata": {},
     "output_type": "execute_result"
    }
   ],
   "source": [
    "num = 58\n",
    "intToRoman(num)"
   ]
  },
  {
   "cell_type": "markdown",
   "id": "f67c5273",
   "metadata": {},
   "source": [
    "#### Code Optimized Version"
   ]
  },
  {
   "cell_type": "code",
   "execution_count": 7,
   "id": "7c70a417",
   "metadata": {},
   "outputs": [],
   "source": [
    "def intToRoman(num: int) -> str:\n",
    "    val = [\n",
    "        1000, 900, 500, 400,\n",
    "        100, 90, 50, 40,\n",
    "        10, 9, 5, 4,\n",
    "        1\n",
    "    ]\n",
    "    syms = [\n",
    "        \"M\", \"CM\", \"D\", \"CD\",\n",
    "        \"C\", \"XC\", \"L\", \"XL\",\n",
    "        \"X\", \"IX\", \"V\", \"IV\",\n",
    "        \"I\"\n",
    "    ]\n",
    "    \n",
    "    roman = \"\"\n",
    "    for i in range(len(val)):\n",
    "        count = num // val[i]\n",
    "        roman += syms[i] * count\n",
    "        num %= val[i]\n",
    "    return roman"
   ]
  },
  {
   "cell_type": "code",
   "execution_count": 8,
   "id": "66de5d03",
   "metadata": {},
   "outputs": [
    {
     "data": {
      "text/plain": [
       "'MMMDCCXLIX'"
      ]
     },
     "execution_count": 8,
     "metadata": {},
     "output_type": "execute_result"
    }
   ],
   "source": [
    "num = 3749\n",
    "intToRoman(num)"
   ]
  },
  {
   "cell_type": "code",
   "execution_count": 9,
   "id": "a0988416",
   "metadata": {},
   "outputs": [
    {
     "data": {
      "text/plain": [
       "'LVIII'"
      ]
     },
     "execution_count": 9,
     "metadata": {},
     "output_type": "execute_result"
    }
   ],
   "source": [
    "num = 58\n",
    "intToRoman(num)"
   ]
  },
  {
   "cell_type": "code",
   "execution_count": null,
   "id": "806941dd",
   "metadata": {},
   "outputs": [],
   "source": []
  }
 ],
 "metadata": {
  "kernelspec": {
   "display_name": "Python 3",
   "language": "python",
   "name": "python3"
  },
  "language_info": {
   "codemirror_mode": {
    "name": "ipython",
    "version": 3
   },
   "file_extension": ".py",
   "mimetype": "text/x-python",
   "name": "python",
   "nbconvert_exporter": "python",
   "pygments_lexer": "ipython3",
   "version": "3.12.3"
  }
 },
 "nbformat": 4,
 "nbformat_minor": 5
}
