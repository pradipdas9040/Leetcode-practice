{
 "cells": [
  {
   "cell_type": "markdown",
   "metadata": {},
   "source": [
    "## Minimum Equal Sum of Two Arrays After Replacing Zeros\n",
    "\n",
    "You are given two arrays `nums1` and `nums2` consisting of positive integers.\n",
    "\n",
    "You have to replace all the `0`'s in both arrays with strictly positive integers such that the sum of elements of both arrays becomes equal.\n",
    "\n",
    "Return the minimum equal sum you can obtain, or `-1` if it is impossible.\n",
    "\n",
    "#### Example 1:\n",
    "\n",
    "- Input: nums1 = [3,2,0,1,0], nums2 = [6,5,0]\n",
    "- Output: 12\n",
    "- Explanation:\n",
    "\n",
    "```plain_text[]\n",
    "        We can replace 0's in the following way:\n",
    "        - Replace the two 0's in nums1 with the values 2 and 4. The resulting array is nums1 = [3,2,2,1,4].\n",
    "        - Replace the 0 in nums2 with the value 1. The resulting array is nums2 = [6,5,1].\n",
    "        Both arrays have an equal sum of 12. It can be shown that it is the minimum sum we can obtain.\n",
    "```"
   ]
  },
  {
   "cell_type": "code",
   "execution_count": 1,
   "metadata": {},
   "outputs": [],
   "source": [
    "def count_zero_and_sum(arr):\n",
    "    return sum(arr), arr.count(0)"
   ]
  },
  {
   "cell_type": "code",
   "execution_count": 2,
   "metadata": {},
   "outputs": [],
   "source": [
    "def minSum(nums1: list[int], nums2: list[int]) -> int:\n",
    "        nums1_sum, nums1_count = count_zero_and_sum(nums1)\n",
    "        nums2_sum, nums2_count = count_zero_and_sum(nums2)\n",
    "\n",
    "        if nums1_sum + nums1_count > nums2_sum + nums2_count and nums2_count > 0:\n",
    "            min_sum = nums1_sum + nums1_count\n",
    "            flag = (min_sum - nums2_sum) // nums2_count\n",
    "        elif nums2_sum + nums2_count > nums1_sum + nums1_count and nums1_count > 0:\n",
    "            min_sum = nums2_sum + nums2_count\n",
    "            flag = (min_sum - nums1_sum) // nums1_count\n",
    "        else:\n",
    "            if nums1_count > 0 and nums2_count > 0:\n",
    "                min_sum = max(nums1_sum + nums1_count, nums2_sum + nums2_count)\n",
    "                flag = 1\n",
    "            elif nums1_sum + nums1_count == nums2_sum + nums2_count:\n",
    "                min_sum = nums1_sum + nums1_count\n",
    "                flag = 1\n",
    "            else:\n",
    "                 flag = 0\n",
    "\n",
    "        if flag > 0:\n",
    "            return min_sum\n",
    "        else:\n",
    "            return -1"
   ]
  },
  {
   "cell_type": "code",
   "execution_count": 3,
   "metadata": {},
   "outputs": [
    {
     "data": {
      "text/plain": [
       "12"
      ]
     },
     "execution_count": 3,
     "metadata": {},
     "output_type": "execute_result"
    }
   ],
   "source": [
    "nums1 = [3,2,0,1,0]\n",
    "nums2 = [6,5,0]\n",
    "minSum(nums1, nums2)"
   ]
  },
  {
   "cell_type": "code",
   "execution_count": 4,
   "metadata": {},
   "outputs": [
    {
     "data": {
      "text/plain": [
       "169"
      ]
     },
     "execution_count": 4,
     "metadata": {},
     "output_type": "execute_result"
    }
   ],
   "source": [
    "nums1 = [20,0,18,11,0,0,0,0,0,0,17,28,0,11,10,0,0,15,29]\n",
    "nums2 = [16,9,25,16,1,9,20,28,8,0,1,0,1,27]\n",
    "minSum(nums1, nums2)"
   ]
  },
  {
   "cell_type": "code",
   "execution_count": 5,
   "metadata": {},
   "outputs": [],
   "source": [
    "## Optimized\n",
    "\n",
    "def minSum(nums1: list[int], nums2: list[int]) -> int:\n",
    "    sum1, sum2 = sum(nums1), sum(nums2)\n",
    "    zeros1, zeros2 = sum([1 for i in nums1 if i==0]), sum([1 for i in nums2 if i==0])\n",
    "    if zeros1 == 0 and sum1 < sum2 + zeros2:\n",
    "        return -1\n",
    "    if zeros2 == 0 and sum1+ zeros1 > sum2:\n",
    "        return -1\n",
    "    return max(sum1 + zeros1, sum2 + zeros2)"
   ]
  },
  {
   "cell_type": "code",
   "execution_count": 6,
   "metadata": {},
   "outputs": [
    {
     "data": {
      "text/plain": [
       "139"
      ]
     },
     "execution_count": 6,
     "metadata": {},
     "output_type": "execute_result"
    }
   ],
   "source": [
    "nums1 = [0,16,28,12,10,15,25,24,6,0,0]\n",
    "nums2 = [20,15,19,5,6,29,25,8,12]\n",
    "minSum(nums1, nums2)"
   ]
  },
  {
   "cell_type": "code",
   "execution_count": null,
   "metadata": {},
   "outputs": [],
   "source": []
  }
 ],
 "metadata": {
  "kernelspec": {
   "display_name": "Python 3",
   "language": "python",
   "name": "python3"
  },
  "language_info": {
   "codemirror_mode": {
    "name": "ipython",
    "version": 3
   },
   "file_extension": ".py",
   "mimetype": "text/x-python",
   "name": "python",
   "nbconvert_exporter": "python",
   "pygments_lexer": "ipython3",
   "version": "3.12.3"
  }
 },
 "nbformat": 4,
 "nbformat_minor": 2
}
