{
 "cells": [
  {
   "cell_type": "markdown",
   "metadata": {},
   "source": [
    "## Count the Number of Complete Components\n",
    "\n",
    "You are given an integer `n`. There is an undirected graph with `n` vertices, numbered from `0` to `n - 1`. You are given a 2D integer array edges where `edges[i] = [ai, bi]` denotes that there exists an undirected edge connecting vertices `ai` and `bi`.\n",
    "\n",
    "Return the number of complete connected components of the graph.\n",
    "\n",
    "A connected component is a subgraph of a graph in which there exists a path between any two vertices, and no vertex of the subgraph shares an edge with a vertex outside of the subgraph.\n",
    "\n",
    "A connected component is said to be complete if there exists an edge between every pair of its vertices.\n",
    "\n",
    "### Example 1:\n",
    "\n",
    "- Input: n = 6, edges = [[0,1],[0,2],[1,2],[3,4]]\n",
    "- Output: 3\n",
    "- Explanation:\n",
    "    From the picture below, one can see that all of the components of this graph are complete.\n",
    "\n",
    "```vbnet[]\n",
    "          (0) - - - -(1)        (3)\n",
    "            .        .           |\n",
    "    (5)       .    .             |\n",
    "               .  .              |\n",
    "                (2)             (4)\n",
    "```\n",
    "### Example 2:\n",
    "\n",
    "- Input: n = 6, edges = [[0,1],[0,2],[1,2],[3,4],[3,5]]\n",
    "- Output: 1\n",
    "- Explanation:\n",
    "    The component containing vertices 0, 1, and 2 is complete since there is an edge between every pair of two vertices. On the other hand, the component containing vertices 3, 4, and 5 is not complete since there is no edge between vertices 4 and 5. Thus, the number of complete components in this graph is 1.\n",
    "\n",
    "```vbnet[]\n",
    "          (0) - - - -(1)        (3)- - - - -(5)\n",
    "            .        .           |\n",
    "              .    .             |        \n",
    "               .  .              |\n",
    "                (2)             (4)\n",
    "```"
   ]
  },
  {
   "cell_type": "code",
   "execution_count": 1,
   "metadata": {},
   "outputs": [],
   "source": [
    "from collections import defaultdict, deque"
   ]
  },
  {
   "cell_type": "code",
   "execution_count": 2,
   "metadata": {},
   "outputs": [],
   "source": [
    "def countCompleteComponents(n, edges):\n",
    "    graph = defaultdict(list)\n",
    "    for u, v in edges:\n",
    "        graph[u].append(v)\n",
    "        graph[v].append(u)\n",
    "\n",
    "    visited = [False] * n\n",
    "    component = [-1] * n\n",
    "    component_id = 0\n",
    "    component_cost = []\n",
    "\n",
    "    def bfs(start):\n",
    "        queue = deque([start])\n",
    "        visited[start] = True\n",
    "        component[start] = component_id\n",
    "        cost = 0\n",
    "\n",
    "        while queue:\n",
    "            this_node = queue.popleft()\n",
    "            for neighbour in graph[this_node]:\n",
    "                if not visited[neighbour]:\n",
    "                    visited[neighbour] = True\n",
    "                    component[neighbour] = component_id\n",
    "                    queue.append(neighbour)\n",
    "                cost += 1\n",
    "        return cost\n",
    "    for i in range(n):\n",
    "        if not visited[i]:\n",
    "            component_cost.append(bfs(i)//2)\n",
    "            component_id += 1\n",
    "\n",
    "    component_node_count = defaultdict(lambda: 0)\n",
    "    for node in component:\n",
    "        component_node_count[node] += 1\n",
    "\n",
    "    complete_component = 0\n",
    "    for i in range(len(component_cost)):\n",
    "        edge_need = (component_node_count[i] * (component_node_count[i] - 1)) // 2\n",
    "        if edge_need == component_cost[i]:\n",
    "            complete_component += 1\n",
    "    return complete_component"
   ]
  },
  {
   "cell_type": "code",
   "execution_count": 3,
   "metadata": {},
   "outputs": [
    {
     "data": {
      "text/plain": [
       "3"
      ]
     },
     "execution_count": 3,
     "metadata": {},
     "output_type": "execute_result"
    }
   ],
   "source": [
    "n = 6\n",
    "edges = [[0,1],[0,2],[1,2],[3,4]]\n",
    "\n",
    "countCompleteComponents(n, edges)"
   ]
  },
  {
   "cell_type": "code",
   "execution_count": 4,
   "metadata": {},
   "outputs": [
    {
     "data": {
      "text/plain": [
       "1"
      ]
     },
     "execution_count": 4,
     "metadata": {},
     "output_type": "execute_result"
    }
   ],
   "source": [
    "n = 6\n",
    "edges = [[0,1],[0,2],[1,2],[3,4],[3,5]]\n",
    "\n",
    "countCompleteComponents(n, edges)"
   ]
  }
 ],
 "metadata": {
  "kernelspec": {
   "display_name": "Python 3",
   "language": "python",
   "name": "python3"
  },
  "language_info": {
   "codemirror_mode": {
    "name": "ipython",
    "version": 3
   },
   "file_extension": ".py",
   "mimetype": "text/x-python",
   "name": "python",
   "nbconvert_exporter": "python",
   "pygments_lexer": "ipython3",
   "version": "3.12.3"
  }
 },
 "nbformat": 4,
 "nbformat_minor": 2
}
