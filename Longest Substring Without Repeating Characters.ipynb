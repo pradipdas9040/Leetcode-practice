{
 "cells": [
  {
   "cell_type": "markdown",
   "id": "a3a7fb0e",
   "metadata": {},
   "source": [
    "#### Given a string s, find the length of the longest substring without repeating characters.\n",
    "\n",
    "- Example 1:\n",
    "\n",
    "`Input: s = \"abcabcbb\"\n",
    "Output: 3\n",
    "Explanation: The answer is \"abc\", with the length of 3.`\n",
    "- Example 2:\n",
    "\n",
    "`Input: s = \"bbbbb\"\n",
    "Output: 1\n",
    "Explanation: The answer is \"b\", with the length of 1.`\n",
    "- Example 3:\n",
    "\n",
    "`Input: s = \"pwwkew\"\n",
    "Output: 3\n",
    "Explanation: The answer is \"wke\", with the length of 3.\n",
    "Notice that the answer must be a substring, \"pwke\" is a subsequence and not a substring.`"
   ]
  },
  {
   "cell_type": "code",
   "execution_count": 6,
   "id": "3d7a207f",
   "metadata": {},
   "outputs": [],
   "source": [
    "def lengthOfLongestSubstring(s: str) -> int:\n",
    "    s_list = list(s)\n",
    "    empty_list = []\n",
    "    longest = 0\n",
    "    for i in range(len(s_list)):\n",
    "        if s_list[i] not in empty_list:\n",
    "            empty_list.append(s_list[i])\n",
    "            length = len(empty_list)\n",
    "\n",
    "            if length > longest:\n",
    "                longest = length\n",
    "        else:\n",
    "            while True:\n",
    "                x = empty_list.pop(0)\n",
    "                if x == s_list[i]:\n",
    "                    break\n",
    "            empty_list.append(s_list[i])\n",
    "    return longest"
   ]
  },
  {
   "cell_type": "code",
   "execution_count": 7,
   "id": "185ca34f",
   "metadata": {},
   "outputs": [
    {
     "name": "stdout",
     "output_type": "stream",
     "text": [
      "Enter a string: pwwkew\n"
     ]
    },
    {
     "data": {
      "text/plain": [
       "3"
      ]
     },
     "execution_count": 7,
     "metadata": {},
     "output_type": "execute_result"
    }
   ],
   "source": [
    "s = input('Enter a string: ')\n",
    "lengthOfLongestSubstring(s)"
   ]
  },
  {
   "cell_type": "code",
   "execution_count": 8,
   "id": "d55df806",
   "metadata": {},
   "outputs": [
    {
     "name": "stdout",
     "output_type": "stream",
     "text": [
      "Enter a string: bbbbb\n"
     ]
    },
    {
     "data": {
      "text/plain": [
       "1"
      ]
     },
     "execution_count": 8,
     "metadata": {},
     "output_type": "execute_result"
    }
   ],
   "source": [
    "s = input('Enter a string: ')\n",
    "lengthOfLongestSubstring(s)"
   ]
  },
  {
   "cell_type": "markdown",
   "id": "b18c3928",
   "metadata": {},
   "source": [
    "## Optimized"
   ]
  },
  {
   "cell_type": "code",
   "execution_count": 3,
   "id": "6c4d30a2",
   "metadata": {},
   "outputs": [],
   "source": [
    "def lengthOfLongestSubstring(s: str) -> int:\n",
    "    char_index = {}\n",
    "    left = 0\n",
    "    max_len = 0\n",
    "    n = len(s)\n",
    "    for right in range(n):\n",
    "        if s[right] in char_index.keys() and char_index[s[right]] >= left:\n",
    "            left = char_index[s[right]] + 1\n",
    "        \n",
    "        char_index[s[right]] = right\n",
    "        max_len = max(max_len, right - left + 1)\n",
    "    return max_len"
   ]
  },
  {
   "cell_type": "code",
   "execution_count": 5,
   "id": "8fc520b0",
   "metadata": {},
   "outputs": [
    {
     "data": {
      "text/plain": [
       "3"
      ]
     },
     "execution_count": 5,
     "metadata": {},
     "output_type": "execute_result"
    }
   ],
   "source": [
    "s = input('Enter a string: ')\n",
    "lengthOfLongestSubstring(s)"
   ]
  },
  {
   "cell_type": "code",
   "execution_count": null,
   "id": "23755673",
   "metadata": {},
   "outputs": [],
   "source": []
  }
 ],
 "metadata": {
  "kernelspec": {
   "display_name": "Python 3",
   "language": "python",
   "name": "python3"
  },
  "language_info": {
   "codemirror_mode": {
    "name": "ipython",
    "version": 3
   },
   "file_extension": ".py",
   "mimetype": "text/x-python",
   "name": "python",
   "nbconvert_exporter": "python",
   "pygments_lexer": "ipython3",
   "version": "3.12.3"
  }
 },
 "nbformat": 4,
 "nbformat_minor": 5
}
