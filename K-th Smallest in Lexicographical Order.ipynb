{
 "cells": [
  {
   "cell_type": "markdown",
   "metadata": {},
   "source": [
    "## K-th Smallest in Lexicographical Order\n",
    "\n",
    "Given two integers `n` and `k`, return the kth lexicographically smallest integer in the range `[1, n]`.\n",
    "\n",
    "#### Example 1:\n",
    "\n",
    "- Input: n = 13, k = 2\n",
    "- Output: 10\n",
    "- Explanation: \n",
    "```plain_text[]\n",
    "    The lexicographical order is [1, 10, 11, 12, 13, 2, 3, 4, 5, 6, 7, 8, 9], so the second smallest number is 10.\n",
    "```"
   ]
  },
  {
   "cell_type": "code",
   "execution_count": 1,
   "metadata": {},
   "outputs": [],
   "source": [
    "def findKthNumber(n: int, k: int) -> int:\n",
    "    number = 1\n",
    "    count = 0\n",
    "    for _ in range(n):\n",
    "        count += 1\n",
    "        if count == k:\n",
    "            return number\n",
    "        if number * 10 <= n:\n",
    "            number *= 10\n",
    "        else:\n",
    "            if number >= n:\n",
    "                number //= 10\n",
    "            number += 1\n",
    "            while number % 10 == 0:\n",
    "                number //= 10"
   ]
  },
  {
   "cell_type": "code",
   "execution_count": 2,
   "metadata": {},
   "outputs": [
    {
     "data": {
      "text/plain": [
       "10"
      ]
     },
     "execution_count": 2,
     "metadata": {},
     "output_type": "execute_result"
    }
   ],
   "source": [
    "n, k = 13, 2\n",
    "findKthNumber(n, k)"
   ]
  },
  {
   "cell_type": "code",
   "execution_count": 3,
   "metadata": {},
   "outputs": [
    {
     "data": {
      "text/plain": [
       "2"
      ]
     },
     "execution_count": 3,
     "metadata": {},
     "output_type": "execute_result"
    }
   ],
   "source": [
    "n, k = 2, 2\n",
    "findKthNumber(n, k)"
   ]
  },
  {
   "cell_type": "code",
   "execution_count": null,
   "metadata": {},
   "outputs": [],
   "source": []
  }
 ],
 "metadata": {
  "kernelspec": {
   "display_name": "Python 3",
   "language": "python",
   "name": "python3"
  },
  "language_info": {
   "codemirror_mode": {
    "name": "ipython",
    "version": 3
   },
   "file_extension": ".py",
   "mimetype": "text/x-python",
   "name": "python",
   "nbconvert_exporter": "python",
   "pygments_lexer": "ipython3",
   "version": "3.12.3"
  }
 },
 "nbformat": 4,
 "nbformat_minor": 2
}
