{
 "cells": [
  {
   "cell_type": "markdown",
   "metadata": {},
   "source": [
    "## Find All Possible Recipes from Given Supplies\n",
    "\n",
    "You have information about `n` different recipes. You are given a string array `recipes` and a 2D string array ingredients. The `ith` recipe has the name `recipes[i]`, and you can create it if you have all the needed ingredients from `ingredients[i]`. A recipe can also be an ingredient for other recipes, i.e., `ingredients[i]` may contain a string that is in `recipes`.\n",
    "\n",
    "You are also given a string array `supplies` containing all the ingredients that you initially have, and you have an infinite supply of all of them.\n",
    "\n",
    "Return a list of all the recipes that you can create. You may return the answer in any order.\n",
    "\n",
    "Note that two recipes may contain each other in their ingredients.\n",
    "\n",
    "### Example 1:\n",
    "\n",
    "- Input: recipes = [\"bread\"], ingredients = [[\"yeast\",\"flour\"]], supplies = [\"yeast\",\"flour\",\"corn\"]\n",
    "- Output: [\"bread\"]\n",
    "- Explanation:\n",
    "    We can create \"bread\" since we have the ingredients \"yeast\" and \"flour\".\n",
    "\n",
    "### Example 2:\n",
    "\n",
    "- Input: recipes = [\"bread\",\"sandwich\"], ingredients = [[\"yeast\",\"flour\"],[\"bread\",\"meat\"]], supplies = [\"yeast\",\"flour\",\"meat\"]\n",
    "- Output: [\"bread\",\"sandwich\"]\n",
    "- Explanation:\n",
    "    We can create \"bread\" since we have the ingredients \"yeast\" and \"flour\".\n",
    "We can create \"sandwich\" since we have the ingredient \"meat\" and can create the ingredient \"bread\"."
   ]
  },
  {
   "cell_type": "code",
   "execution_count": 1,
   "metadata": {},
   "outputs": [],
   "source": [
    "from collections import defaultdict"
   ]
  },
  {
   "cell_type": "code",
   "execution_count": 2,
   "metadata": {},
   "outputs": [],
   "source": [
    "def findAllRecipes(recipes, ingredients, supplies):\n",
    "    can_make = []\n",
    "    ingredient_dict = defaultdict(list)\n",
    "    for recipe, ingredient in zip(recipes, ingredients):\n",
    "        ingredient_dict[recipe] = ingredient\n",
    "\n",
    "    visited = dict([(item, 0) for item in recipes])\n",
    "    initial_recipes_count = len(recipes)\n",
    "\n",
    "    need = set()\n",
    "    while len(recipes) > 0:\n",
    "        for recipe in recipes:\n",
    "            if len(list(set(ingredient_dict[recipe]) & set(supplies))) == len(ingredient_dict[recipe]):\n",
    "                can_make.append(recipe)\n",
    "                supplies.append(recipe)\n",
    "                recipes.remove(recipe)\n",
    "            else:\n",
    "                need.add(recipe)\n",
    "                visited[recipe] += 1\n",
    "        if (len(set(recipes).difference(need)) == 0) & (initial_recipes_count in visited.values()):\n",
    "          break\n",
    "\n",
    "    return can_make"
   ]
  },
  {
   "cell_type": "code",
   "execution_count": 3,
   "metadata": {},
   "outputs": [
    {
     "data": {
      "text/plain": [
       "['bread']"
      ]
     },
     "execution_count": 3,
     "metadata": {},
     "output_type": "execute_result"
    }
   ],
   "source": [
    "recipes = [\"bread\"]\n",
    "ingredients = [[\"yeast\",\"flour\"]]\n",
    "supplies = [\"yeast\",\"flour\",\"corn\"]\n",
    "findAllRecipes(recipes, ingredients, supplies)"
   ]
  },
  {
   "cell_type": "code",
   "execution_count": 4,
   "metadata": {},
   "outputs": [
    {
     "data": {
      "text/plain": [
       "['bread', 'sandwich', 'burger']"
      ]
     },
     "execution_count": 4,
     "metadata": {},
     "output_type": "execute_result"
    }
   ],
   "source": [
    "recipes = [\"bread\",\"sandwich\",\"burger\"]\n",
    "ingredients = [[\"yeast\",\"flour\"],[\"bread\",\"meat\"],[\"sandwich\",\"meat\",\"bread\"]]\n",
    "supplies = [\"yeast\",\"flour\",\"meat\"]\n",
    "findAllRecipes(recipes, ingredients, supplies)"
   ]
  },
  {
   "cell_type": "code",
   "execution_count": 5,
   "metadata": {},
   "outputs": [
    {
     "data": {
      "text/plain": [
       "['ju', 'q', 'fzjnm']"
      ]
     },
     "execution_count": 5,
     "metadata": {},
     "output_type": "execute_result"
    }
   ],
   "source": [
    "recipes =[\"ju\",\"fzjnm\",\"x\",\"e\",\"zpmcz\",\"h\",\"q\"]\n",
    "ingredients =[\n",
    "    [\"d\"],\n",
    "    [\"hveml\",\"f\",\"cpivl\"],\n",
    "    [\"cpivl\",\"zpmcz\",\"h\",\"e\",\"fzjnm\",\"ju\"],\n",
    "    [\"cpivl\",\"hveml\",\"zpmcz\",\"ju\",\"h\"],\n",
    "    [\"h\",\"fzjnm\",\"e\",\"q\",\"x\"], #\n",
    "    [\"d\",\"hveml\",\"cpivl\",\"q\",\"zpmcz\",\"ju\",\"e\",\"x\"], #\n",
    "    [\"f\",\"hveml\",\"cpivl\"]\n",
    "]\n",
    "supplies = [\"f\",\"hveml\",\"cpivl\",\"d\"]\n",
    "findAllRecipes(recipes, ingredients, supplies)"
   ]
  },
  {
   "cell_type": "code",
   "execution_count": null,
   "metadata": {},
   "outputs": [],
   "source": []
  },
  {
   "cell_type": "code",
   "execution_count": null,
   "metadata": {},
   "outputs": [],
   "source": []
  }
 ],
 "metadata": {
  "kernelspec": {
   "display_name": "Python 3",
   "language": "python",
   "name": "python3"
  },
  "language_info": {
   "codemirror_mode": {
    "name": "ipython",
    "version": 3
   },
   "file_extension": ".py",
   "mimetype": "text/x-python",
   "name": "python",
   "nbconvert_exporter": "python",
   "pygments_lexer": "ipython3",
   "version": "3.12.3"
  }
 },
 "nbformat": 4,
 "nbformat_minor": 2
}
