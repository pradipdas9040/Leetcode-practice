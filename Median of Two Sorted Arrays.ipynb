{
 "cells": [
  {
   "cell_type": "markdown",
   "id": "beb3ca5b",
   "metadata": {},
   "source": [
    "#### Given two sorted arrays nums1 and nums2 of size m and n respectively, return the median of the two sorted arrays.\n",
    "\n",
    "- The overall run time complexity should be `O(log (m+n))`.\n",
    "\n",
    "- Example 1\n",
    "`Input: nums1 = [1,3], nums2 = [2]\n",
    "Output: 2.00000\n",
    "Explanation: merged array = [1,2,3] and median is 2.`\n",
    "- Example 2:\n",
    "`Input: nums1 = [1,2], nums2 = [3,4]\n",
    "Output: 2.50000\n",
    "Explanation: merged array = [1,2,3,4] and median is (2 + 3) / 2 = 2.5.`"
   ]
  },
  {
   "cell_type": "code",
   "execution_count": 1,
   "id": "8ded5f4e",
   "metadata": {},
   "outputs": [],
   "source": [
    "def findMedianSortedArrays(nums1: list[int], nums2: list[int]) -> float:\n",
    "    concat_list = nums1 + nums2\n",
    "    concat_list.sort()\n",
    "    m, n = len(nums1), len(nums2)\n",
    "    if (m+n)%2 == 1:\n",
    "        return concat_list[(m+n)//2]\n",
    "    else:\n",
    "        median = (concat_list[(m+n)//2] + concat_list[((m+n)//2)-1]) / 2\n",
    "        return median"
   ]
  },
  {
   "cell_type": "code",
   "execution_count": 2,
   "id": "6df85da2",
   "metadata": {},
   "outputs": [
    {
     "data": {
      "text/plain": [
       "2"
      ]
     },
     "execution_count": 2,
     "metadata": {},
     "output_type": "execute_result"
    }
   ],
   "source": [
    "findMedianSortedArrays([1,3], [2])"
   ]
  },
  {
   "cell_type": "code",
   "execution_count": null,
   "id": "8927f5b4",
   "metadata": {},
   "outputs": [],
   "source": []
  }
 ],
 "metadata": {
  "kernelspec": {
   "display_name": "Python 3 (ipykernel)",
   "language": "python",
   "name": "python3"
  },
  "language_info": {
   "codemirror_mode": {
    "name": "ipython",
    "version": 3
   },
   "file_extension": ".py",
   "mimetype": "text/x-python",
   "name": "python",
   "nbconvert_exporter": "python",
   "pygments_lexer": "ipython3",
   "version": "3.10.2"
  }
 },
 "nbformat": 4,
 "nbformat_minor": 5
}
