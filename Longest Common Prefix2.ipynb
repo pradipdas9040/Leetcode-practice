{
 "cells": [
  {
   "cell_type": "markdown",
   "metadata": {},
   "source": [
    "## Longest Common Prefix\n",
    "\n",
    "You are given an array of strings `strs`. Return the longest common prefix of all the strings.\n",
    "\n",
    "If there is no longest common prefix, return an empty string \"\".\n",
    "\n",
    "#### Example 1:\n",
    "\n",
    "- Input: strs = [\"flower\",\"flow\",\"flight\"]\n",
    "- Output: \"fl\"\n",
    "- Explanation:\n",
    "```plaintext[]\n",
    "    'fl' is the common prefix among the input strings.\n",
    "```"
   ]
  },
  {
   "cell_type": "code",
   "execution_count": 1,
   "metadata": {},
   "outputs": [],
   "source": [
    "def longestCommonPrefix(strs: list[str]) -> str:\n",
    "    com_p = ''\n",
    "    temp = strs[0]\n",
    "    n = len(strs)\n",
    "    for i in range(1, n):\n",
    "        m = min(len(temp), len(strs[i]))\n",
    "        for j in range(m):\n",
    "            if temp[j] == strs[i][j]:\n",
    "                com_p += temp[j]\n",
    "            else:\n",
    "                break\n",
    "        temp = com_p\n",
    "        com_p = ''\n",
    "    return temp"
   ]
  },
  {
   "cell_type": "code",
   "execution_count": 2,
   "metadata": {},
   "outputs": [
    {
     "data": {
      "text/plain": [
       "'ba'"
      ]
     },
     "execution_count": 2,
     "metadata": {},
     "output_type": "execute_result"
    }
   ],
   "source": [
    "strs = [\"bat\",\"bag\",\"bank\",\"band\"]\n",
    "longestCommonPrefix(strs)"
   ]
  },
  {
   "cell_type": "markdown",
   "metadata": {},
   "source": [
    "#### Optmal solution"
   ]
  },
  {
   "cell_type": "code",
   "execution_count": 3,
   "metadata": {},
   "outputs": [],
   "source": [
    "def longestCommonPrefix(strs: list[str]) -> str:\n",
    "    long_p = ''\n",
    "    strs = sorted(strs)\n",
    "\n",
    "    first = strs[0]\n",
    "    last = strs[-1]\n",
    "\n",
    "    for i in range(min(len(first), len(last))):\n",
    "        if first[i] != last[i]:\n",
    "            return long_p\n",
    "        else:\n",
    "            long_p += first[i]\n",
    "\n",
    "    return long_p"
   ]
  },
  {
   "cell_type": "code",
   "execution_count": 4,
   "metadata": {},
   "outputs": [
    {
     "data": {
      "text/plain": [
       "'ba'"
      ]
     },
     "execution_count": 4,
     "metadata": {},
     "output_type": "execute_result"
    }
   ],
   "source": [
    "strs = [\"bat\",\"bag\",\"bank\",\"band\"]\n",
    "longestCommonPrefix(strs)"
   ]
  },
  {
   "cell_type": "code",
   "execution_count": null,
   "metadata": {},
   "outputs": [],
   "source": []
  }
 ],
 "metadata": {
  "kernelspec": {
   "display_name": "Python 3",
   "language": "python",
   "name": "python3"
  },
  "language_info": {
   "codemirror_mode": {
    "name": "ipython",
    "version": 3
   },
   "file_extension": ".py",
   "mimetype": "text/x-python",
   "name": "python",
   "nbconvert_exporter": "python",
   "pygments_lexer": "ipython3",
   "version": "3.12.3"
  }
 },
 "nbformat": 4,
 "nbformat_minor": 2
}
