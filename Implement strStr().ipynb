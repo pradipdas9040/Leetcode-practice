{
 "cells": [
  {
   "cell_type": "markdown",
   "id": "fde8d036",
   "metadata": {},
   "source": [
    "***Given two strings needle and haystack, return the index of the first occurrence of needle in haystack, or -1 if needle is not part of haystack***"
   ]
  },
  {
   "cell_type": "markdown",
   "id": "2a61ee07",
   "metadata": {},
   "source": [
    "***Example 1:***  \n",
    "**Input:** haystack = \"hello\", needle = \"ll\"  \n",
    "**Output:** 2  \n",
    "\n",
    "\n",
    "***Example 2:***  \n",
    "**Input:** haystack = \"aaaaa\", needle = \"bba\"  \n",
    "**Output:** -1"
   ]
  },
  {
   "cell_type": "code",
   "execution_count": 1,
   "id": "6d00ca19",
   "metadata": {},
   "outputs": [],
   "source": [
    "def strStr(haystack, needle):\n",
    "        if needle not in haystack:\n",
    "            return -1\n",
    "        if needle == None and haystack == None:\n",
    "            return -1\n",
    "        if needle == haystack:\n",
    "            return 0\n",
    "        for i in range(len(haystack) - len(needle) + 1):\n",
    "            if haystack[i:i+len(needle)] == needle:\n",
    "                return i\n",
    "        return -1"
   ]
  },
  {
   "cell_type": "code",
   "execution_count": 2,
   "id": "fab61005",
   "metadata": {},
   "outputs": [],
   "source": [
    "a = \"hello\"\n",
    "b = \"ll\""
   ]
  },
  {
   "cell_type": "code",
   "execution_count": 3,
   "id": "66ec453f",
   "metadata": {},
   "outputs": [
    {
     "data": {
      "text/plain": [
       "2"
      ]
     },
     "execution_count": 3,
     "metadata": {},
     "output_type": "execute_result"
    }
   ],
   "source": [
    "strStr(a,b)"
   ]
  },
  {
   "cell_type": "code",
   "execution_count": 4,
   "id": "a651290e",
   "metadata": {},
   "outputs": [
    {
     "data": {
      "text/plain": [
       "-1"
      ]
     },
     "execution_count": 4,
     "metadata": {},
     "output_type": "execute_result"
    }
   ],
   "source": [
    "strStr('aaaaa','bba')"
   ]
  }
 ],
 "metadata": {
  "kernelspec": {
   "display_name": "Python 3 (ipykernel)",
   "language": "python",
   "name": "python3"
  },
  "language_info": {
   "codemirror_mode": {
    "name": "ipython",
    "version": 3
   },
   "file_extension": ".py",
   "mimetype": "text/x-python",
   "name": "python",
   "nbconvert_exporter": "python",
   "pygments_lexer": "ipython3",
   "version": "3.10.2"
  }
 },
 "nbformat": 4,
 "nbformat_minor": 5
}
