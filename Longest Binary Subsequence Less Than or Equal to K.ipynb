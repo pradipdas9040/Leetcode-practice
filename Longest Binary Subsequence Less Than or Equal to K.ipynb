{
 "cells": [
  {
   "cell_type": "markdown",
   "metadata": {},
   "source": [
    "## Longest Binary Subsequence Less Than or Equal to K\n",
    "\n",
    "You are given a binary string `s` and a positive integer `k`.\n",
    "\n",
    "Return the length of the longest subsequence of `s` that makes up a binary number less than or equal to `k`.\n",
    "\n",
    "Note:\n",
    "\n",
    "- The subsequence can contain leading zeroes.\n",
    "- The empty string is considered to be equal to `0`.\n",
    "- A subsequence is a string that can be derived from another string by deleting some or no characters without changing the order of the remaining characters.\n",
    "\n",
    "#### Example 1:\n",
    "\n",
    "- Input:  s = \"1001010\", k = 5\n",
    "- Output: 5\n",
    "- Explanation: \n",
    "```plain_text[]\n",
    "    The longest subsequence of s that makes up a binary number less than or equal to 5 is \"00010\", as this number is equal to 2 in decimal.\n",
    "    Note that \"00100\" and \"00101\" are also possible, which are equal to 4 and 5 in decimal, respectively.\n",
    "    The length of this subsequence is 5, so 5 is returned.\n",
    "```"
   ]
  },
  {
   "cell_type": "code",
   "execution_count": 1,
   "metadata": {},
   "outputs": [],
   "source": [
    "def longestSubsequence(s: str, k: int) -> int:\n",
    "    n = len(s)\n",
    "    sub_s = ''\n",
    "    for i in range(n-1, -1, -1):\n",
    "        if int(s[i]+sub_s, 2) <= k:\n",
    "            sub_s = s[i] + sub_s\n",
    "        else:\n",
    "            continue\n",
    "    return len(sub_s)"
   ]
  },
  {
   "cell_type": "code",
   "execution_count": 3,
   "metadata": {},
   "outputs": [
    {
     "data": {
      "text/plain": [
       "6"
      ]
     },
     "execution_count": 3,
     "metadata": {},
     "output_type": "execute_result"
    }
   ],
   "source": [
    "s = \"00101001\"\n",
    "k = 1\n",
    "longestSubsequence(s, k)"
   ]
  },
  {
   "cell_type": "code",
   "execution_count": 4,
   "metadata": {},
   "outputs": [
    {
     "data": {
      "text/plain": [
       "5"
      ]
     },
     "execution_count": 4,
     "metadata": {},
     "output_type": "execute_result"
    }
   ],
   "source": [
    "s = \"1001010\"\n",
    "k = 5\n",
    "longestSubsequence(s, k)"
   ]
  },
  {
   "cell_type": "code",
   "execution_count": null,
   "metadata": {},
   "outputs": [],
   "source": []
  }
 ],
 "metadata": {
  "kernelspec": {
   "display_name": "Python 3",
   "language": "python",
   "name": "python3"
  },
  "language_info": {
   "codemirror_mode": {
    "name": "ipython",
    "version": 3
   },
   "file_extension": ".py",
   "mimetype": "text/x-python",
   "name": "python",
   "nbconvert_exporter": "python",
   "pygments_lexer": "ipython3",
   "version": "3.12.3"
  }
 },
 "nbformat": 4,
 "nbformat_minor": 2
}
