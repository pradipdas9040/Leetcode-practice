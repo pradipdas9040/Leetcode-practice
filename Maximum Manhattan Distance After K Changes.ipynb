{
 "cells": [
  {
   "cell_type": "markdown",
   "metadata": {},
   "source": [
    "## Maximum Manhattan Distance After K Changes\n",
    "\n",
    "You are given a string `s` consisting of the characters 'N', 'S', 'E', and 'W', where `s[i]` indicates movements in an infinite grid:\n",
    "\n",
    "- 'N' : Move north by 1 unit.\n",
    "- 'S' : Move south by 1 unit.\n",
    "- 'E' : Move east by 1 unit.\n",
    "- 'W' : Move west by 1 unit.\n",
    "Initially, you are at the origin `(0, 0)`. You can change at most k characters to any of the four directions.\n",
    "\n",
    "Find the maximum Manhattan distance from the origin that can be achieved at any time while performing the movements in order.\n",
    "\n",
    "The Manhattan Distance between two cells `(xi, yi)` and `(xj, yj)` is `|xi - xj| + |yi - yj|`.\n",
    "\n",
    "#### Example 1:\n",
    "\n",
    "- Input:  s = \"NSWWEW\", k = 3\n",
    "- Output: 6\n",
    "- Explanation:\n",
    "```plaintext[]\n",
    "    Change s[1] from 'S' to 'N', and s[4] from 'E' to 'W'. The string s becomes \"NNWWWW\".\n",
    "\n",
    "    The maximum Manhattan distance from the origin that can be achieved is 6. Hence, 6 is the output.\n",
    "```"
   ]
  },
  {
   "cell_type": "code",
   "execution_count": 1,
   "metadata": {},
   "outputs": [],
   "source": [
    "def maxDistance(s: str, k: int) -> int:\n",
    "    latitude = 0\n",
    "    longitude = 0\n",
    "    ans = 0\n",
    "    n = len(s)\n",
    "    for i in range(n):\n",
    "        if s[i] == \"N\":\n",
    "            latitude += 1\n",
    "        elif s[i] == \"S\":\n",
    "            latitude -= 1\n",
    "        elif s[i] == \"E\":\n",
    "            longitude += 1\n",
    "        elif s[i] == \"W\":\n",
    "            longitude -= 1\n",
    "        ans = max(ans, min(abs(latitude) + abs(longitude) + k * 2, i + 1))\n",
    "    return ans"
   ]
  },
  {
   "cell_type": "code",
   "execution_count": 2,
   "metadata": {},
   "outputs": [
    {
     "data": {
      "text/plain": [
       "3"
      ]
     },
     "execution_count": 2,
     "metadata": {},
     "output_type": "execute_result"
    }
   ],
   "source": [
    "s = \"NWSE\"\n",
    "k = 1\n",
    "maxDistance(s, k)"
   ]
  },
  {
   "cell_type": "code",
   "execution_count": 3,
   "metadata": {},
   "outputs": [
    {
     "data": {
      "text/plain": [
       "6"
      ]
     },
     "execution_count": 3,
     "metadata": {},
     "output_type": "execute_result"
    }
   ],
   "source": [
    "s = \"NSWWEW\"\n",
    "k = 3\n",
    "maxDistance(s, k)"
   ]
  }
 ],
 "metadata": {
  "kernelspec": {
   "display_name": "Python 3",
   "language": "python",
   "name": "python3"
  },
  "language_info": {
   "codemirror_mode": {
    "name": "ipython",
    "version": 3
   },
   "file_extension": ".py",
   "mimetype": "text/x-python",
   "name": "python",
   "nbconvert_exporter": "python",
   "pygments_lexer": "ipython3",
   "version": "3.12.3"
  }
 },
 "nbformat": 4,
 "nbformat_minor": 2
}
