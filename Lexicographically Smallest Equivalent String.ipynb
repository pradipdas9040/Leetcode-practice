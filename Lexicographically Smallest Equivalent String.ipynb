{
 "cells": [
  {
   "cell_type": "markdown",
   "metadata": {},
   "source": [
    "## Lexicographically Smallest Equivalent String\n",
    "\n",
    "You are given two strings of the same length `s1` and `s2` and a string `baseStr`.\n",
    "\n",
    "We say `s1[i]` and `s2[i]` are equivalent characters.\n",
    "\n",
    "For example, if `s1 = \"abc\"` and `s2 = \"cde\"`, then we have `'a' == 'c'`, `'b' == 'd'`, and `'c' == 'e'`.\n",
    "Equivalent characters follow the usual rules of any equivalence relation:\n",
    "\n",
    "Reflexivity: `'a' == 'a'`.\n",
    "Symmetry: `'a' == 'b'` implies `'b' == 'a'`.\n",
    "Transitivity: `'a' == 'b'` and `'b' == 'c'` implies `'a' == 'c'`.\n",
    "\n",
    "For example, given the equivalency information from `s1 = \"abc\"` and `s2 = \"cde\"`, `\"acd\"` and `\"aab\"` are equivalent strings of `baseStr = \"eed\"`, and `\"aab\"` is the lexicographically smallest equivalent string of baseStr.\n",
    "\n",
    "Return the lexicographically smallest equivalent string of `baseStr` by using the equivalency information from `s1` and `s2`.\n",
    "\n",
    "#### Example 1:\n",
    "\n",
    "- Input: s1 = \"parker\", s2 = \"morris\", baseStr = \"parser\"\n",
    "- Output: \"makkek\"\n",
    "- Explanation: \n",
    "```plaintext[]\n",
    "    Based on the equivalency information in s1 and s2, we can group their characters as [m,p], [a,o], [k,r,s], [e,i].\n",
    "    The characters in each group are equivalent and sorted in lexicographical order.\n",
    "    So the answer is \"makkek\".\n",
    "```"
   ]
  },
  {
   "cell_type": "code",
   "execution_count": 1,
   "metadata": {},
   "outputs": [],
   "source": [
    "def smallestEquivalentString(s1: str, s2: str, baseStr: str) -> str:\n",
    "        eqi_class = list({tuple(sorted([i, j])) for i, j in zip(s1, s2)})\n",
    "        eqi_class = [list(x) for x in eqi_class]\n",
    "\n",
    "        marge = []\n",
    "        for group in eqi_class:\n",
    "                group = set(group)\n",
    "                new_marge = []\n",
    "\n",
    "                for existing in marge:\n",
    "                        if existing & group:\n",
    "                                group |= existing\n",
    "                        else:\n",
    "                                new_marge.append(existing)\n",
    "\n",
    "                new_marge.append(group)\n",
    "                marge = new_marge\n",
    "\n",
    "        eqi_class = [sorted(list(item)) for item in marge]\n",
    "        equi_string = ''\n",
    "        for item in baseStr:\n",
    "                flag = True\n",
    "                for e_class in eqi_class:\n",
    "                        if e_class.__contains__(item):\n",
    "                                equi_string += e_class[0]\n",
    "                                flag = False\n",
    "                if flag:\n",
    "                        equi_string += item\n",
    "        return equi_string"
   ]
  },
  {
   "cell_type": "code",
   "execution_count": 2,
   "metadata": {},
   "outputs": [
    {
     "data": {
      "text/plain": [
       "'aauaaaaada'"
      ]
     },
     "execution_count": 2,
     "metadata": {},
     "output_type": "execute_result"
    }
   ],
   "source": [
    "s1 = \"leetcode\"\n",
    "s2 = \"programs\"\n",
    "baseStr = \"sourcecode\"\n",
    "smallestEquivalentString(s1, s2, baseStr)"
   ]
  },
  {
   "cell_type": "code",
   "execution_count": 3,
   "metadata": {},
   "outputs": [
    {
     "data": {
      "text/plain": [
       "'makkek'"
      ]
     },
     "execution_count": 3,
     "metadata": {},
     "output_type": "execute_result"
    }
   ],
   "source": [
    "s1 = \"parker\"\n",
    "s2 = \"morris\"\n",
    "baseStr = \"parser\"\n",
    "smallestEquivalentString(s1, s2, baseStr)"
   ]
  },
  {
   "cell_type": "code",
   "execution_count": null,
   "metadata": {},
   "outputs": [],
   "source": []
  }
 ],
 "metadata": {
  "kernelspec": {
   "display_name": "Python 3",
   "language": "python",
   "name": "python3"
  },
  "language_info": {
   "codemirror_mode": {
    "name": "ipython",
    "version": 3
   },
   "file_extension": ".py",
   "mimetype": "text/x-python",
   "name": "python",
   "nbconvert_exporter": "python",
   "pygments_lexer": "ipython3",
   "version": "3.12.3"
  }
 },
 "nbformat": 4,
 "nbformat_minor": 2
}
