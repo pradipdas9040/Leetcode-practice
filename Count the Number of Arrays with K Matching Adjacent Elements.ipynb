{
 "cells": [
  {
   "cell_type": "markdown",
   "id": "a3a7fb0e",
   "metadata": {},
   "source": [
    "# Count the Number of Arrays with K Matching Adjacent Elements\n",
    "\n",
    "You are given three integers `n`, `m`, `k`. A good array arr of size n is defined as follows:\n",
    "\n",
    "- Each element in arr is in the inclusive range `[1, m]`.\n",
    "- Exactly `k` indices `i` (where `1 <= i < n`) satisfy the condition `arr[i - 1] == arr[i]`.\n",
    "\n",
    "Return the number of good arrays that can be formed.\n",
    "\n",
    "Since the answer may be very large, return it modulo `10^9 + 7`.\n",
    "\n",
    "## Example 1:\n",
    "\n",
    "- Input: n = 3, m = 2, k = 1\n",
    "- Output: 4\n",
    "- Explanation:\n",
    "```plaintext[]\n",
    "    There are 4 good arrays. They are [1, 1, 2], [1, 2, 2], [2, 1, 1] and [2, 2, 1].\n",
    "    Hence, the answer is 4.\n",
    "```"
   ]
  },
  {
   "cell_type": "code",
   "execution_count": 1,
   "id": "e394d106",
   "metadata": {},
   "outputs": [],
   "source": [
    "import math"
   ]
  },
  {
   "cell_type": "code",
   "execution_count": 2,
   "id": "f7178807",
   "metadata": {},
   "outputs": [],
   "source": [
    "def countGoodArrays(n: int, m: int, k: int) -> int:\n",
    "    MOD = 10 ** 9 + 7\n",
    "    m = m % MOD\n",
    "    # choose k positions from n-1 positions\n",
    "    n_C_k = math.comb(n-1, k) % MOD\n",
    "    # rest n-1-k positions have m-1 choice\n",
    "    rest = (m - 1) ** (n - 1 - k) % MOD\n",
    "\n",
    "    return n_C_k * m * rest % MOD"
   ]
  },
  {
   "cell_type": "code",
   "execution_count": 3,
   "id": "ca8bb2c1",
   "metadata": {},
   "outputs": [
    {
     "data": {
      "text/plain": [
       "4"
      ]
     },
     "execution_count": 3,
     "metadata": {},
     "output_type": "execute_result"
    }
   ],
   "source": [
    "n = 3\n",
    "m = 2\n",
    "k = 1\n",
    "countGoodArrays(n, m, k)"
   ]
  },
  {
   "cell_type": "code",
   "execution_count": 4,
   "id": "7ea0c48b",
   "metadata": {},
   "outputs": [
    {
     "data": {
      "text/plain": [
       "2"
      ]
     },
     "execution_count": 4,
     "metadata": {},
     "output_type": "execute_result"
    }
   ],
   "source": [
    "n = 5\n",
    "m = 2\n",
    "k = 0\n",
    "countGoodArrays(n, m, k)"
   ]
  },
  {
   "cell_type": "code",
   "execution_count": null,
   "id": "f32e556e",
   "metadata": {},
   "outputs": [],
   "source": []
  }
 ],
 "metadata": {
  "kernelspec": {
   "display_name": "Python 3",
   "language": "python",
   "name": "python3"
  },
  "language_info": {
   "codemirror_mode": {
    "name": "ipython",
    "version": 3
   },
   "file_extension": ".py",
   "mimetype": "text/x-python",
   "name": "python",
   "nbconvert_exporter": "python",
   "pygments_lexer": "ipython3",
   "version": "3.12.3"
  }
 },
 "nbformat": 4,
 "nbformat_minor": 5
}
