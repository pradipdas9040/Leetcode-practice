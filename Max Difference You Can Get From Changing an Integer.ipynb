{
 "cells": [
  {
   "cell_type": "markdown",
   "id": "a3a7fb0e",
   "metadata": {},
   "source": [
    "# Max Difference You Can Get From Changing an Integer\n",
    "\n",
    "You are given an integer `num`. You will apply the following steps to `num` two separate times:\n",
    "\n",
    "- Pick a digit `x` `(0 <= x <= 9)`.\n",
    "- Pick another digit `y` `(0 <= y <= 9)`. Note `y` can be equal to `x`.\n",
    "- Replace all the occurrences of `x` in the decimal representation of `num` by `y`.\n",
    "\n",
    "Let `a` and `b` be the two results from applying the operation to `num` independently.\n",
    "\n",
    "Return the `max` difference between `a` and `b`.\n",
    "\n",
    "Note that neither `a` nor `b` may have any leading zeros, and must not be `0`.\n",
    "\n",
    "## Example 1:\n",
    "\n",
    "- Input: num = 555\n",
    "- Output: 888\n",
    "- Explanation: \n",
    "```plaintext[]\n",
    "    The first time pick x = 5 and y = 9 and store the new integer in a.\n",
    "    The second time pick x = 5 and y = 1 and store the new integer in b.\n",
    "    We have now a = 999 and b = 111 and max difference = 888\n",
    "```"
   ]
  },
  {
   "cell_type": "code",
   "execution_count": 1,
   "id": "f7178807",
   "metadata": {},
   "outputs": [],
   "source": [
    "def maxDiff(num: int) -> int:\n",
    "    num_str = str(num)\n",
    "\n",
    "    # Maximize by replacing the first non-'9' digit\n",
    "    ch_max = next((ch for ch in num_str if ch != '9'), None)\n",
    "    max_num = num_str.replace(ch_max, '9') if ch_max else num_str\n",
    "\n",
    "    # Minimize by replacing the first non-'1' digit based on position\n",
    "    if num_str[0] != '1':\n",
    "        min_num = num_str.replace(num_str[0], '1')\n",
    "    else:\n",
    "        ch_min = next((ch for ch in num_str[1:] if ch not in ['0', '1']), None)\n",
    "        min_num = num_str.replace(ch_min, '0') if ch_min else num_str\n",
    "\n",
    "    return int(max_num) - int(min_num)\n"
   ]
  },
  {
   "cell_type": "code",
   "execution_count": 2,
   "id": "ca8bb2c1",
   "metadata": {},
   "outputs": [
    {
     "data": {
      "text/plain": [
       "888"
      ]
     },
     "execution_count": 2,
     "metadata": {},
     "output_type": "execute_result"
    }
   ],
   "source": [
    "num = 555\n",
    "maxDiff(num)"
   ]
  },
  {
   "cell_type": "code",
   "execution_count": 3,
   "id": "7ea0c48b",
   "metadata": {},
   "outputs": [
    {
     "data": {
      "text/plain": [
       "8"
      ]
     },
     "execution_count": 3,
     "metadata": {},
     "output_type": "execute_result"
    }
   ],
   "source": [
    "num = 9\n",
    "maxDiff(num)"
   ]
  },
  {
   "cell_type": "code",
   "execution_count": 4,
   "id": "806941dd",
   "metadata": {},
   "outputs": [
    {
     "data": {
      "text/plain": [
       "8000"
      ]
     },
     "execution_count": 4,
     "metadata": {},
     "output_type": "execute_result"
    }
   ],
   "source": [
    "num = 1000\n",
    "maxDiff(num)"
   ]
  },
  {
   "cell_type": "code",
   "execution_count": null,
   "id": "5b95778b",
   "metadata": {},
   "outputs": [],
   "source": []
  }
 ],
 "metadata": {
  "kernelspec": {
   "display_name": "Python 3",
   "language": "python",
   "name": "python3"
  },
  "language_info": {
   "codemirror_mode": {
    "name": "ipython",
    "version": 3
   },
   "file_extension": ".py",
   "mimetype": "text/x-python",
   "name": "python",
   "nbconvert_exporter": "python",
   "pygments_lexer": "ipython3",
   "version": "3.12.3"
  }
 },
 "nbformat": 4,
 "nbformat_minor": 5
}
