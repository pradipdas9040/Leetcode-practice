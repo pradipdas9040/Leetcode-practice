{
 "cells": [
  {
   "cell_type": "markdown",
   "metadata": {},
   "source": [
    "## Number of Ways to Arrive at Destination\n",
    "\n",
    "You are in a city that consists of `n` intersections numbered from `0` to `n - 1` with bi-directional roads between some intersections. The inputs are generated such that you can reach any intersection from any other intersection and that there is at most one road between any two intersections.\n",
    "\n",
    "You are given an integer `n` and a 2D integer array roads where `roads[i] = [ui, vi, timei]` means that there is a road between intersections `ui` and `vi` that takes `timei` minutes to travel. You want to know in how many ways you can travel from intersection `0` to intersection `n - 1` in the shortest amount of time.\n",
    "\n",
    "Return the number of ways you can arrive at your destination in the shortest amount of time. Since the answer may be large, return it modulo `10**9 + 7`.\n",
    "\n",
    "### Example 1:\n",
    "\n",
    "- Input: n = 7, roads = [[0,6,7],[0,1,2],[1,2,3],[1,3,3],[6,3,3],[3,5,1],[6,5,1],[2,5,1],[0,4,5],[4,6,2]]\n",
    "- Output: 4\n",
    "- Explanation:\n",
    "    From the picture below, one can see that all of the components of this graph are complete.\n",
    "\n",
    "```vbnet[]\n",
    "                    .(2).  \n",
    "                .          .\n",
    "          (1)               (5)\n",
    "          .     .          . |\n",
    "       .            .(3).    |\n",
    "    (0)                      |\n",
    "        .                    |\n",
    "            .(4) - - - - - -(6)\n",
    "```"
   ]
  },
  {
   "cell_type": "code",
   "execution_count": 1,
   "metadata": {},
   "outputs": [],
   "source": [
    "from collections import defaultdict\n",
    "import heapq"
   ]
  },
  {
   "cell_type": "markdown",
   "metadata": {},
   "source": [
    "The key reason why **Dijkstra's algorithm** works with a **min-heap** but fails with a **queue (FIFO)** is that Dijkstra relies on always processing the shortest known path first, which a queue cannot guarantee."
   ]
  },
  {
   "cell_type": "code",
   "execution_count": 2,
   "metadata": {},
   "outputs": [],
   "source": [
    "def countPaths(n, roads):\n",
    "    \"\"\"\n",
    "    :type n: int\n",
    "    :type roads: List[List[int]]\n",
    "    :rtype: int\n",
    "    \"\"\"\n",
    "    graph = defaultdict(list)\n",
    "    for u, v, time in roads:\n",
    "        graph[u].append([v, time])\n",
    "        graph[v].append([u, time])\n",
    "\n",
    "    min_heap = [(0, 0)]\n",
    "    way = [0] * n\n",
    "    shortest_time = [float('inf')] * n\n",
    "\n",
    "    way[0] = 1\n",
    "    shortest_time[0] = 0\n",
    "\n",
    "    while min_heap:\n",
    "        current_time, node = heapq.heappop(min_heap)\n",
    "\n",
    "        if current_time > shortest_time[node]:\n",
    "            continue\n",
    "        \n",
    "        for neighbour,required_time in graph[node]:\n",
    "\n",
    "            if required_time + current_time < shortest_time[neighbour]:\n",
    "                shortest_time[neighbour] =  required_time + current_time\n",
    "                way[neighbour] = way[node]\n",
    "                heapq.heappush(min_heap, (shortest_time[neighbour], neighbour))\n",
    "\n",
    "            elif required_time + current_time == shortest_time[neighbour]:\n",
    "                way[neighbour] = (way[neighbour] + way[node]) % (10 ** 9 + 7)\n",
    "\n",
    "    return way[-1]"
   ]
  },
  {
   "cell_type": "code",
   "execution_count": 3,
   "metadata": {},
   "outputs": [
    {
     "data": {
      "text/plain": [
       "4"
      ]
     },
     "execution_count": 3,
     "metadata": {},
     "output_type": "execute_result"
    }
   ],
   "source": [
    "n = 7\n",
    "roads = [[0,6,7],[0,1,2],[1,2,3],[1,3,3],[6,3,3],[3,5,1],[6,5,1],[2,5,1],[0,4,5],[4,6,2]]\n",
    "countPaths(n, roads)"
   ]
  },
  {
   "cell_type": "code",
   "execution_count": null,
   "metadata": {},
   "outputs": [],
   "source": []
  }
 ],
 "metadata": {
  "kernelspec": {
   "display_name": "Python 3",
   "language": "python",
   "name": "python3"
  },
  "language_info": {
   "codemirror_mode": {
    "name": "ipython",
    "version": 3
   },
   "file_extension": ".py",
   "mimetype": "text/x-python",
   "name": "python",
   "nbconvert_exporter": "python",
   "pygments_lexer": "ipython3",
   "version": "3.12.3"
  }
 },
 "nbformat": 4,
 "nbformat_minor": 2
}
