{
 "cells": [
  {
   "cell_type": "markdown",
   "metadata": {},
   "source": [
    "## Minimum Deletions to Make String K-Special\n",
    "\n",
    "You are given a string `word` and an integer `k`.\n",
    "\n",
    "We consider `word` to be k-special if `|freq(word[i]) - freq(word[j])| <= k` for all indices `i` and `j` in the string.\n",
    "\n",
    "Here, `freq(x)` denotes the frequency of the character `x` in word, and `|y|` denotes the absolute value of `y`.\n",
    "\n",
    "Return the minimum number of characters you need to delete to make word k-special.\n",
    "\n",
    "#### Example 1:\n",
    "\n",
    "- Input:  word = \"aabcaba\", k = 0\n",
    "- Output: 3\n",
    "- Explanation: \n",
    "```plaintext[]\n",
    "    We can make word 0-special by deleting 2 occurrences of \"a\" and 1 occurrence of \"c\". Therefore, word becomes equal to \"baba\" where freq('a') == freq('b') == 2.\n",
    "```"
   ]
  },
  {
   "cell_type": "code",
   "execution_count": null,
   "metadata": {},
   "outputs": [],
   "source": [
    "from collections import Counter\n",
    "def minimumDeletions(word: str, k: int) -> int:\n",
    "    ch_count = Counter(word)\n",
    "    distinct_ch = set(list(word))\n",
    "    min_del_count = float('inf')\n",
    "\n",
    "    for fix_item in distinct_ch:\n",
    "        del_count = 0\n",
    "        for other_item in distinct_ch:\n",
    "            if fix_item != other_item:\n",
    "                if ch_count[other_item] < ch_count[fix_item]:\n",
    "                    del_count += ch_count[other_item]\n",
    "                if ch_count[other_item] > ch_count[fix_item] + k:\n",
    "                    del_count += ch_count[other_item] - ch_count[fix_item] - k\n",
    "        min_del_count = min(del_count, min_del_count)\n",
    "        \n",
    "    return min_del_count"
   ]
  },
  {
   "cell_type": "code",
   "execution_count": 2,
   "metadata": {},
   "outputs": [
    {
     "data": {
      "text/plain": [
       "3"
      ]
     },
     "execution_count": 2,
     "metadata": {},
     "output_type": "execute_result"
    }
   ],
   "source": [
    "word = \"aabcaba\"\n",
    "k = 0\n",
    "minimumDeletions(word, k)"
   ]
  },
  {
   "cell_type": "code",
   "execution_count": 3,
   "metadata": {},
   "outputs": [
    {
     "data": {
      "text/plain": [
       "2"
      ]
     },
     "execution_count": 3,
     "metadata": {},
     "output_type": "execute_result"
    }
   ],
   "source": [
    "word = \"dabdcbdcdcd\"\n",
    "k = 2\n",
    "minimumDeletions(word, k)"
   ]
  },
  {
   "cell_type": "markdown",
   "metadata": {},
   "source": [
    "#### Code optimized solution"
   ]
  },
  {
   "cell_type": "code",
   "execution_count": 8,
   "metadata": {},
   "outputs": [],
   "source": [
    "def minimumDeletions2(word: str, k: int) -> int:\n",
    "    ch_count = Counter(word).values()\n",
    "    min_del_count = float('inf')\n",
    "\n",
    "    for fix_count in ch_count:\n",
    "        del_count = 0\n",
    "        for other_count in ch_count:\n",
    "            del_count += other_count if other_count < fix_count else max(0, other_count - fix_count - k)\n",
    "        min_del_count = min(del_count, min_del_count)\n",
    "        \n",
    "    return min_del_count"
   ]
  },
  {
   "cell_type": "code",
   "execution_count": 9,
   "metadata": {},
   "outputs": [
    {
     "data": {
      "text/plain": [
       "3"
      ]
     },
     "execution_count": 9,
     "metadata": {},
     "output_type": "execute_result"
    }
   ],
   "source": [
    "word = \"aabcaba\"\n",
    "k = 0\n",
    "minimumDeletions2(word, k)"
   ]
  },
  {
   "cell_type": "code",
   "execution_count": 10,
   "metadata": {},
   "outputs": [
    {
     "data": {
      "text/plain": [
       "2"
      ]
     },
     "execution_count": 10,
     "metadata": {},
     "output_type": "execute_result"
    }
   ],
   "source": [
    "word = \"dabdcbdcdcd\"\n",
    "k = 2\n",
    "minimumDeletions2(word, k)"
   ]
  },
  {
   "cell_type": "code",
   "execution_count": null,
   "metadata": {},
   "outputs": [],
   "source": []
  }
 ],
 "metadata": {
  "kernelspec": {
   "display_name": "Python 3",
   "language": "python",
   "name": "python3"
  },
  "language_info": {
   "codemirror_mode": {
    "name": "ipython",
    "version": 3
   },
   "file_extension": ".py",
   "mimetype": "text/x-python",
   "name": "python",
   "nbconvert_exporter": "python",
   "pygments_lexer": "ipython3",
   "version": "3.12.3"
  }
 },
 "nbformat": 4,
 "nbformat_minor": 2
}
