{
 "cells": [
  {
   "cell_type": "markdown",
   "metadata": {},
   "source": [
    "## Solving Questions With Brainpower\n",
    "\n",
    "You are given a 0-indexed 2D integer array `questions` where `questions[i] = [pointsi, brainpoweri]`.\n",
    "\n",
    "The array describes the questions of an exam, where you have to process the questions in order (i.e., starting from question `0`) and make a decision whether to solve or skip each question. Solving question `i` will earn you pointsi points but you will be unable to solve each of the next brainpoweri questions. If you skip question `i`, you get to make the decision on the next question.\n",
    "\n",
    "For example, given `questions = [[3, 2], [4, 3], [4, 4], [2, 5]]`:\n",
    "- If question `0` is solved, you will earn `3` points but you will be unable to solve questions `1` and `2`.\n",
    "- If instead, question `0` is skipped and question `1` is solved, you will earn `4` points but you will be unable to solve questions `2` and `3`.\n",
    "\n",
    "Return the maximum points you can earn for the exam.\n",
    "\n",
    " \n",
    "\n",
    "### Example 1:\n",
    "\n",
    "- Input: questions = [[3,2],[4,3],[4,4],[2,5]]\n",
    "- Output: 5\n",
    "#### Explanation:  \n",
    "```plaintext[]\n",
    "The maximum points can be earned by solving questions 0 and 3.\n",
    "- Solve question 0: Earn 3 points, will be unable to solve the next 2 questions\n",
    "- Unable to solve questions 1 and 2\n",
    "- Solve question 3: Earn 2 points\n",
    "Total points earned: 3 + 2 = 5. There is no other way to earn \n",
    "```"
   ]
  },
  {
   "cell_type": "code",
   "execution_count": 1,
   "metadata": {},
   "outputs": [],
   "source": [
    "def mostPoints(questions):\n",
    "    n = len(questions)\n",
    "    dp = [0] * (n+1)\n",
    "\n",
    "    for i in range(n-1, -1, -1):\n",
    "        points, brainpower = questions[i]\n",
    "        solve = points + (dp[i+brainpower+1] if i+brainpower+1 < n else 0)\n",
    "\n",
    "        skip = dp[i+1]\n",
    "\n",
    "        dp[i] = max(skip, solve)\n",
    "        \n",
    "    return dp[0]"
   ]
  },
  {
   "cell_type": "code",
   "execution_count": 2,
   "metadata": {},
   "outputs": [
    {
     "data": {
      "text/plain": [
       "5"
      ]
     },
     "execution_count": 2,
     "metadata": {},
     "output_type": "execute_result"
    }
   ],
   "source": [
    "questions = [[3,2],[4,3],[4,4],[2,5]]\n",
    "mostPoints(questions)"
   ]
  },
  {
   "cell_type": "code",
   "execution_count": 3,
   "metadata": {},
   "outputs": [
    {
     "data": {
      "text/plain": [
       "7"
      ]
     },
     "execution_count": 3,
     "metadata": {},
     "output_type": "execute_result"
    }
   ],
   "source": [
    "questions = [[1,1],[2,2],[3,3],[4,4],[5,5]]\n",
    "mostPoints(questions)"
   ]
  },
  {
   "cell_type": "code",
   "execution_count": null,
   "metadata": {},
   "outputs": [],
   "source": []
  }
 ],
 "metadata": {
  "kernelspec": {
   "display_name": "Python 3",
   "language": "python",
   "name": "python3"
  },
  "language_info": {
   "codemirror_mode": {
    "name": "ipython",
    "version": 3
   },
   "file_extension": ".py",
   "mimetype": "text/x-python",
   "name": "python",
   "nbconvert_exporter": "python",
   "pygments_lexer": "ipython3",
   "version": "3.12.3"
  }
 },
 "nbformat": 4,
 "nbformat_minor": 2
}
