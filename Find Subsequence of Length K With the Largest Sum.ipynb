{
 "cells": [
  {
   "cell_type": "markdown",
   "metadata": {},
   "source": [
    "## Find Subsequence of Length K With the Largest Sum\n",
    "\n",
    "You are given an integer array `nums` and an integer `k`. You want to find a subsequence of `nums` of length `k` that has the largest sum.\n",
    "\n",
    "Return any such subsequence as an integer array of length `k`.\n",
    "\n",
    "A subsequence is an array that can be derived from another array by deleting some or no elements without changing the order of the remaining elements.\n",
    "\n",
    "#### Example 1:\n",
    "\n",
    "- Input:  Input: nums = [2,1,3,3], k = 2\n",
    "- Output: [3,3]\n",
    "- Explanation:\n",
    "```plaintext[]\n",
    "    The subsequence has the largest sum of 3 + 3 = 6.\n",
    "```"
   ]
  },
  {
   "cell_type": "code",
   "execution_count": 1,
   "metadata": {},
   "outputs": [],
   "source": [
    "from collections import Counter\n",
    "def maxSubsequence(nums: list[int], k: int) -> list[int]:\n",
    "    sort_nums = sorted(nums)\n",
    "    k_nums = sort_nums[-k:]\n",
    "    count_nums = Counter(k_nums)\n",
    "    result = []\n",
    "    for item in nums:\n",
    "        if item in count_nums.keys() and count_nums[item] > 0:\n",
    "            result.append(item)\n",
    "            count_nums[item] -= 1\n",
    "    return result"
   ]
  },
  {
   "cell_type": "code",
   "execution_count": 2,
   "metadata": {},
   "outputs": [
    {
     "data": {
      "text/plain": [
       "[3, 3]"
      ]
     },
     "execution_count": 2,
     "metadata": {},
     "output_type": "execute_result"
    }
   ],
   "source": [
    "nums = [2,1,3,3]\n",
    "k = 2\n",
    "maxSubsequence(nums, k)"
   ]
  },
  {
   "cell_type": "code",
   "execution_count": 3,
   "metadata": {},
   "outputs": [
    {
     "data": {
      "text/plain": [
       "[-1, 3, 4]"
      ]
     },
     "execution_count": 3,
     "metadata": {},
     "output_type": "execute_result"
    }
   ],
   "source": [
    "nums = [-1,-2,3,4]\n",
    "k = 3\n",
    "maxSubsequence(nums, k)"
   ]
  },
  {
   "cell_type": "code",
   "execution_count": null,
   "metadata": {},
   "outputs": [],
   "source": []
  }
 ],
 "metadata": {
  "kernelspec": {
   "display_name": "Python 3",
   "language": "python",
   "name": "python3"
  },
  "language_info": {
   "codemirror_mode": {
    "name": "ipython",
    "version": 3
   },
   "file_extension": ".py",
   "mimetype": "text/x-python",
   "name": "python",
   "nbconvert_exporter": "python",
   "pygments_lexer": "ipython3",
   "version": "3.12.3"
  }
 },
 "nbformat": 4,
 "nbformat_minor": 2
}
