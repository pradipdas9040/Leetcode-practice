{
 "cells": [
  {
   "cell_type": "markdown",
   "id": "fde8d036",
   "metadata": {},
   "source": [
    "***Given two integers dividend and divisor, divide two integers without using multiplication, division, and mod operator.***"
   ]
  },
  {
   "cell_type": "markdown",
   "id": "2a61ee07",
   "metadata": {},
   "source": [
    "***Input:*** dividend = 10, divisor = 3  \n",
    "***Output:*** 3  \n",
    "***Explanation:*** 10/3 = 3.33333.. which is truncated to 3."
   ]
  },
  {
   "cell_type": "code",
   "execution_count": 1,
   "id": "5a9d19d8",
   "metadata": {},
   "outputs": [],
   "source": [
    "def divide(dividend, divisor):\n",
    "    sign = -1 if ((dividend < 0) ^ (divisor < 0)) else 1\n",
    "    dividend = abs(dividend)\n",
    "    divisor = abs(divisor)\n",
    "    quotient = 0\n",
    "    while (dividend >= divisor):\n",
    "        dividend -= divisor\n",
    "        quotient += 1\n",
    "    if sign == -1:\n",
    "        quotient = -quotient\n",
    "    return quotient"
   ]
  },
  {
   "cell_type": "code",
   "execution_count": 2,
   "id": "2e573a78",
   "metadata": {},
   "outputs": [
    {
     "name": "stdout",
     "output_type": "stream",
     "text": [
      "Enter dividend and divisor: 100 3\n"
     ]
    },
    {
     "data": {
      "text/plain": [
       "33"
      ]
     },
     "execution_count": 2,
     "metadata": {},
     "output_type": "execute_result"
    }
   ],
   "source": [
    "m, n = map(int, input('Enter dividend and divisor: ').split())\n",
    "divide(m, n)"
   ]
  }
 ],
 "metadata": {
  "kernelspec": {
   "display_name": "Python 3 (ipykernel)",
   "language": "python",
   "name": "python3"
  },
  "language_info": {
   "codemirror_mode": {
    "name": "ipython",
    "version": 3
   },
   "file_extension": ".py",
   "mimetype": "text/x-python",
   "name": "python",
   "nbconvert_exporter": "python",
   "pygments_lexer": "ipython3",
   "version": "3.10.2"
  }
 },
 "nbformat": 4,
 "nbformat_minor": 5
}
