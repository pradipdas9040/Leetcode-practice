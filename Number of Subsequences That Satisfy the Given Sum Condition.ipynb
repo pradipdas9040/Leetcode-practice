{
 "cells": [
  {
   "cell_type": "markdown",
   "metadata": {},
   "source": [
    "## Number of Subsequences That Satisfy the Given Sum Condition\n",
    "\n",
    "You are given an array of integers `nums` and an integer `target`.\n",
    "\n",
    "Return the number of non-empty subsequences of `nums` such that the sum of the minimum and maximum element on it is less or equal to `target`. Since the answer may be too large, return it modulo $10^9 + 7$.\n",
    "\n",
    "#### Example 1:\n",
    "\n",
    "- Input:  nums = [3,5,6,7], target = 9\n",
    "- Output: 4\n",
    "- Explanation: \n",
    "```plaintext[]\n",
    "    There are 4 subsequences that satisfy the condition.\n",
    "    [3] -> Min value + max value <= target (3 + 3 <= 9)\n",
    "    [3,5] -> (3 + 5 <= 9)\n",
    "    [3,5,6] -> (3 + 6 <= 9)\n",
    "    [3,6] -> (3 + 6 <= 9)\n",
    "```"
   ]
  },
  {
   "cell_type": "code",
   "execution_count": 1,
   "metadata": {},
   "outputs": [],
   "source": [
    "def numSubseq(nums: list[int], target: int) -> int:\n",
    "    nums.sort()\n",
    "    n = len(nums)\n",
    "    mod = 10 ** 9 + 7\n",
    "\n",
    "    power = [1] * n\n",
    "    for i in range(1, n):\n",
    "        power[i] = (power[i-1] * 2) % mod\n",
    "\n",
    "    left, right = 0, n-1\n",
    "    res = 0\n",
    "\n",
    "    while left <= right:\n",
    "        if nums[right] + nums[left] <= target:\n",
    "            res += power[right-left]\n",
    "            left += 1\n",
    "        else:\n",
    "            right -= 1\n",
    "    return res"
   ]
  },
  {
   "cell_type": "code",
   "execution_count": 2,
   "metadata": {},
   "outputs": [
    {
     "data": {
      "text/plain": [
       "4"
      ]
     },
     "execution_count": 2,
     "metadata": {},
     "output_type": "execute_result"
    }
   ],
   "source": [
    "nums = [3,5,6,7]\n",
    "target = 9\n",
    "numSubseq(nums, target)"
   ]
  },
  {
   "cell_type": "code",
   "execution_count": 3,
   "metadata": {},
   "outputs": [
    {
     "data": {
      "text/plain": [
       "61"
      ]
     },
     "execution_count": 3,
     "metadata": {},
     "output_type": "execute_result"
    }
   ],
   "source": [
    "nums = [2,3,3,4,6,7]\n",
    "target = 12\n",
    "numSubseq(nums, target)"
   ]
  },
  {
   "cell_type": "code",
   "execution_count": null,
   "metadata": {},
   "outputs": [],
   "source": []
  }
 ],
 "metadata": {
  "kernelspec": {
   "display_name": "Python 3",
   "language": "python",
   "name": "python3"
  },
  "language_info": {
   "codemirror_mode": {
    "name": "ipython",
    "version": 3
   },
   "file_extension": ".py",
   "mimetype": "text/x-python",
   "name": "python",
   "nbconvert_exporter": "python",
   "pygments_lexer": "ipython3",
   "version": "3.12.3"
  }
 },
 "nbformat": 4,
 "nbformat_minor": 2
}
