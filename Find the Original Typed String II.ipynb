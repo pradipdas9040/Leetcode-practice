{
 "cells": [
  {
   "cell_type": "markdown",
   "metadata": {},
   "source": [
    "## Find the Original Typed String II\n",
    "\n",
    "Alice is attempting to type a specific string on her computer. However, she tends to be clumsy and may press a key for too long, resulting in a character being typed multiple times.\n",
    "\n",
    "You are given a string `word`, which represents the final output displayed on Alice's screen. You are also given a positive integer `k`.\n",
    "\n",
    "Return the total number of possible original strings that Alice might have intended to type, if she was trying to type a string of size at least `k`.\n",
    "\n",
    "Since the answer may be very large, return it modulo $10^9 + 7$.\n",
    "\n",
    "#### Example 1:\n",
    "\n",
    "- Input:  word = \"aabbccdd\", k = 7\n",
    "- Output: 5\n",
    "- Explanation:\n",
    "```plaintext[]\n",
    "    The possible strings are: \"aabbccdd\", \"aabbccd\", \"aabbcdd\", \"aabccdd\", and \"abbccdd\".\n",
    "```"
   ]
  },
  {
   "cell_type": "code",
   "execution_count": 1,
   "metadata": {},
   "outputs": [],
   "source": [
    "from functools import lru_cache"
   ]
  },
  {
   "cell_type": "code",
   "execution_count": 2,
   "metadata": {},
   "outputs": [],
   "source": [
    "MOD = 10 ** 9 + 7\n",
    "\n",
    "\n",
    "def totalOriginalStrings(word: str, k: int) -> int:\n",
    "    # Step 1: Compress word to groups of (char, count)\n",
    "    groups = []\n",
    "    count = 1\n",
    "    for i in range(1, len(word)):\n",
    "        if word[i] == word[i - 1]:\n",
    "            count += 1\n",
    "        else:\n",
    "            groups.append(count)\n",
    "            count = 1\n",
    "    groups.append(count)\n",
    "\n",
    "    n = len(groups)\n",
    "\n",
    "    # Step 2: DP[i][length] = number of ways to get `length` using first i groups\n",
    "    @lru_cache(maxsize=None)\n",
    "    def dp(i, length):\n",
    "        if i == n:\n",
    "            return 1 if length >= k else 0\n",
    "\n",
    "        ways = 0\n",
    "        for t in range(1, groups[i] + 1):  # take 1 to groups[i] characters\n",
    "            ways = (ways + dp(i + 1, length + t)) % MOD\n",
    "        return ways\n",
    "\n",
    "    return dp(0, 0)\n"
   ]
  },
  {
   "cell_type": "code",
   "execution_count": 3,
   "metadata": {},
   "outputs": [
    {
     "data": {
      "text/plain": [
       "5"
      ]
     },
     "execution_count": 3,
     "metadata": {},
     "output_type": "execute_result"
    }
   ],
   "source": [
    "word = \"aabbccdd\"\n",
    "k = 7\n",
    "totalOriginalStrings(word, k)"
   ]
  },
  {
   "cell_type": "code",
   "execution_count": 4,
   "metadata": {},
   "outputs": [
    {
     "data": {
      "text/plain": [
       "8"
      ]
     },
     "execution_count": 4,
     "metadata": {},
     "output_type": "execute_result"
    }
   ],
   "source": [
    "word = \"aaabbb\"\n",
    "k = 3\n",
    "totalOriginalStrings(word, k)"
   ]
  },
  {
   "cell_type": "code",
   "execution_count": null,
   "metadata": {},
   "outputs": [],
   "source": [
    "def possibleStringCount(word: str, k: int) -> int:\n",
    "    mod = 10**9 + 7\n",
    "    n, cnt = len(word), 1\n",
    "    freq = list()\n",
    "\n",
    "    for i in range(1, n):\n",
    "        if word[i] == word[i - 1]:\n",
    "            cnt += 1\n",
    "        else:\n",
    "            freq.append(cnt)\n",
    "            cnt = 1\n",
    "    freq.append(cnt)\n",
    "\n",
    "    ans = 1\n",
    "    for o in freq:\n",
    "        ans = ans * o % mod\n",
    "\n",
    "    if len(freq) >= k:\n",
    "        return ans\n",
    "\n",
    "    f, g = [1] + [0] * (k - 1), [1] * k\n",
    "    for i in range(len(freq)):\n",
    "        f_new = [0] * k\n",
    "        for j in range(1, k):\n",
    "            f_new[j] = g[j - 1]\n",
    "            if j - freq[i] - 1 >= 0:\n",
    "                f_new[j] = (f_new[j] - g[j - freq[i] - 1]) % mod\n",
    "        g_new = [f_new[0]] + [0] * (k - 1)\n",
    "        for j in range(1, k):\n",
    "            g_new[j] = (g_new[j - 1] + f_new[j]) % mod\n",
    "        f, g = f_new, g_new\n",
    "    return (ans - g[k - 1]) % mod"
   ]
  }
 ],
 "metadata": {
  "kernelspec": {
   "display_name": "Python 3",
   "language": "python",
   "name": "python3"
  },
  "language_info": {
   "codemirror_mode": {
    "name": "ipython",
    "version": 3
   },
   "file_extension": ".py",
   "mimetype": "text/x-python",
   "name": "python",
   "nbconvert_exporter": "python",
   "pygments_lexer": "ipython3",
   "version": "3.12.3"
  }
 },
 "nbformat": 4,
 "nbformat_minor": 2
}
