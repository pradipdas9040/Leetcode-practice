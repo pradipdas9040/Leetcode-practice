{
 "cells": [
  {
   "cell_type": "markdown",
   "id": "a3a7fb0e",
   "metadata": {},
   "source": [
    "# Maximum Difference by Remapping a Digit\n",
    "\n",
    "You are given an integer `num`. You know that Bob will sneakily remap one of the `10` possible digits (`0` to `9`) to another digit.\n",
    "\n",
    "Return the difference between the maximum and minimum values Bob can make by remapping exactly one digit in `num`.\n",
    "\n",
    "Notes:\n",
    "\n",
    "- When Bob remaps a digit `d1` to another digit `d2`, Bob replaces all occurrences of `d1` in num with `d2`.\n",
    "- Bob can remap a digit to itself, in which case `num` does not change.\n",
    "- Bob can remap different digits for obtaining minimum and maximum values respectively.\n",
    "- The resulting number after remapping can contain leading zeroes.\n",
    "\n",
    "## Example 1:\n",
    "\n",
    "- Input: num = 11891\n",
    "- Output: 99009\n",
    "- Explanation: \n",
    "```plaintext[]\n",
    "    To achieve the maximum value, Bob can remap the digit 1 to the digit 9 to yield 99899.\n",
    "    To achieve the minimum value, Bob can remap the digit 1 to the digit 0, yielding 890.\n",
    "    The difference between these two numbers is 99009.\n",
    "```"
   ]
  },
  {
   "cell_type": "code",
   "execution_count": 1,
   "id": "f7178807",
   "metadata": {},
   "outputs": [],
   "source": [
    "def minMaxDifference(num: int) -> int:\n",
    "    num_str = str(num)\n",
    "    n = len(num_str)\n",
    "    max_num, min_num = '', ''\n",
    "    leading_dig = num_str[0]\n",
    "    leading_dig_max = '9'\n",
    "\n",
    "    for i in range(n):\n",
    "        if num_str[i] != '9':\n",
    "            leading_dig_max = num_str[i]\n",
    "            break\n",
    "    for i in range(n):\n",
    "        if num_str[i] == leading_dig_max:\n",
    "            max_num += '9'\n",
    "        else:\n",
    "            max_num += num_str[i]\n",
    "    for i in range(n):\n",
    "        if num_str[i] == leading_dig:\n",
    "            min_num += '0'\n",
    "        else:\n",
    "            min_num += num_str[i]\n",
    "\n",
    "    return int(max_num)- int(min_num)\n",
    "    "
   ]
  },
  {
   "cell_type": "code",
   "execution_count": 2,
   "id": "ca8bb2c1",
   "metadata": {},
   "outputs": [
    {
     "data": {
      "text/plain": [
       "99009"
      ]
     },
     "execution_count": 2,
     "metadata": {},
     "output_type": "execute_result"
    }
   ],
   "source": [
    "num = 11891\n",
    "minMaxDifference(num)"
   ]
  },
  {
   "cell_type": "code",
   "execution_count": 3,
   "id": "7ea0c48b",
   "metadata": {},
   "outputs": [
    {
     "data": {
      "text/plain": [
       "99"
      ]
     },
     "execution_count": 3,
     "metadata": {},
     "output_type": "execute_result"
    }
   ],
   "source": [
    "num = 90\n",
    "minMaxDifference(num)"
   ]
  },
  {
   "cell_type": "markdown",
   "id": "f67c5273",
   "metadata": {},
   "source": [
    "#### Code Optimized Version"
   ]
  },
  {
   "cell_type": "code",
   "execution_count": 4,
   "id": "7c70a417",
   "metadata": {},
   "outputs": [],
   "source": [
    "def minMaxDifference2(num: int) -> int:\n",
    "    s = str(num)\n",
    "    \n",
    "    # Create max_num by replacing first non-9 digit with 9\n",
    "    max_digit = next((ch for ch in s if ch != '9'), None)\n",
    "    max_num = s.replace(max_digit, '9') if max_digit else s\n",
    "    \n",
    "    # Create min_num by replacing first digit with 0\n",
    "    min_num = s.replace(s[0], '0')\n",
    "    \n",
    "    return int(max_num) - int(min_num)"
   ]
  },
  {
   "cell_type": "code",
   "execution_count": 5,
   "id": "66de5d03",
   "metadata": {},
   "outputs": [
    {
     "data": {
      "text/plain": [
       "99009"
      ]
     },
     "execution_count": 5,
     "metadata": {},
     "output_type": "execute_result"
    }
   ],
   "source": [
    "num = 11891\n",
    "minMaxDifference2(num)"
   ]
  },
  {
   "cell_type": "code",
   "execution_count": 6,
   "id": "a0988416",
   "metadata": {},
   "outputs": [
    {
     "data": {
      "text/plain": [
       "99"
      ]
     },
     "execution_count": 6,
     "metadata": {},
     "output_type": "execute_result"
    }
   ],
   "source": [
    "num = 90\n",
    "minMaxDifference2(num)"
   ]
  },
  {
   "cell_type": "code",
   "execution_count": null,
   "id": "806941dd",
   "metadata": {},
   "outputs": [],
   "source": []
  }
 ],
 "metadata": {
  "kernelspec": {
   "display_name": "Python 3",
   "language": "python",
   "name": "python3"
  },
  "language_info": {
   "codemirror_mode": {
    "name": "ipython",
    "version": 3
   },
   "file_extension": ".py",
   "mimetype": "text/x-python",
   "name": "python",
   "nbconvert_exporter": "python",
   "pygments_lexer": "ipython3",
   "version": "3.12.3"
  }
 },
 "nbformat": 4,
 "nbformat_minor": 5
}
