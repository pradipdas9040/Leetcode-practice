{
 "cells": [
  {
   "cell_type": "markdown",
   "id": "9699a617",
   "metadata": {},
   "source": [
    "***Given a string s, return the longest palindromic substring in s.***"
   ]
  },
  {
   "cell_type": "markdown",
   "id": "34ca4392",
   "metadata": {},
   "source": [
    "***Example 1:***\n",
    "\n",
    "**Input:** s = \"babad\"  \n",
    "**Output:** \"bab\"  \n",
    "**Explanation:** \"aba\" is also a valid answer.\n",
    "\n",
    "***Example 2:***\n",
    "\n",
    "**Input:** s = \"cbbd\"  \n",
    "**Output:** \"bb\"**"
   ]
  },
  {
   "cell_type": "code",
   "execution_count": 1,
   "id": "6f22f626",
   "metadata": {},
   "outputs": [],
   "source": [
    "def printSubStr(str, low, high):\n",
    "    l = ' '\n",
    "    for i in range(low, high + 1):\n",
    "        l = l + str[i]\n",
    "    return l.strip()"
   ]
  },
  {
   "cell_type": "code",
   "execution_count": 2,
   "id": "8abf2783",
   "metadata": {},
   "outputs": [],
   "source": [
    "def longestPalindrome(s):\n",
    "    n = len(s)\n",
    "    maxLength = 1\n",
    "    start = 0\n",
    "    for i in range(n):\n",
    "        for j in range(i, n):\n",
    "            flag = 1\n",
    "            for k in range(0, ((j - i) // 2) + 1):\n",
    "                if (s[i + k] != s[j - k]):\n",
    "                    flag = 0\n",
    "            if (flag != 0 and (j - i + 1) > maxLength):\n",
    "                start = i\n",
    "                maxLength = j - i + 1\n",
    "    return printSubStr(s, start, start + maxLength - 1)"
   ]
  },
  {
   "cell_type": "code",
   "execution_count": 3,
   "id": "d398d1ec",
   "metadata": {},
   "outputs": [
    {
     "name": "stdout",
     "output_type": "stream",
     "text": [
      "Enter a string\": babad\n",
      "Longest palindrome subString is:  bab\n"
     ]
    }
   ],
   "source": [
    "s = input('Enter a string\": ')\n",
    "print(\"Longest palindrome subString is: \", longestPalindrome(s))"
   ]
  }
 ],
 "metadata": {
  "kernelspec": {
   "display_name": "Python 3 (ipykernel)",
   "language": "python",
   "name": "python3"
  },
  "language_info": {
   "codemirror_mode": {
    "name": "ipython",
    "version": 3
   },
   "file_extension": ".py",
   "mimetype": "text/x-python",
   "name": "python",
   "nbconvert_exporter": "python",
   "pygments_lexer": "ipython3",
   "version": "3.10.2"
  }
 },
 "nbformat": 4,
 "nbformat_minor": 5
}
