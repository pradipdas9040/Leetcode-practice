{
 "cells": [
  {
   "cell_type": "markdown",
   "id": "8f3c8ddf",
   "metadata": {},
   "source": [
    "## Finding 3-Digit Even Numbers\n",
    "\n",
    "You are given an integer array `digits`, where each element is a digit. The array may contain duplicates.\n",
    "\n",
    "You need to find all the unique integers that follow the given requirements:\n",
    "\n",
    "- The integer consists of the concatenation of three elements from `digits` in any arbitrary order.\n",
    "- The integer does not have leading zeros.\n",
    "- The integer is even.\n",
    "For example, if the given digits were `[1, 2, 3]`, integers `132` and `312` follow the requirements.\n",
    "\n",
    "Return a sorted array of the unique integers.\n",
    "\n",
    "## Example 1:\n",
    "\n",
    "- Input: digits = [2,1,3,0]\n",
    "- Output: [102,120,130,132,210,230,302,310,312,320]\n",
    "- Explanation: \n",
    "```plaintext[]\n",
    "        All the possible integers that follow the requirements are in the output array. \n",
    "        Notice that there are no odd integers or integers with leading zeros.\n",
    "```"
   ]
  },
  {
   "cell_type": "code",
   "execution_count": 1,
   "id": "94f90a38",
   "metadata": {},
   "outputs": [],
   "source": [
    "from itertools import permutations"
   ]
  },
  {
   "cell_type": "code",
   "execution_count": 2,
   "id": "b7ca7d53",
   "metadata": {},
   "outputs": [],
   "source": [
    "def findEvenNumbers(digits: list[int]) -> list[int]:\n",
    "    result = set()\n",
    "\n",
    "    for item in permutations(digits, 3):\n",
    "        number = 100 * item[0] + 10 * item[1] + item[2]\n",
    "        if number % 2 == 0 and item[0] != 0:\n",
    "            result.add(number)\n",
    "    result = list(result)\n",
    "    result.sort()\n",
    "    return result"
   ]
  },
  {
   "cell_type": "code",
   "execution_count": 3,
   "id": "a344f3be",
   "metadata": {},
   "outputs": [
    {
     "data": {
      "text/plain": [
       "[102, 120, 130, 132, 210, 230, 302, 310, 312, 320]"
      ]
     },
     "execution_count": 3,
     "metadata": {},
     "output_type": "execute_result"
    }
   ],
   "source": [
    "digits = [2,1,3,0]\n",
    "findEvenNumbers(digits)"
   ]
  },
  {
   "cell_type": "code",
   "execution_count": null,
   "id": "bd2f9019",
   "metadata": {},
   "outputs": [],
   "source": []
  }
 ],
 "metadata": {
  "kernelspec": {
   "display_name": "Python 3",
   "language": "python",
   "name": "python3"
  },
  "language_info": {
   "codemirror_mode": {
    "name": "ipython",
    "version": 3
   },
   "file_extension": ".py",
   "mimetype": "text/x-python",
   "name": "python",
   "nbconvert_exporter": "python",
   "pygments_lexer": "ipython3",
   "version": "3.12.3"
  }
 },
 "nbformat": 4,
 "nbformat_minor": 5
}
