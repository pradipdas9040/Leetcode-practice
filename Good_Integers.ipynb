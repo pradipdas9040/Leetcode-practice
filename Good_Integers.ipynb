{
 "cells": [
  {
   "cell_type": "markdown",
   "metadata": {},
   "source": [
    "## Find the Count of Good Integers\n",
    "\n",
    "You are given two positive integers `n` and `k`.\n",
    "\n",
    "An integer `x` is called k-palindromic if:\n",
    "\n",
    "- `x` is a palindrome.\n",
    "- `x` is divisible by `k`.\n",
    "\n",
    "An integer is called good if its digits can be rearranged to form a k-palindromic integer. For example, for `k = 2`, `2020` can be rearranged to form the k-palindromic integer `2002`, whereas `1010` cannot be rearranged to form a k-palindromic integer.\n",
    "\n",
    "Return the count of good integers containing `n` digits.\n",
    "\n",
    "Note that any integer must not have leading zeros, neither before nor after rearrangement. For example, `1010` cannot be rearranged to form `101`.\n",
    "\n",
    "#### Example 1:\n",
    "\n",
    "- Input: n = 3, k = 5\n",
    "- Output: 27\n",
    "- Explanation:\n",
    "\n",
    "    Some of the good integers are:\n",
    "\n",
    "    551 because it can be rearranged to form 515.\n",
    "\n",
    "    525 because it is already k-palindromic."
   ]
  },
  {
   "cell_type": "code",
   "execution_count": 1,
   "metadata": {},
   "outputs": [],
   "source": [
    "from math import factorial"
   ]
  },
  {
   "cell_type": "code",
   "execution_count": 2,
   "metadata": {},
   "outputs": [],
   "source": [
    "def countGoodIntegers(n, k):\n",
    "    k_palindromes = set()\n",
    "    half_len = (n + 1) // 2\n",
    "    start = 10**(half_len - 1) if half_len > 1 else 1\n",
    "    end = 10**half_len\n",
    "\n",
    "    for half in range(start, end):\n",
    "        half_str = str(half)\n",
    "        if n % 2 == 0:\n",
    "            palindrome = half_str + half_str[::-1]\n",
    "            if int(palindrome )% k == 0:\n",
    "                k_palindromes.add(''.join(sorted(palindrome)))\n",
    "        else:\n",
    "            palindrome = half_str + half_str[-2::-1]\n",
    "            if int(palindrome) % k == 0:\n",
    "                k_palindromes.add(''.join(sorted(palindrome)))\n",
    "\n",
    "    fac = [factorial(i) for i in range(n + 1)]\n",
    "\n",
    "    count = 0\n",
    "    for s in k_palindromes:\n",
    "        cnt = [0] * 10\n",
    "        for c in s:\n",
    "            cnt[int(c)] += 1\n",
    "        \n",
    "        # Calculate permutations and combinations\n",
    "        tot = (n - cnt[0]) * fac[n - 1]\n",
    "        for x in cnt:\n",
    "            tot //= fac[x]\n",
    "        count += tot\n",
    "    \n",
    "    return count"
   ]
  },
  {
   "cell_type": "code",
   "execution_count": 3,
   "metadata": {},
   "outputs": [
    {
     "data": {
      "text/plain": [
       "2468"
      ]
     },
     "execution_count": 3,
     "metadata": {},
     "output_type": "execute_result"
    }
   ],
   "source": [
    "n = 5\n",
    "k = 6\n",
    "countGoodIntegers(n, k)"
   ]
  },
  {
   "cell_type": "code",
   "execution_count": 5,
   "metadata": {},
   "outputs": [
    {
     "data": {
      "text/plain": [
       "27"
      ]
     },
     "execution_count": 5,
     "metadata": {},
     "output_type": "execute_result"
    }
   ],
   "source": [
    "n = 3\n",
    "k = 5\n",
    "countGoodIntegers(n, k)"
   ]
  },
  {
   "cell_type": "code",
   "execution_count": null,
   "metadata": {},
   "outputs": [],
   "source": []
  }
 ],
 "metadata": {
  "kernelspec": {
   "display_name": "Python 3",
   "language": "python",
   "name": "python3"
  },
  "language_info": {
   "codemirror_mode": {
    "name": "ipython",
    "version": 3
   },
   "file_extension": ".py",
   "mimetype": "text/x-python",
   "name": "python",
   "nbconvert_exporter": "python",
   "pygments_lexer": "ipython3",
   "version": "3.12.3"
  }
 },
 "nbformat": 4,
 "nbformat_minor": 2
}
