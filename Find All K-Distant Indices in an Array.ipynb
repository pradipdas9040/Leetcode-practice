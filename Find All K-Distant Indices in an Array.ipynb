{
 "cells": [
  {
   "cell_type": "markdown",
   "metadata": {},
   "source": [
    "## Find All K-Distant Indices in an Array\n",
    "\n",
    "You are given a 0-indexed integer array `nums` and two integers `key` and `k`. A k-distant index is an index `i` of nums for which there exists at least one index `j` such that `|i - j| <= k` and `nums[j] == key`.\n",
    "\n",
    "Return a list of all k-distant indices sorted in increasing order.\n",
    "\n",
    "#### Example 1:\n",
    "\n",
    "- Input:  nums = [2,2,2,2,2], key = 2, k = 2\n",
    "- Output: [0,1,2,3,4]\n",
    "- Explanation: \n",
    "```plaintext[]\n",
    "    For all indices i in nums, there exists some index j such that |i - j| <= k and nums[j] == key, so every index is a k-distant index. \n",
    "    Hence, we return [0,1,2,3,4].\n",
    "```"
   ]
  },
  {
   "cell_type": "code",
   "execution_count": 1,
   "metadata": {},
   "outputs": [],
   "source": [
    "def findKDistantIndices(nums: list[int], key: int, k: int) -> list[int]:\n",
    "    key_ind = []\n",
    "    result = []\n",
    "    for i in range(len(nums)):\n",
    "        if nums[i] == key:\n",
    "            key_ind.append(i)\n",
    "    for i in range(len(nums)):\n",
    "        for j in key_ind:\n",
    "            if abs(i - j) <= k:\n",
    "                result.append(i)\n",
    "                break\n",
    "    return result"
   ]
  },
  {
   "cell_type": "code",
   "execution_count": 2,
   "metadata": {},
   "outputs": [
    {
     "data": {
      "text/plain": [
       "[1, 2, 3, 4, 5, 6]"
      ]
     },
     "execution_count": 2,
     "metadata": {},
     "output_type": "execute_result"
    }
   ],
   "source": [
    "nums = [3,4,9,1,3,9,5]\n",
    "key = 9\n",
    "k = 1\n",
    "findKDistantIndices(nums, key, k)"
   ]
  }
 ],
 "metadata": {
  "kernelspec": {
   "display_name": "Python 3",
   "language": "python",
   "name": "python3"
  },
  "language_info": {
   "codemirror_mode": {
    "name": "ipython",
    "version": 3
   },
   "file_extension": ".py",
   "mimetype": "text/x-python",
   "name": "python",
   "nbconvert_exporter": "python",
   "pygments_lexer": "ipython3",
   "version": "3.12.3"
  }
 },
 "nbformat": 4,
 "nbformat_minor": 2
}
