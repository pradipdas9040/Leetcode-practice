{
 "cells": [
  {
   "cell_type": "markdown",
   "metadata": {},
   "source": [
    "## Rotate Array\n",
    "\n",
    "Given an integer array `nums`, rotate the array to the right by `k` steps, where `k` is non-negative.\n",
    "\n",
    "#### Example 1:\n",
    "\n",
    "- Input: nums = [1,2,3,4,5,6,7], k = 3\n",
    "- Output: [5,6,7,1,2,3,4]\n",
    "- Explanation:\n",
    "```plaintext[]\n",
    "        rotate 1 steps to the right: [7,1,2,3,4,5,6]\n",
    "        rotate 2 steps to the right: [6,7,1,2,3,4,5]\n",
    "        rotate 3 steps to the right: [5,6,7,1,2,3,4]\n",
    "```"
   ]
  },
  {
   "cell_type": "code",
   "execution_count": 1,
   "metadata": {},
   "outputs": [],
   "source": [
    "def rotate(nums: list[int], k: int) -> list:\n",
    "    for i in range(k):\n",
    "        last = nums.pop()\n",
    "        nums.insert(0, last)\n",
    "    return nums"
   ]
  },
  {
   "cell_type": "code",
   "execution_count": 2,
   "metadata": {},
   "outputs": [
    {
     "data": {
      "text/plain": [
       "[6, 7, 1, 2, 3, 4, 5]"
      ]
     },
     "execution_count": 2,
     "metadata": {},
     "output_type": "execute_result"
    }
   ],
   "source": [
    "nums = [1,2,3,4,5,6,7]\n",
    "k = 2\n",
    "rotate(nums, k)"
   ]
  },
  {
   "cell_type": "code",
   "execution_count": 3,
   "metadata": {},
   "outputs": [],
   "source": [
    "def rotate(nums: list[int], k: int) -> list:\n",
    "    n = len(nums)\n",
    "    k %= n\n",
    "    nums[:] = nums[n-k:] + nums[:n-k]\n",
    "    return nums"
   ]
  },
  {
   "cell_type": "code",
   "execution_count": 4,
   "metadata": {},
   "outputs": [
    {
     "data": {
      "text/plain": [
       "[3, 99, -1, -100]"
      ]
     },
     "execution_count": 4,
     "metadata": {},
     "output_type": "execute_result"
    }
   ],
   "source": [
    "nums = [-1,-100,3,99]\n",
    "k = 2\n",
    "rotate(nums, k)"
   ]
  },
  {
   "cell_type": "code",
   "execution_count": null,
   "metadata": {},
   "outputs": [],
   "source": []
  }
 ],
 "metadata": {
  "kernelspec": {
   "display_name": "Python 3",
   "language": "python",
   "name": "python3"
  },
  "language_info": {
   "codemirror_mode": {
    "name": "ipython",
    "version": 3
   },
   "file_extension": ".py",
   "mimetype": "text/x-python",
   "name": "python",
   "nbconvert_exporter": "python",
   "pygments_lexer": "ipython3",
   "version": "3.12.3"
  }
 },
 "nbformat": 4,
 "nbformat_minor": 2
}
