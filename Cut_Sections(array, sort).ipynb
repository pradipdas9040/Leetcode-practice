{
 "cells": [
  {
   "cell_type": "markdown",
   "metadata": {},
   "source": [
    "## Check if Grid can be Cut into Sections\n",
    "\n",
    "You are given an integer `n` representing the dimensions of an `n x n` grid, with the origin at the bottom-left corner of the grid. You are also given a 2D array of coordinates rectangles, where `rectangles[i]` is in the form `[startx, starty, endx, endy]`, representing a rectangle on the grid. Each rectangle is defined as follows:\n",
    "\n",
    "- `(startx, starty)`: The bottom-left corner of the rectangle.\n",
    "- `(endx, endy)`: The top-right corner of the rectangle.\n",
    "\n",
    "Note that the rectangles do not overlap. Your task is to determine if it is possible to make either two horizontal or two vertical cuts on the grid such that:\n",
    "\n",
    "- Each of the three resulting sections formed by the cuts contains at least one rectangle.\n",
    "- Every rectangle belongs to exactly one section.\n",
    "Return `true` if such cuts can be made; otherwise, return `false`.\n",
    "#### Example 1:\n",
    "\n",
    "- Input: n = 5, rectangles = [[1,0,5,2],[0,2,2,4],[3,2,5,3],[0,4,4,5]]\n",
    "- Output: true\n",
    "- Explanation: The grid is shown in the diagram. We can make horizontal cuts at y = 2 and y = 4. Hence, output is true.\n",
    "\n",
    "![Alt text](https://assets.leetcode.com/uploads/2024/10/23/tt1drawio.png \"a title\")\n",
    "\n",
    "#### Example 2:\n",
    "- Input: n = 4, rectangles = [[0,2,2,4],[1,0,3,2],[2,2,3,4],[3,0,4,2],[3,2,4,4]]\n",
    "- Output: false\n",
    "- Explanation: We cannot make two horizontal or two vertical cuts that satisfy the conditions. Hence, output is false.\n",
    "\n"
   ]
  },
  {
   "cell_type": "code",
   "execution_count": 1,
   "metadata": {},
   "outputs": [],
   "source": [
    "def checkValidCuts(n, rectangles):\n",
    "    x_direction, y_direction = [], []\n",
    "\n",
    "    for x1, y1, x2, y2 in rectangles:\n",
    "        x_direction.append([x1, x2])\n",
    "        y_direction.append([y1, y2])\n",
    "\n",
    "    x_direction, y_direction = sorted(x_direction), sorted(y_direction)\n",
    "\n",
    "    direction_marge = [x_direction[0]]\n",
    "    for start, end in x_direction:\n",
    "        if start < direction_marge[-1][1]:\n",
    "            direction_marge[-1][1] = max(end, direction_marge[-1][1])\n",
    "        else:\n",
    "            direction_marge.append([start, end])\n",
    "\n",
    "    cuts = len(direction_marge)\n",
    "\n",
    "    if cuts < 3:\n",
    "        direction_marge = [y_direction[0]]\n",
    "        for start, end in y_direction:\n",
    "            if start < direction_marge[-1][1]:\n",
    "                direction_marge[-1][1] = max(end, direction_marge[-1][1])\n",
    "            else:\n",
    "                direction_marge.append([start, end])\n",
    "\n",
    "        cuts = len(direction_marge)\n",
    "    if (cuts >= 3) & (direction_marge[-1][1] <= n):\n",
    "        return True\n",
    "    else:\n",
    "        return False"
   ]
  },
  {
   "cell_type": "code",
   "execution_count": 2,
   "metadata": {},
   "outputs": [
    {
     "data": {
      "text/plain": [
       "True"
      ]
     },
     "execution_count": 2,
     "metadata": {},
     "output_type": "execute_result"
    }
   ],
   "source": [
    "n = 5\n",
    "rectangles = [[1,0,5,2],[0,2,2,4],[3,2,5,3],[0,4,4,5]]\n",
    "checkValidCuts(n, rectangles)"
   ]
  },
  {
   "cell_type": "code",
   "execution_count": 3,
   "metadata": {},
   "outputs": [
    {
     "data": {
      "text/plain": [
       "False"
      ]
     },
     "execution_count": 3,
     "metadata": {},
     "output_type": "execute_result"
    }
   ],
   "source": [
    "n = 4\n",
    "rectangles = [[0,2,2,4],[1,0,3,2],[2,2,3,4],[3,0,4,2],[3,2,4,4]]\n",
    "checkValidCuts(n, rectangles)"
   ]
  },
  {
   "cell_type": "code",
   "execution_count": null,
   "metadata": {},
   "outputs": [],
   "source": []
  }
 ],
 "metadata": {
  "kernelspec": {
   "display_name": "Python 3",
   "language": "python",
   "name": "python3"
  },
  "language_info": {
   "codemirror_mode": {
    "name": "ipython",
    "version": 3
   },
   "file_extension": ".py",
   "mimetype": "text/x-python",
   "name": "python",
   "nbconvert_exporter": "python",
   "pygments_lexer": "ipython3",
   "version": "3.12.3"
  }
 },
 "nbformat": 4,
 "nbformat_minor": 2
}
