{
 "cells": [
  {
   "cell_type": "markdown",
   "metadata": {},
   "source": [
    "## Valid Palindrome\n",
    "\n",
    "A phrase is a palindrome if, after converting all uppercase letters into lowercase letters and removing all non-alphanumeric characters, it reads the same forward and backward. Alphanumeric characters include letters and numbers.\n",
    "\n",
    "Given a string `s`, return `true` if it is a palindrome, or false otherwise.\n",
    "\n",
    "#### Example 1:\n",
    "\n",
    "- Input: s = \"A man, a plan, a canal: Panama\"\n",
    "- Output: true\n",
    "- Explanation: \n",
    "    ```plaintext[]\n",
    "    \"amanaplanacanalpanama\" is a palindrome.\n",
    "    ```"
   ]
  },
  {
   "cell_type": "code",
   "execution_count": 1,
   "metadata": {},
   "outputs": [],
   "source": [
    "def check_palindrome(s, mid, mid_1):\n",
    "    left, right = mid, mid_1\n",
    "    while left > -1 and right < len(s)+1:\n",
    "        if s[left] == s[right]:\n",
    "            left -= 1\n",
    "            right += 1\n",
    "        else:\n",
    "            left += 1\n",
    "            right -= 1\n",
    "            break\n",
    "    if right - left - 1 == len(s):\n",
    "        return True\n",
    "    else:\n",
    "        return False\n",
    "\n",
    "def isPalindrome(s: str) -> bool:\n",
    "    s = s.lower()\n",
    "    s_str = ''\n",
    "    for i in list(s):\n",
    "        if (i.isalpha() or i.isnumeric()):\n",
    "            s_str += i\n",
    "\n",
    "    if len(s_str) == 0:\n",
    "        return True\n",
    "\n",
    "    n = len(s_str)\n",
    "    if n % 2 == 0:\n",
    "        return check_palindrome(s_str, n//2-1, n//2)\n",
    "    else:\n",
    "        return check_palindrome(s_str, n//2, n//2)"
   ]
  },
  {
   "cell_type": "code",
   "execution_count": 2,
   "metadata": {},
   "outputs": [
    {
     "data": {
      "text/plain": [
       "True"
      ]
     },
     "execution_count": 2,
     "metadata": {},
     "output_type": "execute_result"
    }
   ],
   "source": [
    "s = \"A man, a plan, a canal: Panama\"\n",
    "isPalindrome(s)"
   ]
  },
  {
   "cell_type": "code",
   "execution_count": 3,
   "metadata": {},
   "outputs": [
    {
     "data": {
      "text/plain": [
       "False"
      ]
     },
     "execution_count": 3,
     "metadata": {},
     "output_type": "execute_result"
    }
   ],
   "source": [
    "s = \"race a car\"\n",
    "isPalindrome(s)"
   ]
  },
  {
   "cell_type": "code",
   "execution_count": 4,
   "metadata": {},
   "outputs": [
    {
     "data": {
      "text/plain": [
       "True"
      ]
     },
     "execution_count": 4,
     "metadata": {},
     "output_type": "execute_result"
    }
   ],
   "source": [
    "s = s = \" \"\n",
    "isPalindrome(s)"
   ]
  },
  {
   "cell_type": "code",
   "execution_count": 5,
   "metadata": {},
   "outputs": [],
   "source": [
    "def isPalindrome(s: str) -> bool:\n",
    "    s_cleaned = [ch.lower() for ch in s if ch.isalnum()]\n",
    "    left, right = 0, len(s_cleaned) - 1\n",
    "    while left < right:\n",
    "        if s_cleaned[left] != s_cleaned[right]:\n",
    "            return False\n",
    "        left += 1\n",
    "        right -= 1\n",
    "    return True"
   ]
  },
  {
   "cell_type": "code",
   "execution_count": null,
   "metadata": {},
   "outputs": [],
   "source": []
  }
 ],
 "metadata": {
  "kernelspec": {
   "display_name": "Python 3",
   "language": "python",
   "name": "python3"
  },
  "language_info": {
   "codemirror_mode": {
    "name": "ipython",
    "version": 3
   },
   "file_extension": ".py",
   "mimetype": "text/x-python",
   "name": "python",
   "nbconvert_exporter": "python",
   "pygments_lexer": "ipython3",
   "version": "3.12.3"
  }
 },
 "nbformat": 4,
 "nbformat_minor": 2
}
