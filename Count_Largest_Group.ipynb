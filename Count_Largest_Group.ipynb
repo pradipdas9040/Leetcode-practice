{
 "cells": [
  {
   "cell_type": "markdown",
   "metadata": {},
   "source": [
    "## Count Largest Group\n",
    "\n",
    "You are given an integer `n`.\n",
    "\n",
    "Each number from `1` to `n` is grouped according to the sum of its digits.\n",
    "\n",
    "Return the number of groups that have the largest size.\n",
    "\n",
    "#### Example 1:\n",
    "\n",
    "- Input: n = 13\n",
    "- Output: 4\n",
    "- Explanation: \n",
    "    ```plaintext[]\n",
    "    There are 9 groups in total, they are grouped according sum of its digits of numbers from 1 to 13:\n",
    "    [1,10], [2,11], [3,12], [4,13], [5], [6], [7], [8], [9].\n",
    "    There are 4 groups with largest size.\n",
    "    ```"
   ]
  },
  {
   "cell_type": "code",
   "execution_count": 1,
   "metadata": {},
   "outputs": [],
   "source": [
    "from collections import Counter"
   ]
  },
  {
   "cell_type": "code",
   "execution_count": 2,
   "metadata": {},
   "outputs": [],
   "source": [
    "def countLargestGroup(n: int) -> int:\n",
    "        nums = list(map(lambda x: sum(map(int, str(x))), range(1, n+1)))\n",
    "        cnt = Counter(nums)\n",
    "        val_cnt = Counter(cnt.values())\n",
    "        max_val = max(val_cnt.keys())\n",
    "        return val_cnt[max_val]"
   ]
  },
  {
   "cell_type": "code",
   "execution_count": 3,
   "metadata": {},
   "outputs": [
    {
     "data": {
      "text/plain": [
       "4"
      ]
     },
     "execution_count": 3,
     "metadata": {},
     "output_type": "execute_result"
    }
   ],
   "source": [
    "n = 13\n",
    "countLargestGroup(n)"
   ]
  },
  {
   "cell_type": "code",
   "execution_count": 4,
   "metadata": {},
   "outputs": [
    {
     "data": {
      "text/plain": [
       "2"
      ]
     },
     "execution_count": 4,
     "metadata": {},
     "output_type": "execute_result"
    }
   ],
   "source": [
    "n = 2\n",
    "countLargestGroup(n)"
   ]
  },
  {
   "cell_type": "code",
   "execution_count": null,
   "metadata": {},
   "outputs": [],
   "source": []
  }
 ],
 "metadata": {
  "kernelspec": {
   "display_name": "Python 3",
   "language": "python",
   "name": "python3"
  },
  "language_info": {
   "codemirror_mode": {
    "name": "ipython",
    "version": 3
   },
   "file_extension": ".py",
   "mimetype": "text/x-python",
   "name": "python",
   "nbconvert_exporter": "python",
   "pygments_lexer": "ipython3",
   "version": "3.12.3"
  }
 },
 "nbformat": 4,
 "nbformat_minor": 2
}
