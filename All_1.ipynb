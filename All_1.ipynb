{
 "cells": [
  {
   "cell_type": "markdown",
   "metadata": {},
   "source": [
    "### Minimum Operations to Make Binary Array Elements Equal to One I\n",
    "\n",
    "You are given a binary array nums.\n",
    "\n",
    "You can do the following operation on the array any number of times (possibly zero):\n",
    "\n",
    "Choose any 3 consecutive elements from the array and flip all of them.\n",
    "Flipping an element means changing its value from 0 to 1, and from 1 to 0.\n",
    "\n",
    "Return the minimum number of operations required to make all elements in nums equal to 1. If it is impossible, return -1.\n",
    "\n",
    "\n",
    "\n",
    "#### Example 1:\n",
    "\n",
    "- Input: nums = [0,1,1,1,0,0]\n",
    "- Output: 3\n",
    "\n",
    "#### Explanation:\n",
    "```plaintext\n",
    "We can do the following operations:\n",
    "\n",
    "Choose the elements at indices 0, 1 and 2. The resulting array is nums = [1,0,0,1,0,0].\n",
    "Choose the elements at indices 1, 2 and 3. The resulting array is nums = [1,1,1,0,0,0].\n",
    "Choose the elements at indices 3, 4 and 5. The resulting array is nums = [1,1,1,1,1,1].\n",
    "```"
   ]
  },
  {
   "cell_type": "code",
   "execution_count": 1,
   "metadata": {},
   "outputs": [],
   "source": [
    "def minOperations(nums):\n",
    "    try:\n",
    "        count = 0\n",
    "        for i in range(len(nums)):\n",
    "            if nums[i] == 0:\n",
    "                for j in range(i, i+3):\n",
    "                    nums[j] ^= 1\n",
    "                count += 1\n",
    "        return count\n",
    "    except:\n",
    "        return -1"
   ]
  },
  {
   "cell_type": "code",
   "execution_count": 2,
   "metadata": {},
   "outputs": [
    {
     "data": {
      "text/plain": [
       "3"
      ]
     },
     "execution_count": 2,
     "metadata": {},
     "output_type": "execute_result"
    }
   ],
   "source": [
    "nums = [0,1,1,1,0,0]\n",
    "minOperations(nums)"
   ]
  },
  {
   "cell_type": "code",
   "execution_count": 3,
   "metadata": {},
   "outputs": [
    {
     "data": {
      "text/plain": [
       "-1"
      ]
     },
     "execution_count": 3,
     "metadata": {},
     "output_type": "execute_result"
    }
   ],
   "source": [
    "nums = [0,1,1,1]\n",
    "minOperations(nums)"
   ]
  },
  {
   "cell_type": "code",
   "execution_count": null,
   "metadata": {},
   "outputs": [],
   "source": []
  }
 ],
 "metadata": {
  "kernelspec": {
   "display_name": "Python 3",
   "language": "python",
   "name": "python3"
  },
  "language_info": {
   "codemirror_mode": {
    "name": "ipython",
    "version": 3
   },
   "file_extension": ".py",
   "mimetype": "text/x-python",
   "name": "python",
   "nbconvert_exporter": "python",
   "pygments_lexer": "ipython3",
   "version": "3.12.3"
  }
 },
 "nbformat": 4,
 "nbformat_minor": 2
}
