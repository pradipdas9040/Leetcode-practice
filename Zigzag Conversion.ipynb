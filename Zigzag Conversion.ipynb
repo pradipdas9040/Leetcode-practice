{
 "cells": [
  {
   "cell_type": "markdown",
   "metadata": {},
   "source": [
    "## Zigzag Conversion\n",
    "\n",
    "The string \"PAYPALISHIRING\" is written in a zigzag pattern on a given number of rows like this: (you may want to display this pattern in a fixed font for better legibility)\n",
    "``` vbnet[]\n",
    "P   A   H   N\n",
    "A P L S I I G\n",
    "Y   I   R\n",
    "```\n",
    "And then read line by line: \"PAHNAPLSIIGYIR\"\n",
    "\n",
    "Write the code that will take a string and make this conversion given a number of rows:\n",
    "```\n",
    "string convert(string s, int numRows);\n",
    "```\n",
    "#### Example 1:\n",
    "\n",
    "- Input: s = \"PAYPALISHIRING\", numRows = 3\n",
    "- Output: \"PAHNAPLSIIGYIR\""
   ]
  },
  {
   "cell_type": "code",
   "execution_count": 1,
   "metadata": {},
   "outputs": [],
   "source": [
    "from collections import defaultdict, deque\n",
    "import heapq "
   ]
  },
  {
   "cell_type": "code",
   "execution_count": 2,
   "metadata": {},
   "outputs": [],
   "source": [
    "\n",
    "def convert(s, numRows):\n",
    "        if numRows ==1:\n",
    "             return s\n",
    "        elif numRows == 2:\n",
    "            rows = [[] for _ in range(numRows)]\n",
    "\n",
    "            for i, item in enumerate(list(s)):\n",
    "                if i%2 == 0:\n",
    "                    rows[0].append(item)\n",
    "                else:\n",
    "                    rows[1].append(item)\n",
    "\n",
    "            string = ''\n",
    "            for row in rows:\n",
    "                string += ''.join(row)\n",
    "            return string\n",
    "\n",
    "        else:\n",
    "            queue = deque(list(s))\n",
    "\n",
    "            rows = [[] for _ in range(numRows)]\n",
    "\n",
    "            i, j = 0, 1\n",
    "            while queue:\n",
    "                item = queue.popleft()\n",
    "                if (i < numRows) & (j%2 == 1) :\n",
    "                    rows[i].append(item)\n",
    "                    i += 1\n",
    "                    \n",
    "                    if i == numRows:\n",
    "                        j += 1\n",
    "                        i -= 2\n",
    "                        continue\n",
    "                    \n",
    "                if (i > 0) & (j%2 == 0):\n",
    "                    rows[i].append(item)\n",
    "                    i -= 1\n",
    "                    if i == 0:\n",
    "                        j += 1\n",
    "            string = ''\n",
    "            for row in rows:\n",
    "                string += ''.join(row)\n",
    "\n",
    "            return string"
   ]
  },
  {
   "cell_type": "code",
   "execution_count": 3,
   "metadata": {},
   "outputs": [
    {
     "data": {
      "text/plain": [
       "'PAHNAPLSIIGYIR'"
      ]
     },
     "execution_count": 3,
     "metadata": {},
     "output_type": "execute_result"
    }
   ],
   "source": [
    "s = \"PAYPALISHIRING\"\n",
    "numRows = 3\n",
    "\n",
    "convert(s, numRows)"
   ]
  },
  {
   "cell_type": "code",
   "execution_count": 4,
   "metadata": {},
   "outputs": [
    {
     "data": {
      "text/plain": [
       "'ACB'"
      ]
     },
     "execution_count": 4,
     "metadata": {},
     "output_type": "execute_result"
    }
   ],
   "source": [
    "s = \"ABC\"\n",
    "numRows = 2\n",
    "\n",
    "convert(s, numRows)"
   ]
  },
  {
   "cell_type": "code",
   "execution_count": null,
   "metadata": {},
   "outputs": [],
   "source": []
  }
 ],
 "metadata": {
  "kernelspec": {
   "display_name": "Python 3",
   "language": "python",
   "name": "python3"
  },
  "language_info": {
   "codemirror_mode": {
    "name": "ipython",
    "version": 3
   },
   "file_extension": ".py",
   "mimetype": "text/x-python",
   "name": "python",
   "nbconvert_exporter": "python",
   "pygments_lexer": "ipython3",
   "version": "3.12.3"
  }
 },
 "nbformat": 4,
 "nbformat_minor": 2
}
